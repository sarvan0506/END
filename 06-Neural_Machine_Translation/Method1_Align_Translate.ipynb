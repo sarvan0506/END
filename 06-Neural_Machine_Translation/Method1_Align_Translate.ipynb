{
  "nbformat": 4,
  "nbformat_minor": 0,
  "metadata": {
    "colab": {
      "name": "Assignment10_Part1.ipynb",
      "provenance": []
    },
    "kernelspec": {
      "name": "python3",
      "display_name": "Python 3"
    },
    "accelerator": "GPU"
  },
  "cells": [
    {
      "cell_type": "markdown",
      "metadata": {
        "id": "c0dc_UStLiWj"
      },
      "source": [
        "# Neural Machine Translation by Jointly Learning to Align and Translate\r\n",
        "\r\n",
        "In this third notebook on sequence-to-sequence models using PyTorch and TorchText, we'll be implementing the model from [Neural Machine Translation by Jointly Learning to Align and Translate](https://arxiv.org/abs/1409.0473). This model achives our best perplexity yet, ~27 compared to ~34 for the previous model.\r\n",
        "\r\n",
        "## Introduction\r\n",
        "\r\n",
        "As a reminder, here is the general encoder-decoder model:\r\n",
        "\r\n",
        "![](https://github.com/bentrevett/pytorch-seq2seq/blob/master/assets/seq2seq1.png?raw=1)\r\n",
        "\r\n",
        "In the previous model, our architecture was set-up in a way to reduce \"information compression\" by explicitly passing the context vector, $z$, to the decoder at every time-step and by passing both the context vector and embedded input word, $d(y_t)$, along with the hidden state, $s_t$, to the linear layer, $f$, to make a prediction.\r\n",
        "\r\n",
        "![](https://github.com/bentrevett/pytorch-seq2seq/blob/master/assets/seq2seq7.png?raw=1)\r\n",
        "\r\n",
        "Even though we have reduced some of this compression, our context vector still needs to contain all of the information about the source sentence. The model implemented in this notebook avoids this compression by allowing the decoder to look at the entire source sentence (via its hidden states) at each decoding step! How does it do this? It uses *attention*. \r\n",
        "\r\n",
        "Attention works by first, calculating an attention vector, $a$, that is the length of the source sentence. The attention vector has the property that each element is between 0 and 1, and the entire vector sums to 1. We then calculate a weighted sum of our source sentence hidden states, $H$, to get a weighted source vector, $w$. \r\n",
        "\r\n",
        "$$w = \\sum_{i}a_ih_i$$\r\n",
        "\r\n",
        "We calculate a new weighted source vector every time-step when decoding, using it as input to our decoder RNN as well as the linear layer to make a prediction. We'll explain how to do all of this during the session.\r\n",
        "\r\n",
        "## Preparing Data\r\n",
        "\r\n",
        "Again, the preparation is similar to last time.\r\n",
        "\r\n",
        "First we import all the required modules."
      ]
    },
    {
      "cell_type": "code",
      "metadata": {
        "id": "UfbdwfJgEicN"
      },
      "source": [
        "import torch\r\n",
        "import torch.nn\r\n",
        "import torch.optim as optim\r\n",
        "import torch.nn.functional as F\r\n",
        "\r\n",
        "from torchtext.datasets import Multi30k\r\n",
        "from torchtext.data import Field, BucketIterator\r\n",
        "\r\n",
        "import spacy\r\n",
        "import numpy as np\r\n",
        "\r\n",
        "import random\r\n",
        "import math\r\n",
        "import time\r\n",
        "\r\n",
        "import matplotlib.pyplot as plt"
      ],
      "execution_count": 33,
      "outputs": []
    },
    {
      "cell_type": "markdown",
      "metadata": {
        "id": "IddQGGj0Mf8T"
      },
      "source": [
        "Set the random seeds for reproducability."
      ]
    },
    {
      "cell_type": "code",
      "metadata": {
        "id": "oUxkHeADMfOc"
      },
      "source": [
        "SEED = 1234\r\n",
        "\r\n",
        "random.seed(SEED)\r\n",
        "np.random.seed(SEED)\r\n",
        "torch.manual_seed(SEED)\r\n",
        "torch.cuda.manual_seed(SEED)\r\n",
        "torch.backends.cudnn.deterministic = True"
      ],
      "execution_count": 3,
      "outputs": []
    },
    {
      "cell_type": "markdown",
      "metadata": {
        "id": "IYsRvkn_MpI1"
      },
      "source": [
        "Load the English and German spaCy models."
      ]
    },
    {
      "cell_type": "code",
      "metadata": {
        "id": "e5dr_HOiFZcn"
      },
      "source": [
        "spacy_de = spacy.load('en')\r\n",
        "spacy_en = spacy.load('de')"
      ],
      "execution_count": 4,
      "outputs": []
    },
    {
      "cell_type": "markdown",
      "metadata": {
        "id": "unUfhdwLMtUU"
      },
      "source": [
        "We create the tokenizers."
      ]
    },
    {
      "cell_type": "code",
      "metadata": {
        "id": "1s0xzbUvFfET"
      },
      "source": [
        "def tokenize_de(text):\r\n",
        "    \"\"\"\r\n",
        "    Tokenizes German text from a string into a list of strings (tokens) and reverses it\r\n",
        "    \"\"\"\r\n",
        "    return [tok.text for tok in spacy_de.tokenizer(text)][::-1]\r\n",
        "\r\n",
        "def tokenize_en(text):\r\n",
        "    \"\"\"\r\n",
        "    Tokenizes English text from a string into a list of strings (tokens)\r\n",
        "    \"\"\"\r\n",
        "    return [tok.text for tok in spacy_en.tokenizer(text)]"
      ],
      "execution_count": 5,
      "outputs": []
    },
    {
      "cell_type": "markdown",
      "metadata": {
        "id": "89dP75NGMwkp"
      },
      "source": [
        "The fields remain the same as before."
      ]
    },
    {
      "cell_type": "code",
      "metadata": {
        "id": "7NcqYxUYGh9x"
      },
      "source": [
        "SRC = Field(\r\n",
        "    tokenize = tokenize_en,\r\n",
        "    init_token = '<sos>',\r\n",
        "    eos_token = '<eos>',\r\n",
        "    lower = True\r\n",
        ")\r\n",
        "\r\n",
        "TRG = Field(\r\n",
        "    tokenize = tokenize_de,\r\n",
        "    init_token = '<sos>',\r\n",
        "    eos_token = '<eos>',\r\n",
        "    lower = True\r\n",
        ")"
      ],
      "execution_count": 6,
      "outputs": []
    },
    {
      "cell_type": "markdown",
      "metadata": {
        "id": "eax8vnlCM0V8"
      },
      "source": [
        "Load the data."
      ]
    },
    {
      "cell_type": "code",
      "metadata": {
        "id": "xaQOd8L7Gn5y"
      },
      "source": [
        "train_data, valid_data, test_data = Multi30k.splits(exts = ('.en', '.de'), \r\n",
        "                                                    fields = (SRC, TRG))"
      ],
      "execution_count": 7,
      "outputs": []
    },
    {
      "cell_type": "markdown",
      "metadata": {
        "id": "XRomaiCiM26O"
      },
      "source": [
        "Build the vocabulary."
      ]
    },
    {
      "cell_type": "code",
      "metadata": {
        "id": "ruSntpWRG58Q"
      },
      "source": [
        "SRC.build_vocab(train_data, min_freq=2)\r\n",
        "TRG.build_vocab(train_data, min_freq=2)"
      ],
      "execution_count": 8,
      "outputs": []
    },
    {
      "cell_type": "code",
      "metadata": {
        "colab": {
          "base_uri": "https://localhost:8080/"
        },
        "id": "5Ba6GoYgG83N",
        "outputId": "9624d698-1325-44b5-a17d-c9006cd67a94"
      },
      "source": [
        "print(f\"Number of training examples: {len(train_data.examples)}\")\r\n",
        "print(f\"Number of validation examples: {len(valid_data.examples)}\")\r\n",
        "print(f\"Number of testing examples: {len(test_data.examples)}\")"
      ],
      "execution_count": 9,
      "outputs": [
        {
          "output_type": "stream",
          "text": [
            "Number of training examples: 29000\n",
            "Number of validation examples: 1014\n",
            "Number of testing examples: 1000\n"
          ],
          "name": "stdout"
        }
      ]
    },
    {
      "cell_type": "code",
      "metadata": {
        "colab": {
          "base_uri": "https://localhost:8080/"
        },
        "id": "iTpYztCkHB7L",
        "outputId": "975311a0-f661-4ea0-f255-2c5f93a56b60"
      },
      "source": [
        "print(vars(train_data.examples[0]))"
      ],
      "execution_count": 10,
      "outputs": [
        {
          "output_type": "stream",
          "text": [
            "{'src': ['two', 'young', ',', 'white', 'males', 'are', 'outside', 'near', 'many', 'bushes', '.'], 'trg': ['.', 'büsche', 'vieler', 'nähe', 'der', 'in', 'freien', 'm', 'i', 'sind', 'männer', 'weiße', 'junge', 'zwei']}\n"
          ],
          "name": "stdout"
        }
      ]
    },
    {
      "cell_type": "code",
      "metadata": {
        "colab": {
          "base_uri": "https://localhost:8080/"
        },
        "id": "rpIcM-0IH4A6",
        "outputId": "f0dd2807-56c1-4cee-ed53-6aceb4a7f864"
      },
      "source": [
        "print(f\"Unique tokens in source (de) vocabulary: {len(SRC.vocab)}\")\r\n",
        "print(f\"Unique tokens in target (en) vocabulary: {len(TRG.vocab)}\")"
      ],
      "execution_count": 11,
      "outputs": [
        {
          "output_type": "stream",
          "text": [
            "Unique tokens in source (de) vocabulary: 5923\n",
            "Unique tokens in target (en) vocabulary: 7873\n"
          ],
          "name": "stdout"
        }
      ]
    },
    {
      "cell_type": "markdown",
      "metadata": {
        "id": "A5eI1K-KM9q4"
      },
      "source": [
        "Define the device."
      ]
    },
    {
      "cell_type": "code",
      "metadata": {
        "colab": {
          "base_uri": "https://localhost:8080/"
        },
        "id": "qdsaCnsjH5KR",
        "outputId": "fc3a9325-c0fe-4cb1-886c-ad2b672239e5"
      },
      "source": [
        "device = torch.device('cuda' if torch.cuda.is_available() else 'cpu')\r\n",
        "device"
      ],
      "execution_count": 12,
      "outputs": [
        {
          "output_type": "execute_result",
          "data": {
            "text/plain": [
              "device(type='cuda')"
            ]
          },
          "metadata": {
            "tags": []
          },
          "execution_count": 12
        }
      ]
    },
    {
      "cell_type": "code",
      "metadata": {
        "id": "URJewj3IHvin"
      },
      "source": [
        "\r\n",
        "BATCH_SIZE = 128\r\n",
        "\r\n",
        "train_iterator, valid_iterator, test_iterator = BucketIterator.splits(\r\n",
        "    (train_data, valid_data, test_data), \r\n",
        "    batch_size = BATCH_SIZE, \r\n",
        "    device = device)"
      ],
      "execution_count": 13,
      "outputs": []
    },
    {
      "cell_type": "markdown",
      "metadata": {
        "id": "PUxMZyocNFf9"
      },
      "source": [
        "## Building the Seq2Seq Model\r\n",
        "\r\n",
        "### Encoder\r\n",
        "\r\n",
        "First, we'll build the encoder. Similar to the previous model, we only use a single layer GRU, however we now use a *bidirectional RNN*. With a bidirectional RNN, we have two RNNs in each layer. A *forward RNN* going over the embedded sentence from left to right (shown below in green), and a *backward RNN* going over the embedded sentence from right to left (teal). All we need to do in code is set `bidirectional = True` and then pass the embedded sentence to the RNN as before. \r\n",
        "\r\n",
        "![](https://github.com/bentrevett/pytorch-seq2seq/blob/master/assets/seq2seq8.png?raw=1)\r\n",
        "\r\n",
        "We now have:\r\n",
        "\r\n",
        "$$\\begin{align*}\r\n",
        "h_t^\\rightarrow &= \\text{EncoderGRU}^\\rightarrow(e(x_t^\\rightarrow),h_{t-1}^\\rightarrow)\\\\\r\n",
        "h_t^\\leftarrow &= \\text{EncoderGRU}^\\leftarrow(e(x_t^\\leftarrow),h_{t-1}^\\leftarrow)\r\n",
        "\\end{align*}$$\r\n",
        "\r\n",
        "Where $x_0^\\rightarrow = \\text{<sos>}, x_1^\\rightarrow = \\text{guten}$ and $x_0^\\leftarrow = \\text{<eos>}, x_1^\\leftarrow = \\text{morgen}$.\r\n",
        "\r\n",
        "As before, we only pass an input (`embedded`) to the RNN, which tells PyTorch to initialize both the forward and backward initial hidden states ($h_0^\\rightarrow$ and $h_0^\\leftarrow$, respectively) to a tensor of all zeros. We'll also get two context vectors, one from the forward RNN after it has seen the final word in the sentence, $z^\\rightarrow=h_T^\\rightarrow$, and one from the backward RNN after it has seen the first word in the sentence, $z^\\leftarrow=h_T^\\leftarrow$.\r\n",
        "\r\n",
        "The RNN returns `outputs` and `hidden`. \r\n",
        "\r\n",
        "`outputs` is of size **[src len, batch size, hid dim * num directions]** where the first `hid_dim` elements in the third axis are the hidden states from the top layer forward RNN, and the last `hid_dim` elements are hidden states from the top layer backward RNN. We can think of the third axis as being the forward and backward hidden states concatenated together other, i.e. $h_1 = [h_1^\\rightarrow; h_{T}^\\leftarrow]$, $h_2 = [h_2^\\rightarrow; h_{T-1}^\\leftarrow]$ and we can denote all encoder hidden states (forward and backwards concatenated together) as $H=\\{ h_1, h_2, ..., h_T\\}$.\r\n",
        "\r\n",
        "`hidden` is of size **[n layers * num directions, batch size, hid dim]**, where **[-2, :, :]** gives the top layer forward RNN hidden state after the final time-step (i.e. after it has seen the last word in the sentence) and **[-1, :, :]** gives the top layer backward RNN hidden state after the final time-step (i.e. after it has seen the first word in the sentence).\r\n",
        "\r\n",
        "As the decoder is not bidirectional, it only needs a single context vector, $z$, to use as its initial hidden state, $s_0$, and we currently have two, a forward and a backward one ($z^\\rightarrow=h_T^\\rightarrow$ and $z^\\leftarrow=h_T^\\leftarrow$, respectively). We solve this by concatenating the two context vectors together, passing them through a linear layer, $g$, and applying the $\\tanh$ activation function. \r\n",
        "\r\n",
        "$$z=\\tanh(g(h_T^\\rightarrow, h_T^\\leftarrow)) = \\tanh(g(z^\\rightarrow, z^\\leftarrow)) = s_0$$\r\n",
        "\r\n",
        "**Note**: this is actually a deviation from the paper. Instead, they feed only the first backward RNN hidden state through a linear layer to get the context vector/decoder initial hidden state. This doesn't seem to make sense to me, so we have changed it.\r\n",
        "\r\n",
        "As we want our model to look back over the whole of the source sentence we return `outputs`, the stacked forward and backward hidden states for every token in the source sentence. We also return `hidden`, which acts as our initial hidden state in the decoder."
      ]
    },
    {
      "cell_type": "code",
      "metadata": {
        "id": "Ky-XYovMIqjc"
      },
      "source": [
        "class Encoder(torch.nn.Module):\r\n",
        "\r\n",
        "  def __init__(self, input_dim, emb_dim, enc_hid_dim, dec_hid_dim, dropout):\r\n",
        "    super().__init__()\r\n",
        "    self.embedding = torch.nn.Embedding(input_dim, emb_dim)\r\n",
        "    self.rnn = torch.nn.GRU(emb_dim, enc_hid_dim, bidirectional = True)\r\n",
        "    self.fc = torch.nn.Linear(enc_hid_dim * 2, dec_hid_dim)\r\n",
        "    self.dropout = torch.nn.Dropout(dropout)\r\n",
        "\r\n",
        "  def forward(self, src):\r\n",
        "\r\n",
        "    # src -> [src len, batch size]\r\n",
        "\r\n",
        "    embedded = self.dropout(self.embedding(src))\r\n",
        "    # embedded -> [src len, batch size, emb_dim]\r\n",
        "\r\n",
        "    outputs, hidden = self.rnn(embedded)\r\n",
        "    # outputs -> [src len, batch size, enc_hid_dim * num_directions]\r\n",
        "    #         -> [src len, batch size, enc_hid_dim * 2]\r\n",
        "    # hidden -> [num_layers * num_directions, batch size, enc_hid_dim]\r\n",
        "    #        -> [2, batch size, enc_hid_dim]\r\n",
        "\r\n",
        "    concatenated = torch.cat((hidden[-2, :, :], hidden[-1, :, :]),dim=1)\r\n",
        "    # concatenated -> [batch size, enc_hid_dim * 2]\r\n",
        "\r\n",
        "    hidden = torch.tanh(self.fc(concatenated))\r\n",
        "    # hidden -> [batch size, dec_hid_him]\r\n",
        "\r\n",
        "    return outputs, hidden"
      ],
      "execution_count": 14,
      "outputs": []
    },
    {
      "cell_type": "markdown",
      "metadata": {
        "id": "5YJu-sKlNIk0"
      },
      "source": [
        "### Attention\r\n",
        "\r\n",
        "Next up is the attention layer. This will take in the previous hidden state of the decoder, $s_{t-1}$, and all of the stacked forward and backward hidden states from the encoder, $H$. The layer will output an attention vector, $a_t$, that is the length of the source sentence, each element is between 0 and 1 and the entire vector sums to 1.\r\n",
        "\r\n",
        "Intuitively, this layer takes what we have decoded so far, $s_{t-1}$, and all of what we have encoded, $H$, to produce a vector, $a_t$, that represents which words in the source sentence we should pay the most attention to in order to correctly predict the next word to decode, $\\hat{y}_{t+1}$. \r\n",
        "\r\n",
        "First, we calculate the *energy* between the previous decoder hidden state and the encoder hidden states. As our encoder hidden states are a sequence of $T$ tensors, and our previous decoder hidden state is a single tensor, the first thing we do is `repeat` the previous decoder hidden state $T$ times. We then calculate the energy, $E_t$, between them by concatenating them together and passing them through a linear layer (`attn`) and a $\\tanh$ activation function. \r\n",
        "\r\n",
        "$$E_t = \\tanh(\\text{attn}(s_{t-1}, H))$$ \r\n",
        "\r\n",
        "This can be thought of as calculating how well each encoder hidden state \"matches\" the previous decoder hidden state.\r\n",
        "\r\n",
        "We currently have a **[dec hid dim, src len]** tensor for each example in the batch. We want this to be **[src len]** for each example in the batch as the attention should be over the length of the source sentence. This is achieved by multiplying the `energy` by a **[1, dec hid dim]** tensor, $v$.\r\n",
        "\r\n",
        "$$\\hat{a}_t = v E_t$$\r\n",
        "\r\n",
        "We can think of $v$ as the weights for a weighted sum of the energy across all encoder hidden states. These weights tell us how much we should attend to each token in the source sequence. The parameters of $v$ are initialized randomly, but learned with the rest of the model via backpropagation. Note how $v$ is not dependent on time, and the same $v$ is used for each time-step of the decoding. We implement $v$ as a linear layer without a bias.\r\n",
        "\r\n",
        "Finally, we ensure the attention vector fits the constraints of having all elements between 0 and 1 and the vector summing to 1 by passing it through a $\\text{softmax}$ layer.\r\n",
        "\r\n",
        "$$a_t = \\text{softmax}(\\hat{a_t})$$\r\n",
        "\r\n",
        "This gives us the attention over the source sentence!\r\n",
        "\r\n",
        "Graphically, this looks something like below. This is for calculating the very first attention vector, where $s_{t-1} = s_0 = z$. The green/teal blocks represent the hidden states from both the forward and backward RNNs, and the attention computation is all done within the pink block.\r\n",
        "\r\n",
        "![](https://github.com/bentrevett/pytorch-seq2seq/blob/master/assets/seq2seq9.png?raw=1)"
      ]
    },
    {
      "cell_type": "code",
      "metadata": {
        "id": "kQxtZpQrIu5n"
      },
      "source": [
        "class Attention(torch.nn.Module):\r\n",
        "\r\n",
        "  def __init__(self, enc_hid_dim, dec_hid_dim):\r\n",
        "    super().__init__()\r\n",
        "    self.attn = torch.nn.Linear((enc_hid_dim * 2) + dec_hid_dim, dec_hid_dim)\r\n",
        "    self.v = torch.nn.Linear(dec_hid_dim, 1, bias=False)\r\n",
        "\r\n",
        "  def forward(self, encoder_outputs, hidden):\r\n",
        "\r\n",
        "    # encoder_outputs -> [src len, batch size, enc_hid_dim * 2]\r\n",
        "    # hidden -> [batch size, dec_hid_dim]\r\n",
        "\r\n",
        "    src_len = encoder_outputs.shape[0]\r\n",
        "    batch_size = encoder_outputs.shape[1]\r\n",
        "\r\n",
        "    # Repeat hidden state for each time step in src len\r\n",
        "    hidden = hidden.unsqueeze(0).repeat(src_len, 1, 1)\r\n",
        "    # hidden -> [src len, batch size, dec_hid_dim]\r\n",
        "\r\n",
        "    concatenated = torch.cat((encoder_outputs, hidden), dim=2)\r\n",
        "    # concatenated -> [src len, batch size, (enc_hid_dim * 2) + dec_hid_dim]\r\n",
        "\r\n",
        "    energy = torch.tanh(self.attn(concatenated))\r\n",
        "    # energy -> [src len, batch size, dec_hid_dim]\r\n",
        "\r\n",
        "    attention = self.v(energy).squeeze(2)\r\n",
        "    # attention -> [src len, batch size]\r\n",
        "\r\n",
        "    return F.softmax(attention, dim=0)\r\n",
        "    # return dim -> [src len, batch size]\r\n",
        "    # the `src len` values of each item in batch add up to 1 (because of softmax)"
      ],
      "execution_count": 15,
      "outputs": []
    },
    {
      "cell_type": "markdown",
      "metadata": {
        "id": "VociCBJkNO_9"
      },
      "source": [
        "### Decoder\r\n",
        "\r\n",
        "Next up is the decoder. \r\n",
        "\r\n",
        "The decoder contains the attention layer, `attention`, which takes the previous hidden state, $s_{t-1}$, all of the encoder hidden states, $H$, and returns the attention vector, $a_t$.\r\n",
        "\r\n",
        "We then use this attention vector to create a weighted source vector, $w_t$, denoted by `weighted`, which is a weighted sum of the encoder hidden states, $H$, using $a_t$ as the weights.\r\n",
        "\r\n",
        "$$w_t = a_t H$$\r\n",
        "\r\n",
        "The embedded input word, $d(y_t)$, the weighted source vector, $w_t$, and the previous decoder hidden state, $s_{t-1}$, are then all passed into the decoder RNN, with $d(y_t)$ and $w_t$ being concatenated together.\r\n",
        "\r\n",
        "$$s_t = \\text{DecoderGRU}(d(y_t), w_t, s_{t-1})$$\r\n",
        "\r\n",
        "We then pass $d(y_t)$, $w_t$ and $s_t$ through the linear layer, $f$, to make a prediction of the next word in the target sentence, $\\hat{y}_{t+1}$. This is done by concatenating them all together.\r\n",
        "\r\n",
        "$$\\hat{y}_{t+1} = f(d(y_t), w_t, s_t)$$\r\n",
        "\r\n",
        "The image below shows decoding the first word in an example translation.\r\n",
        "\r\n",
        "![](https://github.com/bentrevett/pytorch-seq2seq/blob/master/assets/seq2seq10.png?raw=1)\r\n",
        "\r\n",
        "The green/teal blocks show the forward/backward encoder RNNs which output $H$, the red block shows the context vector, $z = h_T = \\tanh(g(h^\\rightarrow_T,h^\\leftarrow_T)) = \\tanh(g(z^\\rightarrow, z^\\leftarrow)) = s_0$, the blue block shows the decoder RNN which outputs $s_t$, the purple block shows the linear layer, $f$, which outputs $\\hat{y}_{t+1}$ and the orange block shows the calculation of the weighted sum over $H$ by $a_t$ and outputs $w_t$. Not shown is the calculation of $a_t$."
      ]
    },
    {
      "cell_type": "code",
      "metadata": {
        "id": "363CaFbfIxD0"
      },
      "source": [
        "class Decoder(torch.nn.Module):\r\n",
        "\r\n",
        "  def __init__(self, output_dim, emb_dim, enc_hid_dim, dec_hid_dim, dropout, attention):\r\n",
        "    super().__init__()\r\n",
        "\r\n",
        "    self.output_dim = output_dim\r\n",
        "\r\n",
        "    self.embedding = torch.nn.Embedding(output_dim, emb_dim)\r\n",
        "    self.rnn = torch.nn.GRU(emb_dim + (2 * enc_hid_dim), dec_hid_dim)\r\n",
        "    self.fc = torch.nn.Linear(emb_dim + dec_hid_dim + (2 * enc_hid_dim), output_dim)\r\n",
        "    self.dropout = torch.nn.Dropout(dropout)\r\n",
        "    self.attn = attention\r\n",
        "\r\n",
        "  def forward(self, input, encoder_outputs, hidden):\r\n",
        "    \r\n",
        "    # input -> [batch size]\r\n",
        "    # encoder_outputs -> [src len, batch size, enc_hid_dim * 2]\r\n",
        "    # hidden -> [batch size, dec_hid_dim]\r\n",
        "\r\n",
        "    input = input.unsqueeze(0)\r\n",
        "    # input -> [1, batch size]\r\n",
        "\r\n",
        "    embedded = self.dropout(self.embedding(input))\r\n",
        "    # embedded -> [1, batch size, emb_dim]\r\n",
        "\r\n",
        "    a = self.attn(encoder_outputs, hidden)\r\n",
        "    # a -> [src len, batch size]\r\n",
        "\r\n",
        "    encoder_outputs = encoder_outputs.permute(1, 0, 2)\r\n",
        "    # encoder_outputs -> [batch size, src len, enc_hid_dim * 2]\r\n",
        "\r\n",
        "    a = a.permute(1, 0).unsqueeze(1)\r\n",
        "    # a -> [batch size, 1, src len]\r\n",
        "\r\n",
        "    weighted = torch.bmm(a, encoder_outputs).permute(1, 0, 2)\r\n",
        "    # weighted -> [1, batch size, enc_hid_dim * 2]\r\n",
        "\r\n",
        "    outputs, hidden = self.rnn(torch.cat((embedded, weighted), dim=2), hidden.unsqueeze(0))\r\n",
        "    # outputs -> [1, batch size, dec_hid_dim]\r\n",
        "    # hidden -> [1, batch size, dec_hid_dim]\r\n",
        "\r\n",
        "    fc_input = torch.cat((embedded, outputs, weighted), dim=2)\r\n",
        "    # fc_input -> [1, batch size, emb_dim + dec_hid_dim + (2 * enc_hid_dim)]\r\n",
        "\r\n",
        "    predictions = self.fc(fc_input).squeeze(0)\r\n",
        "    # predictions -> [batch size, output_dim]\r\n",
        "\r\n",
        "    return predictions, hidden.squeeze(0)\r\n",
        "    # return dimensions\r\n",
        "    # predictions -> [batch size, output_dim]\r\n",
        "    # hidden -> [batch size, dec_hid_dim]"
      ],
      "execution_count": 16,
      "outputs": []
    },
    {
      "cell_type": "markdown",
      "metadata": {
        "id": "lBkoSAOkNOKY"
      },
      "source": [
        "### Seq2Seq\r\n",
        "\r\n",
        "This is the first model where we don't have to have the encoder RNN and decoder RNN have the same hidden dimensions, however the encoder has to be bidirectional. This requirement can be removed by changing all occurences of `enc_dim * 2` to `enc_dim * 2 if encoder_is_bidirectional else enc_dim`. \r\n",
        "\r\n",
        "This seq2seq encapsulator is similar to the last two. The only difference is that the `encoder` returns both the final hidden state (which is the final hidden state from both the forward and backward encoder RNNs passed through a linear layer) to be used as the initial hidden state for the decoder, as well as every hidden state (which are the forward and backward hidden states stacked on top of each other). We also need to ensure that `hidden` and `encoder_outputs` are passed to the decoder. \r\n",
        "\r\n",
        "Briefly going over all of the steps:\r\n",
        "- the `outputs` tensor is created to hold all predictions, $\\hat{Y}$\r\n",
        "- the source sequence, $X$, is fed into the encoder to receive $z$ and $H$\r\n",
        "- the initial decoder hidden state is set to be the `context` vector, $s_0 = z = h_T$\r\n",
        "- we use a batch of `<sos>` tokens as the first `input`, $y_1$\r\n",
        "- we then decode within a loop:\r\n",
        "  - inserting the input token $y_t$, previous hidden state, $s_{t-1}$, and all encoder outputs, $H$, into the decoder\r\n",
        "  - receiving a prediction, $\\hat{y}_{t+1}$, and a new hidden state, $s_t$\r\n",
        "  - we then decide if we are going to teacher force or not, setting the next input as appropriate"
      ]
    },
    {
      "cell_type": "code",
      "metadata": {
        "id": "UwSL9NNyI0aS"
      },
      "source": [
        "class Seq2Seq(torch.nn.Module):\r\n",
        "\r\n",
        "  def __init__(self, encoder, decoder, device):\r\n",
        "    super().__init__()\r\n",
        "\r\n",
        "    self.encoder = encoder\r\n",
        "    self.decoder = decoder\r\n",
        "    self.device = device\r\n",
        "\r\n",
        "  def forward(self, src, trg, teacher_forcing_ratio=0.5):\r\n",
        "\r\n",
        "    # src -> [src len, batch size]\r\n",
        "    # trg -> [trg len, batch size]\r\n",
        "\r\n",
        "    batch_size = trg.shape[1]\r\n",
        "    trg_len = trg.shape[0]\r\n",
        "    trg_vocab_size = self.decoder.output_dim\r\n",
        "\r\n",
        "    # decoder outputs\r\n",
        "    outputs = torch.zeros(trg_len, batch_size, trg_vocab_size).to(self.device)\r\n",
        "\r\n",
        "    # pass src through encoder\r\n",
        "    encoder_outputs, hidden = self.encoder(src)\r\n",
        "    # encoder_outputs -> [src len, batch size, enc_hid_dim * 2]\r\n",
        "    # hidden -> [batch size, dec_hid_him]\r\n",
        "\r\n",
        "    input = trg[0, :]\r\n",
        "    # input -> [batch size]\r\n",
        "\r\n",
        "    for t in range(1, trg_len):\r\n",
        "\r\n",
        "      output, hidden = self.decoder(input, encoder_outputs, hidden)\r\n",
        "      # output -> [batch size, output_dim]\r\n",
        "      # hidden -> [batch size, dec_hid_dim]\r\n",
        "\r\n",
        "      outputs[t] = output\r\n",
        "\r\n",
        "      teacher_force = random.random() < teacher_forcing_ratio\r\n",
        "\r\n",
        "      top1 = output.argmax(1)\r\n",
        "      # top1 -> [batch size]\r\n",
        "\r\n",
        "      input = trg[t] if teacher_force else top1\r\n",
        "\r\n",
        "    return outputs"
      ],
      "execution_count": 17,
      "outputs": []
    },
    {
      "cell_type": "markdown",
      "metadata": {
        "id": "ocCdICWkNaSO"
      },
      "source": [
        "Initialize weights to the model"
      ]
    },
    {
      "cell_type": "code",
      "metadata": {
        "id": "SL_wbJJJI2kW"
      },
      "source": [
        "def init_weights(m):\r\n",
        "  for name, param in m.named_parameters():\r\n",
        "    if 'weight' in name:\r\n",
        "      torch.nn.init.normal_(param.data, mean=0, std=0.01)\r\n",
        "    else:\r\n",
        "      torch.nn.init.constant_(param.data, 0)\r\n",
        "\r\n",
        "def count_parameters(model):\r\n",
        "  return sum(p.numel() for p in model.parameters() if p.requires_grad)\r\n",
        "\r\n",
        "def epoch_time(start_time, end_time):\r\n",
        "  elapsed_time = end_time - start_time\r\n",
        "  elapsed_mins = int(elapsed_time / 60)\r\n",
        "  elapsed_secs = int(elapsed_time - (elapsed_mins * 60))\r\n",
        "  return elapsed_mins, elapsed_secs"
      ],
      "execution_count": 18,
      "outputs": []
    },
    {
      "cell_type": "markdown",
      "metadata": {
        "id": "xLwq7A6UNY9-"
      },
      "source": [
        "## Training the Seq2Seq Model\r\n",
        "\r\n",
        "\r\n",
        "We initialise our parameters, encoder, decoder and seq2seq model (placing it on the GPU if we have one). "
      ]
    },
    {
      "cell_type": "code",
      "metadata": {
        "colab": {
          "base_uri": "https://localhost:8080/"
        },
        "id": "5vfZlMTXI53-",
        "outputId": "7fc85b42-d29b-46f4-a551-d47bab69ef8c"
      },
      "source": [
        "INPUT_DIM = len(SRC.vocab)\r\n",
        "OUTPUT_DIM = len(TRG.vocab)\r\n",
        "ENC_EMB_DIM = 128\r\n",
        "DEC_EMB_DIM = 128\r\n",
        "ENC_HID_DIM = 128\r\n",
        "DEC_HID_HIM = 128\r\n",
        "\r\n",
        "DROPOUT = 0.2\r\n",
        "\r\n",
        "enc = Encoder(INPUT_DIM, ENC_EMB_DIM, ENC_HID_DIM, DEC_HID_HIM, DROPOUT)\r\n",
        "attn = Attention(ENC_HID_DIM, DEC_HID_HIM)\r\n",
        "dec = Decoder(OUTPUT_DIM, DEC_EMB_DIM, ENC_HID_DIM, DEC_HID_HIM, DROPOUT, attn)\r\n",
        "\r\n",
        "model = Seq2Seq(enc, dec, device).to(device)\r\n",
        "model.apply(init_weights)\r\n",
        "\r\n",
        "print(f'Model parameters: {count_parameters(model):,}')"
      ],
      "execution_count": 19,
      "outputs": [
        {
          "output_type": "stream",
          "text": [
            "Model parameters: 6,282,561\n"
          ],
          "name": "stdout"
        }
      ]
    },
    {
      "cell_type": "code",
      "metadata": {
        "colab": {
          "base_uri": "https://localhost:8080/"
        },
        "id": "bk4pwE5iJqOZ",
        "outputId": "d647c4cd-01d5-4c05-c55c-664d04e03415"
      },
      "source": [
        "model"
      ],
      "execution_count": 20,
      "outputs": [
        {
          "output_type": "execute_result",
          "data": {
            "text/plain": [
              "Seq2Seq(\n",
              "  (encoder): Encoder(\n",
              "    (embedding): Embedding(5923, 128)\n",
              "    (rnn): GRU(128, 128, bidirectional=True)\n",
              "    (fc): Linear(in_features=256, out_features=128, bias=True)\n",
              "    (dropout): Dropout(p=0.2, inplace=False)\n",
              "  )\n",
              "  (decoder): Decoder(\n",
              "    (embedding): Embedding(7873, 128)\n",
              "    (rnn): GRU(384, 128)\n",
              "    (fc): Linear(in_features=512, out_features=7873, bias=True)\n",
              "    (dropout): Dropout(p=0.2, inplace=False)\n",
              "    (attn): Attention(\n",
              "      (attn): Linear(in_features=384, out_features=128, bias=True)\n",
              "      (v): Linear(in_features=128, out_features=1, bias=False)\n",
              "    )\n",
              "  )\n",
              ")"
            ]
          },
          "metadata": {
            "tags": []
          },
          "execution_count": 20
        }
      ]
    },
    {
      "cell_type": "markdown",
      "metadata": {
        "id": "okbLNkjmNu5Z"
      },
      "source": [
        "We create an optimizer."
      ]
    },
    {
      "cell_type": "code",
      "metadata": {
        "id": "oc8wcbRdJvqs"
      },
      "source": [
        "optimizer = optim.Adam(model.parameters())"
      ],
      "execution_count": 21,
      "outputs": []
    },
    {
      "cell_type": "markdown",
      "metadata": {
        "id": "wyVNdxX9Nv4y"
      },
      "source": [
        "We initialize the loss function."
      ]
    },
    {
      "cell_type": "code",
      "metadata": {
        "id": "pR5hkJj4J__H"
      },
      "source": [
        "TRG_PAD_IDX = TRG.vocab.stoi[TRG.pad_token]\r\n",
        "criterion = torch.nn.CrossEntropyLoss(ignore_index=TRG_PAD_IDX)"
      ],
      "execution_count": 22,
      "outputs": []
    },
    {
      "cell_type": "markdown",
      "metadata": {
        "id": "DfvDY_euNz1V"
      },
      "source": [
        "We then create the training loop..."
      ]
    },
    {
      "cell_type": "code",
      "metadata": {
        "id": "oRdZJNMSKBsZ"
      },
      "source": [
        "def train(model, iterator, optimizer, criterion, clip):\r\n",
        "    \r\n",
        "    model.train()\r\n",
        "    \r\n",
        "    epoch_loss = 0\r\n",
        "    \r\n",
        "    for i, batch in enumerate(iterator):\r\n",
        "        \r\n",
        "        src = batch.src\r\n",
        "        trg = batch.trg\r\n",
        "        \r\n",
        "        optimizer.zero_grad()\r\n",
        "        \r\n",
        "        output = model(src, trg)\r\n",
        "        \r\n",
        "        #trg = [trg len, batch size]\r\n",
        "        #output = [trg len, batch size, output dim]\r\n",
        "        \r\n",
        "        output_dim = output.shape[-1]\r\n",
        "        \r\n",
        "        output = output[1:].view(-1, output_dim)\r\n",
        "        trg = trg[1:].view(-1)\r\n",
        "        \r\n",
        "        #trg = [(trg len - 1) * batch size]\r\n",
        "        #output = [(trg len - 1) * batch size, output dim]\r\n",
        "        \r\n",
        "        loss = criterion(output, trg)\r\n",
        "        \r\n",
        "        loss.backward()\r\n",
        "        \r\n",
        "        torch.nn.utils.clip_grad_norm_(model.parameters(), clip)\r\n",
        "        \r\n",
        "        optimizer.step()\r\n",
        "        \r\n",
        "        epoch_loss += loss.item()\r\n",
        "        \r\n",
        "    return epoch_loss / len(iterator)"
      ],
      "execution_count": 23,
      "outputs": []
    },
    {
      "cell_type": "markdown",
      "metadata": {
        "id": "nV2vfPrnN2SM"
      },
      "source": [
        "...and the evaluation loop, remembering to set the model to `eval` mode and turn off teaching forcing."
      ]
    },
    {
      "cell_type": "code",
      "metadata": {
        "id": "lNHsmsQdKEWW"
      },
      "source": [
        "def evaluate(model, iterator, criterion):\r\n",
        "    \r\n",
        "    model.eval()\r\n",
        "    \r\n",
        "    epoch_loss = 0\r\n",
        "    \r\n",
        "    with torch.no_grad():\r\n",
        "    \r\n",
        "        for i, batch in enumerate(iterator):\r\n",
        "\r\n",
        "            src = batch.src\r\n",
        "            trg = batch.trg\r\n",
        "\r\n",
        "            output = model(src, trg, 0) #turn off teacher forcing\r\n",
        "\r\n",
        "            #trg = [trg len, batch size]\r\n",
        "            #output = [trg len, batch size, output dim]\r\n",
        "\r\n",
        "            output_dim = output.shape[-1]\r\n",
        "            \r\n",
        "            output = output[1:].view(-1, output_dim)\r\n",
        "            trg = trg[1:].view(-1)\r\n",
        "\r\n",
        "            #trg = [(trg len - 1) * batch size]\r\n",
        "            #output = [(trg len - 1) * batch size, output dim]\r\n",
        "\r\n",
        "            loss = criterion(output, trg)\r\n",
        "\r\n",
        "            epoch_loss += loss.item()\r\n",
        "        \r\n",
        "    return epoch_loss / len(iterator)"
      ],
      "execution_count": 24,
      "outputs": []
    },
    {
      "cell_type": "markdown",
      "metadata": {
        "id": "muZIaV6NN7a-"
      },
      "source": [
        "Then, we train our model, saving the parameters that give us the best validation loss."
      ]
    },
    {
      "cell_type": "code",
      "metadata": {
        "colab": {
          "base_uri": "https://localhost:8080/"
        },
        "id": "pCQYvshDKGhg",
        "outputId": "884a8a54-b15b-40fe-d4a3-07d4f7ba2ed5"
      },
      "source": [
        "N_EPOCHS = 20\r\n",
        "CLIP = 1\r\n",
        "\r\n",
        "best_valid_loss = float('inf')\r\n",
        "\r\n",
        "for epoch in range(N_EPOCHS):\r\n",
        "    \r\n",
        "    start_time = time.time()\r\n",
        "    \r\n",
        "    train_loss = train(model, train_iterator, optimizer, criterion, CLIP)\r\n",
        "    valid_loss = evaluate(model, valid_iterator, criterion)\r\n",
        "    \r\n",
        "    end_time = time.time()\r\n",
        "    \r\n",
        "    epoch_mins, epoch_secs = epoch_time(start_time, end_time)\r\n",
        "    \r\n",
        "    if valid_loss < best_valid_loss:\r\n",
        "        best_valid_loss = valid_loss\r\n",
        "        torch.save(model.state_dict(), 'tut3-model.pt')\r\n",
        "    \r\n",
        "    print(f'Epoch: {epoch+1:02} | Time: {epoch_mins}m {epoch_secs}s')\r\n",
        "    print(f'\\tTrain Loss: {train_loss:.3f} | Train PPL: {math.exp(train_loss):7.3f}')\r\n",
        "    print(f'\\t Val. Loss: {valid_loss:.3f} |  Val. PPL: {math.exp(valid_loss):7.3f}')"
      ],
      "execution_count": 25,
      "outputs": [
        {
          "output_type": "stream",
          "text": [
            "Epoch: 01 | Time: 0m 40s\n",
            "\tTrain Loss: 5.367 | Train PPL: 214.226\n",
            "\t Val. Loss: 5.214 |  Val. PPL: 183.889\n",
            "Epoch: 02 | Time: 0m 40s\n",
            "\tTrain Loss: 4.552 | Train PPL:  94.828\n",
            "\t Val. Loss: 5.193 |  Val. PPL: 179.945\n",
            "Epoch: 03 | Time: 0m 40s\n",
            "\tTrain Loss: 4.303 | Train PPL:  73.944\n",
            "\t Val. Loss: 5.146 |  Val. PPL: 171.811\n",
            "Epoch: 04 | Time: 0m 40s\n",
            "\tTrain Loss: 4.068 | Train PPL:  58.463\n",
            "\t Val. Loss: 4.957 |  Val. PPL: 142.198\n",
            "Epoch: 05 | Time: 0m 40s\n",
            "\tTrain Loss: 3.840 | Train PPL:  46.531\n",
            "\t Val. Loss: 4.756 |  Val. PPL: 116.334\n",
            "Epoch: 06 | Time: 0m 40s\n",
            "\tTrain Loss: 3.570 | Train PPL:  35.507\n",
            "\t Val. Loss: 4.408 |  Val. PPL:  82.093\n",
            "Epoch: 07 | Time: 0m 39s\n",
            "\tTrain Loss: 3.302 | Train PPL:  27.162\n",
            "\t Val. Loss: 4.197 |  Val. PPL:  66.516\n",
            "Epoch: 08 | Time: 0m 39s\n",
            "\tTrain Loss: 3.015 | Train PPL:  20.396\n",
            "\t Val. Loss: 4.001 |  Val. PPL:  54.628\n",
            "Epoch: 09 | Time: 0m 39s\n",
            "\tTrain Loss: 2.786 | Train PPL:  16.209\n",
            "\t Val. Loss: 3.849 |  Val. PPL:  46.961\n",
            "Epoch: 10 | Time: 0m 40s\n",
            "\tTrain Loss: 2.568 | Train PPL:  13.043\n",
            "\t Val. Loss: 3.792 |  Val. PPL:  44.329\n",
            "Epoch: 11 | Time: 0m 40s\n",
            "\tTrain Loss: 2.435 | Train PPL:  11.411\n",
            "\t Val. Loss: 3.684 |  Val. PPL:  39.801\n",
            "Epoch: 12 | Time: 0m 39s\n",
            "\tTrain Loss: 2.264 | Train PPL:   9.618\n",
            "\t Val. Loss: 3.679 |  Val. PPL:  39.596\n",
            "Epoch: 13 | Time: 0m 39s\n",
            "\tTrain Loss: 2.157 | Train PPL:   8.646\n",
            "\t Val. Loss: 3.589 |  Val. PPL:  36.203\n",
            "Epoch: 14 | Time: 0m 39s\n",
            "\tTrain Loss: 2.020 | Train PPL:   7.542\n",
            "\t Val. Loss: 3.664 |  Val. PPL:  39.005\n",
            "Epoch: 15 | Time: 0m 39s\n",
            "\tTrain Loss: 1.939 | Train PPL:   6.951\n",
            "\t Val. Loss: 3.598 |  Val. PPL:  36.531\n",
            "Epoch: 16 | Time: 0m 39s\n",
            "\tTrain Loss: 1.875 | Train PPL:   6.519\n",
            "\t Val. Loss: 3.538 |  Val. PPL:  34.404\n",
            "Epoch: 17 | Time: 0m 39s\n",
            "\tTrain Loss: 1.758 | Train PPL:   5.802\n",
            "\t Val. Loss: 3.606 |  Val. PPL:  36.830\n",
            "Epoch: 18 | Time: 0m 39s\n",
            "\tTrain Loss: 1.682 | Train PPL:   5.377\n",
            "\t Val. Loss: 3.599 |  Val. PPL:  36.555\n",
            "Epoch: 19 | Time: 0m 40s\n",
            "\tTrain Loss: 1.625 | Train PPL:   5.076\n",
            "\t Val. Loss: 3.637 |  Val. PPL:  37.964\n",
            "Epoch: 20 | Time: 0m 39s\n",
            "\tTrain Loss: 1.555 | Train PPL:   4.735\n",
            "\t Val. Loss: 3.650 |  Val. PPL:  38.477\n"
          ],
          "name": "stdout"
        }
      ]
    },
    {
      "cell_type": "markdown",
      "metadata": {
        "id": "gwu_m_DPQFWP"
      },
      "source": [
        "We'll load the parameters (state_dict) that gave our model the best validation loss and run it the model on the test set."
      ]
    },
    {
      "cell_type": "code",
      "metadata": {
        "colab": {
          "base_uri": "https://localhost:8080/"
        },
        "id": "o6zKHyYKKJWP",
        "outputId": "9dcd72bb-c1d0-4785-b943-f5896996ab41"
      },
      "source": [
        "model.load_state_dict(torch.load('tut3-model.pt'))\r\n",
        "\r\n",
        "test_loss = evaluate(model, test_iterator, criterion)\r\n",
        "\r\n",
        "print(f'| Test Loss: {test_loss:.3f} |  Test PPL: {math.exp(test_loss):7.3f} |')"
      ],
      "execution_count": 26,
      "outputs": [
        {
          "output_type": "stream",
          "text": [
            "| Test Loss: 3.517 |  Test PPL:  33.697 |\n"
          ],
          "name": "stdout"
        }
      ]
    },
    {
      "cell_type": "markdown",
      "metadata": {
        "id": "gpxuJmOEQMCg"
      },
      "source": [
        "Pick a validataion sample"
      ]
    },
    {
      "cell_type": "code",
      "metadata": {
        "colab": {
          "base_uri": "https://localhost:8080/"
        },
        "id": "csZp6HutKqJe",
        "outputId": "9597490a-0b78-4836-c6d1-891836af4862"
      },
      "source": [
        "id = 12\r\n",
        "\r\n",
        "src = vars(train_data.examples[id])['src']\r\n",
        "trg = vars(train_data.examples[id])['trg']\r\n",
        "\r\n",
        "print('src:', src)\r\n",
        "print('trg:', trg)"
      ],
      "execution_count": 28,
      "outputs": [
        {
          "output_type": "stream",
          "text": [
            "src: ['a', 'black', 'dog', 'and', 'a', 'spotted', 'dog', 'are', 'fighting']\n",
            "trg: ['.', 'kämpfen', 'hund', 'gefleckter', 'ein', 'und', 'hund', 'schwarzer', 'ein']\n"
          ],
          "name": "stdout"
        }
      ]
    },
    {
      "cell_type": "markdown",
      "metadata": {
        "id": "A2tzMLgOQP2P"
      },
      "source": [
        "Create a function to do translation from src to trg using the trained model"
      ]
    },
    {
      "cell_type": "code",
      "metadata": {
        "id": "RzYGga0jKrte"
      },
      "source": [
        "def translate_sentence(sentence, src_field, trg_field, model, device, max_len=50):\r\n",
        "\r\n",
        "  model.eval()\r\n",
        "\r\n",
        "  if isinstance(sentence, str):\r\n",
        "    nlp = spacy.load('en')\r\n",
        "    tokens = [token.text.lower() for token in nlp(sentence)]\r\n",
        "  else:\r\n",
        "    tokens = [token.lower() for token in sentence]\r\n",
        "\r\n",
        "  tokens = [src_field.init_token] + tokens + [src_field.eos_token]\r\n",
        "\r\n",
        "  src_indexes = [src_field.vocab.stoi[token] for token in tokens]\r\n",
        "\r\n",
        "  src_tensor = torch.LongTensor(src_indexes).unsqueeze(1).to(device)\r\n",
        "\r\n",
        "  src_len = torch.LongTensor([len(src_indexes)]).to(device)\r\n",
        "\r\n",
        "  with torch.no_grad():\r\n",
        "    encoder_outputs, hidden = model.encoder(src_tensor, src_len)\r\n",
        "\r\n",
        "  mask = model.create_mask(src_tensor)\r\n",
        "\r\n",
        "  trg_indexes = [trg_field.vocab.stoi[trg_field.init_token]]\r\n",
        "\r\n",
        "  attentions = torch.zeros(max_len, 1, len(src_indexes)).to(device)\r\n",
        "\r\n",
        "  for i in range(max_len):\r\n",
        "\r\n",
        "    trg_tensor = torch.LongTensor([trg_indexes[-1]]).to(device)\r\n",
        "\r\n",
        "    with torch.no_grad():\r\n",
        "      output, hidden, attention = model.decoder(trg_tensor, encoder_outputs, hidden, mask)\r\n",
        "\r\n",
        "      attentions[i] = attention\r\n",
        "\r\n",
        "      pred_token = output.argmax(1).item()\r\n",
        "\r\n",
        "      trg_indexes.append(pred_token)\r\n",
        "\r\n",
        "      if pred_token == trg_field.vocab.stoi[trg_field.eos_token]:\r\n",
        "        break\r\n",
        "\r\n",
        "  trg_tokens = [trg_field.vocab.itos[i] for i in trg_indexes]\r\n",
        "\r\n",
        "  return trg_tokens[1:], attentions[:len(trg_tokens)-1]"
      ],
      "execution_count": 35,
      "outputs": []
    },
    {
      "cell_type": "markdown",
      "metadata": {
        "id": "grvmg3oTQYWF"
      },
      "source": [
        "Translate the validation sample"
      ]
    },
    {
      "cell_type": "code",
      "metadata": {
        "colab": {
          "base_uri": "https://localhost:8080/"
        },
        "id": "k3m1_GXFK8fI",
        "outputId": "1f2dcaa4-eaad-4e1e-8aae-c336c355e902"
      },
      "source": [
        "translate_sentence(src, SRC, TRG, model, device)"
      ],
      "execution_count": 30,
      "outputs": [
        {
          "output_type": "execute_result",
          "data": {
            "text/plain": [
              "['<sos>',\n",
              " '.',\n",
              " 'kämpfen',\n",
              " 'hund',\n",
              " 'ein',\n",
              " 'hund',\n",
              " 'ein',\n",
              " 'und',\n",
              " 'hund',\n",
              " 'schwarzer',\n",
              " 'ein',\n",
              " '<eos>']"
            ]
          },
          "metadata": {
            "tags": []
          },
          "execution_count": 30
        }
      ]
    },
    {
      "cell_type": "markdown",
      "metadata": {
        "id": "ixnm23ofQfmQ"
      },
      "source": [
        "![image.png](data:image/png;base64,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)"
      ]
    },
    {
      "cell_type": "code",
      "metadata": {
        "colab": {
          "base_uri": "https://localhost:8080/"
        },
        "id": "5XMBuuREK_GW",
        "outputId": "80cf3515-1092-4135-bd6a-a83bcddd1014"
      },
      "source": [
        "from torchtext.data.metrics import bleu_score\r\n",
        "\r\n",
        "def calculate_bleu(data, src_field, trg_field, model, device, max_len = 50):\r\n",
        "\r\n",
        "  trgs = []\r\n",
        "  pred_trgs = []\r\n",
        "\r\n",
        "  for datum in data:\r\n",
        "\r\n",
        "    src = vars(datum)['src']\r\n",
        "    trg = vars(datum)['trg']\r\n",
        "\r\n",
        "    pred_trg = translate_sentence(src, SRC, TRG, model, device, max_len)\r\n",
        "\r\n",
        "    pred_trg = pred_trg[:-1]\r\n",
        "\r\n",
        "    pred_trgs.append(pred_trg)\r\n",
        "    trgs.append([trg])\r\n",
        "\r\n",
        "  return bleu_score(pred_trgs, trgs)\r\n",
        "\r\n",
        "bleu_score = calculate_bleu(test_data, SRC, TRG, model, device)\r\n",
        "\r\n",
        "print(f'BLEU score = {bleu_score*100:.2f}')"
      ],
      "execution_count": 31,
      "outputs": [
        {
          "output_type": "stream",
          "text": [
            "BLEU score = 24.65\n"
          ],
          "name": "stdout"
        }
      ]
    }
  ]
}