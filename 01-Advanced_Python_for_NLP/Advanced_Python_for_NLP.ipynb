{
 "cells": [
  {
   "cell_type": "markdown",
   "metadata": {},
   "source": [
    "# Advanced Python for General Computing & NLP"
   ]
  },
  {
   "cell_type": "markdown",
   "metadata": {},
   "source": [
    "### *1. Write a function using only list filter lambda that can tell whether a number is a Fibonacci number or not. You can use a pre-calculated list/dict to store fab numbers till 10000*"
   ]
  },
  {
   "cell_type": "code",
   "execution_count": 1,
   "metadata": {},
   "outputs": [
    {
     "name": "stdout",
     "output_type": "stream",
     "text": [
      "Pre-Calculated list of Fibonacci Numbers till 100000 \n",
      " [0, 1, 1, 2, 3, 5, 8, 13, 21, 34, 55, 89, 144, 233, 377, 610, 987, 1597, 2584, 4181, 6765, 10946]\n"
     ]
    }
   ],
   "source": [
    "fibonacci_series = [0, 1]\n",
    "while(True):\n",
    "    if fibonacci_series[-1] >= 10000: break\n",
    "    fibonacci_series.append(fibonacci_series[-1] + fibonacci_series[-2])\n",
    "\n",
    "print(\"Pre-Calculated list of Fibonacci Numbers till 100000 \\n\", fibonacci_series)\n",
    "\n",
    "def is_fibonacci(x):\n",
    "    return \"Fibonacci Number\" if x in fibonacci_series else \"Not a Fibonacci Number\""
   ]
  },
  {
   "cell_type": "code",
   "execution_count": 2,
   "metadata": {},
   "outputs": [
    {
     "data": {
      "text/plain": [
       "('Fibonacci Number', 'Not a Fibonacci Number')"
      ]
     },
     "execution_count": 2,
     "metadata": {},
     "output_type": "execute_result"
    }
   ],
   "source": [
    "is_fibonacci(21), is_fibonacci(24)"
   ]
  },
  {
   "cell_type": "markdown",
   "metadata": {},
   "source": [
    "## *2. Using list comprehension (and zip/lambda/etc if required) write five different expressions that:*"
   ]
  },
  {
   "cell_type": "markdown",
   "metadata": {},
   "source": [
    "**1. add 2 iterables a and b such that a is even and b is odd**"
   ]
  },
  {
   "cell_type": "code",
   "execution_count": 3,
   "metadata": {},
   "outputs": [],
   "source": [
    "l = list(range(1000))"
   ]
  },
  {
   "cell_type": "code",
   "execution_count": 4,
   "metadata": {},
   "outputs": [],
   "source": [
    "a = filter(lambda x: x%2 == 0, l)\n",
    "b = filter(lambda x: x%2 != 0, l)"
   ]
  },
  {
   "cell_type": "code",
   "execution_count": 5,
   "metadata": {},
   "outputs": [
    {
     "name": "stdout",
     "output_type": "stream",
     "text": [
      "0 2\n"
     ]
    }
   ],
   "source": [
    "print(next(a), next(a))"
   ]
  },
  {
   "cell_type": "code",
   "execution_count": 6,
   "metadata": {},
   "outputs": [
    {
     "name": "stdout",
     "output_type": "stream",
     "text": [
      "1 3\n"
     ]
    }
   ],
   "source": [
    "print(next(b), next(b))"
   ]
  },
  {
   "cell_type": "markdown",
   "metadata": {},
   "source": [
    "**2. strips every vowel from a string provided (tsai>>t s)**"
   ]
  },
  {
   "cell_type": "code",
   "execution_count": 94,
   "metadata": {},
   "outputs": [],
   "source": [
    "string = 'textwithvowel'"
   ]
  },
  {
   "cell_type": "code",
   "execution_count": 95,
   "metadata": {},
   "outputs": [
    {
     "data": {
      "text/plain": [
       "'txtwthvwl'"
      ]
     },
     "execution_count": 95,
     "metadata": {},
     "output_type": "execute_result"
    }
   ],
   "source": [
    "''.join([c for c in string if c not in ['a', 'e', 'i', 'o', 'u']])"
   ]
  },
  {
   "cell_type": "markdown",
   "metadata": {},
   "source": [
    "**3. acts like a ReLU function for a 1D array**"
   ]
  },
  {
   "cell_type": "code",
   "execution_count": 96,
   "metadata": {},
   "outputs": [],
   "source": [
    "seq = [2, 3, -2, -5, 0, 6]"
   ]
  },
  {
   "cell_type": "code",
   "execution_count": 97,
   "metadata": {},
   "outputs": [
    {
     "data": {
      "text/plain": [
       "[2, 3, 0, 0, 0, 6]"
      ]
     },
     "execution_count": 97,
     "metadata": {},
     "output_type": "execute_result"
    }
   ],
   "source": [
    "[x if x > 0 else 0 for x in seq]"
   ]
  },
  {
   "cell_type": "markdown",
   "metadata": {},
   "source": [
    "**4. acts like a sigmoid function for a 1D array**"
   ]
  },
  {
   "cell_type": "code",
   "execution_count": 98,
   "metadata": {},
   "outputs": [],
   "source": [
    "seq = [2, 3, -2, -5, 0, 6]"
   ]
  },
  {
   "cell_type": "code",
   "execution_count": 99,
   "metadata": {},
   "outputs": [
    {
     "data": {
      "text/plain": [
       "[0.11920292202211755,\n",
       " 0.04742587317756678,\n",
       " 0.8807970779778823,\n",
       " 0.9933071490757153,\n",
       " 0.5,\n",
       " 0.0024726231566347743]"
      ]
     },
     "execution_count": 99,
     "metadata": {},
     "output_type": "execute_result"
    }
   ],
   "source": [
    "import math\n",
    "[1 / ( 1 + math.exp(x)) for x in seq]"
   ]
  },
  {
   "cell_type": "markdown",
   "metadata": {},
   "source": [
    "**5.takes a small character string and shifts all characters by 5 (handle boundary conditions) tsai>>yxfn**"
   ]
  },
  {
   "cell_type": "code",
   "execution_count": 100,
   "metadata": {},
   "outputs": [],
   "source": [
    "string = \"shiftbyfive\""
   ]
  },
  {
   "cell_type": "code",
   "execution_count": 138,
   "metadata": {},
   "outputs": [
    {
     "data": {
      "text/plain": [
       "'xmnkygdknaj'"
      ]
     },
     "execution_count": 138,
     "metadata": {},
     "output_type": "execute_result"
    }
   ],
   "source": [
    "\"\".join([chr((ord(char) + 5) % 122) if (ord(char) + 5) < 123 else chr((ord(char) + 5) % 122 + 96) for char in string])"
   ]
  },
  {
   "cell_type": "markdown",
   "metadata": {},
   "source": [
    "## *3. A list comprehension expression that takes a ~200 word paragraph (write your own paragraph to check), and checks whether it has any of the swear words mentioned in https://github.com/RobertJGabriel/Google-profanity-words/blob/master/list.txt*"
   ]
  },
  {
   "cell_type": "code",
   "execution_count": 23,
   "metadata": {},
   "outputs": [],
   "source": [
    "with open('swear.txt') as f:\n",
    "    swear_words = f.readlines()"
   ]
  },
  {
   "cell_type": "code",
   "execution_count": 18,
   "metadata": {},
   "outputs": [
    {
     "name": "stdout",
     "output_type": "stream",
     "text": [
      "Three friends named Tom, Dick and Harry met God and asked for a wish that none of them should go to hell.The God told them to go and see a Chinese man whose name is Wang and lived in xxx city. HE also mandated the 3 friends to not eat anything on the way to xxx city and warned if they ate something they would go to hell. The three friends started their journey to xxx city. In half way a monkey did snatch the money from the travelers and climbed on a nearby tree. Tom asked the monkey to give back their money as they had travelled a long way already with hunger and their only hope is to eat something when they reach the xxx city and they need their money for that. The monkey laughed at Tom and ran away with the money. To be continued...\n",
      "157\n"
     ]
    }
   ],
   "source": [
    "from nltk.tokenize import word_tokenize\n",
    "\n",
    "paragraph = \"Three friends named Tom, Dick and Harry met God and asked for a wish that none of them should go to hell.\\\n",
    "The God told them to go and see a Chinese man whose name is Wang and lived in xxx city. HE also mandated the 3 friends \\\n",
    "to not eat anything on the way to xxx city and warned if they ate something they would go to hell. The three friends \\\n",
    "started their journey to xxx city. In half way a monkey did snatch the money from the travelers and climbed on a nearby tree. \\\n",
    "Tom asked the monkey to give back their money as they had travelled a long way already with hunger and their only \\\n",
    "hope is to eat something when they reach the xxx city and they need their money for that. The monkey laughed at Tom and \\\n",
    "ran away with the money. To be continued...\"\n",
    "print(paragraph)\n",
    "\n",
    "print(len(word_tokenize(paragraph)))"
   ]
  },
  {
   "cell_type": "code",
   "execution_count": 25,
   "metadata": {},
   "outputs": [
    {
     "data": {
      "text/plain": [
       "True"
      ]
     },
     "execution_count": 25,
     "metadata": {},
     "output_type": "execute_result"
    }
   ],
   "source": [
    "any([True if x in swear_words else False for x in word_tokenize(paragraph)])"
   ]
  },
  {
   "cell_type": "markdown",
   "metadata": {},
   "source": [
    "## *4. Using reduce functions:*"
   ]
  },
  {
   "cell_type": "code",
   "execution_count": 1,
   "metadata": {},
   "outputs": [],
   "source": [
    "from functools import reduce"
   ]
  },
  {
   "cell_type": "markdown",
   "metadata": {},
   "source": [
    "**1. add only even numbers in a list**"
   ]
  },
  {
   "cell_type": "code",
   "execution_count": 56,
   "metadata": {},
   "outputs": [
    {
     "data": {
      "text/plain": [
       "[0, 1, 2, 3, 4, 5, 6, 7, 8, 9]"
      ]
     },
     "execution_count": 56,
     "metadata": {},
     "output_type": "execute_result"
    }
   ],
   "source": [
    "list1 = list(range(10))\n",
    "list1"
   ]
  },
  {
   "cell_type": "code",
   "execution_count": 21,
   "metadata": {},
   "outputs": [
    {
     "data": {
      "text/plain": [
       "20"
      ]
     },
     "execution_count": 21,
     "metadata": {},
     "output_type": "execute_result"
    }
   ],
   "source": [
    "reduce(lambda x, y: x + y if y%2 == 0 else x, list1)"
   ]
  },
  {
   "cell_type": "markdown",
   "metadata": {},
   "source": [
    "**2. find the biggest character in a string (printable ascii characters)**"
   ]
  },
  {
   "cell_type": "code",
   "execution_count": 24,
   "metadata": {},
   "outputs": [],
   "source": [
    "string = 'biggestcharacter'"
   ]
  },
  {
   "cell_type": "code",
   "execution_count": 43,
   "metadata": {},
   "outputs": [
    {
     "data": {
      "text/plain": [
       "[98, 105, 103, 103, 101, 115, 116, 99, 104, 97, 114, 97, 99, 116, 101, 114]"
      ]
     },
     "execution_count": 43,
     "metadata": {},
     "output_type": "execute_result"
    }
   ],
   "source": [
    "#checking ascii values\n",
    "list(map(lambda x: ord(x), string))"
   ]
  },
  {
   "cell_type": "code",
   "execution_count": 46,
   "metadata": {},
   "outputs": [
    {
     "data": {
      "text/plain": [
       "('t', 116)"
      ]
     },
     "execution_count": 46,
     "metadata": {},
     "output_type": "execute_result"
    }
   ],
   "source": [
    "string[list(map(lambda x: ord(x), string)).index(reduce(lambda x, y: y if y > x else x, map(lambda x: ord(x), string)))], \\\n",
    "reduce(lambda x, y: y if y > x else x, map(lambda x: ord(x), string))"
   ]
  },
  {
   "cell_type": "markdown",
   "metadata": {},
   "source": [
    "**3. adds every 3rd number in a list**"
   ]
  },
  {
   "cell_type": "code",
   "execution_count": 217,
   "metadata": {},
   "outputs": [
    {
     "data": {
      "text/plain": [
       "[15, 41, 80, 61, 80, 59, 95, 87, 65, 70]"
      ]
     },
     "execution_count": 217,
     "metadata": {},
     "output_type": "execute_result"
    }
   ],
   "source": [
    "target_list = [random.randint(0, 99) for _ in range(10)]\n",
    "target_list"
   ]
  },
  {
   "cell_type": "code",
   "execution_count": 227,
   "metadata": {},
   "outputs": [
    {
     "data": {
      "text/plain": [
       "241"
      ]
     },
     "execution_count": 227,
     "metadata": {},
     "output_type": "execute_result"
    }
   ],
   "source": [
    "reduce(lambda x, y: x + y, list(filter(lambda x: target_list.index(x)%3 == 0, target_list)))"
   ]
  },
  {
   "cell_type": "markdown",
   "metadata": {},
   "source": [
    "## 5. Using randint, random.choice and list comprehensions, write an expression that generates 15 random KADDAADDDD number plates, where KA is fixed, D stands for a digit, and A stands for Capital alphabets. 10<<DD<<99 & 1000<<DDDD<<9999"
   ]
  },
  {
   "cell_type": "code",
   "execution_count": 140,
   "metadata": {},
   "outputs": [],
   "source": [
    "ALPHABETS = \"ABCDEFGHIJKLMNOPQRSTUVWXYZ\""
   ]
  },
  {
   "cell_type": "code",
   "execution_count": 143,
   "metadata": {
    "scrolled": true
   },
   "outputs": [
    {
     "data": {
      "text/plain": [
       "['KA27ZY1033',\n",
       " 'KA19WZ5048',\n",
       " 'KA89IL3793',\n",
       " 'KA74DD5757',\n",
       " 'KA97JB4321',\n",
       " 'KA92ZD9844',\n",
       " 'KA38JF4929',\n",
       " 'KA44ID1089',\n",
       " 'KA41OA3728',\n",
       " 'KA83NE4117',\n",
       " 'KA69GQ1137',\n",
       " 'KA31JS5283',\n",
       " 'KA75EI2914',\n",
       " 'KA13VH7936',\n",
       " 'KA60YA8294']"
      ]
     },
     "execution_count": 143,
     "metadata": {},
     "output_type": "execute_result"
    }
   ],
   "source": [
    "import random\n",
    "[\"KA\" + str(random.randint(10, 99)) + ''.join(random.choices(ALPHABETS, k=2)) + str(random.randint(1000, 9999)) \\\n",
    " for _ in range(15)]"
   ]
  },
  {
   "cell_type": "markdown",
   "metadata": {},
   "source": [
    "## 6. Write the above again from scratch where KA can be changed to DL, and 1000/9999 ranges can be provided."
   ]
  },
  {
   "cell_type": "code",
   "execution_count": 144,
   "metadata": {},
   "outputs": [
    {
     "data": {
      "text/plain": [
       "['DL96GV6822',\n",
       " 'DL11ND8688',\n",
       " 'DL15XX3476',\n",
       " 'DL91GC5990',\n",
       " 'DL90BC1085',\n",
       " 'DL75LF9422',\n",
       " 'DL17YN9212',\n",
       " 'DL53IQ3376',\n",
       " 'DL56TQ2507',\n",
       " 'DL65RW3974',\n",
       " 'DL79KD8682',\n",
       " 'DL73HJ5550',\n",
       " 'DL42KS2325',\n",
       " 'DL98UK4704',\n",
       " 'DL45RA7883']"
      ]
     },
     "execution_count": 144,
     "metadata": {},
     "output_type": "execute_result"
    }
   ],
   "source": [
    "[\"DL\" + str(random.randint(10, 99)) + ''.join(random.choices(ALPHABETS, k=2)) + str(random.randint(1000, 9999)) \\\n",
    " for _ in range(15)]"
   ]
  }
 ],
 "metadata": {
  "kernelspec": {
   "display_name": "Python 3",
   "language": "python",
   "name": "python3"
  },
  "language_info": {
   "codemirror_mode": {
    "name": "ipython",
    "version": 3
   },
   "file_extension": ".py",
   "mimetype": "text/x-python",
   "name": "python",
   "nbconvert_exporter": "python",
   "pygments_lexer": "ipython3",
   "version": "3.7.3"
  }
 },
 "nbformat": 4,
 "nbformat_minor": 4
}
