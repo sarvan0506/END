{
  "nbformat": 4,
  "nbformat_minor": 0,
  "metadata": {
    "colab": {
      "name": "ChatBot.ipynb",
      "provenance": [],
      "collapsed_sections": [],
      "toc_visible": true
    },
    "kernelspec": {
      "name": "python3",
      "display_name": "Python 3"
    },
    "accelerator": "GPU"
  },
  "cells": [
    {
      "cell_type": "code",
      "metadata": {
        "colab": {
          "base_uri": "https://localhost:8080/"
        },
        "id": "MfY2Vx7eUx6m",
        "outputId": "d070bac4-a697-4215-dea8-c01979fc3c71"
      },
      "source": [
        "from google.colab import drive\r\n",
        "drive.mount('/content/drive')"
      ],
      "execution_count": 1,
      "outputs": [
        {
          "output_type": "stream",
          "text": [
            "Drive already mounted at /content/drive; to attempt to forcibly remount, call drive.mount(\"/content/drive\", force_remount=True).\n"
          ],
          "name": "stdout"
        }
      ]
    },
    {
      "cell_type": "code",
      "metadata": {
        "colab": {
          "base_uri": "https://localhost:8080/"
        },
        "id": "3iT7fJ3GIC3j",
        "outputId": "6b9cd8ca-cdf0-4473-da58-940182a5ca5b"
      },
      "source": [
        "from __future__ import absolute_import\r\n",
        "from __future__ import division\r\n",
        "from __future__ import print_function\r\n",
        "from __future__ import unicode_literals\r\n",
        "\r\n",
        "import torch\r\n",
        "from torch.jit import script, trace\r\n",
        "import torch.nn as nn\r\n",
        "from torch import optim\r\n",
        "import torch.nn.functional as F\r\n",
        "import csv\r\n",
        "import time\r\n",
        "import random\r\n",
        "import re\r\n",
        "import os\r\n",
        "import unicodedata\r\n",
        "import codecs\r\n",
        "from io import open\r\n",
        "import itertools\r\n",
        "import math\r\n",
        "import numpy as np\r\n",
        "\r\n",
        "import spacy\r\n",
        "from torchtext import data\r\n",
        "from torchtext.data import Field, BucketIterator\r\n",
        "\r\n",
        "USE_CUDA = torch.cuda.is_available()\r\n",
        "device = torch.device(\"cuda\" if USE_CUDA else \"cpu\")\r\n",
        "\r\n",
        "!python -m spacy download en"
      ],
      "execution_count": 1,
      "outputs": [
        {
          "output_type": "stream",
          "text": [
            "Requirement already satisfied: en_core_web_sm==2.2.5 from https://github.com/explosion/spacy-models/releases/download/en_core_web_sm-2.2.5/en_core_web_sm-2.2.5.tar.gz#egg=en_core_web_sm==2.2.5 in /usr/local/lib/python3.7/dist-packages (2.2.5)\n",
            "Requirement already satisfied: spacy>=2.2.2 in /usr/local/lib/python3.7/dist-packages (from en_core_web_sm==2.2.5) (2.2.4)\n",
            "Requirement already satisfied: requests<3.0.0,>=2.13.0 in /usr/local/lib/python3.7/dist-packages (from spacy>=2.2.2->en_core_web_sm==2.2.5) (2.23.0)\n",
            "Requirement already satisfied: catalogue<1.1.0,>=0.0.7 in /usr/local/lib/python3.7/dist-packages (from spacy>=2.2.2->en_core_web_sm==2.2.5) (1.0.0)\n",
            "Requirement already satisfied: tqdm<5.0.0,>=4.38.0 in /usr/local/lib/python3.7/dist-packages (from spacy>=2.2.2->en_core_web_sm==2.2.5) (4.41.1)\n",
            "Requirement already satisfied: preshed<3.1.0,>=3.0.2 in /usr/local/lib/python3.7/dist-packages (from spacy>=2.2.2->en_core_web_sm==2.2.5) (3.0.5)\n",
            "Requirement already satisfied: setuptools in /usr/local/lib/python3.7/dist-packages (from spacy>=2.2.2->en_core_web_sm==2.2.5) (53.0.0)\n",
            "Requirement already satisfied: blis<0.5.0,>=0.4.0 in /usr/local/lib/python3.7/dist-packages (from spacy>=2.2.2->en_core_web_sm==2.2.5) (0.4.1)\n",
            "Requirement already satisfied: plac<1.2.0,>=0.9.6 in /usr/local/lib/python3.7/dist-packages (from spacy>=2.2.2->en_core_web_sm==2.2.5) (1.1.3)\n",
            "Requirement already satisfied: wasabi<1.1.0,>=0.4.0 in /usr/local/lib/python3.7/dist-packages (from spacy>=2.2.2->en_core_web_sm==2.2.5) (0.8.2)\n",
            "Requirement already satisfied: thinc==7.4.0 in /usr/local/lib/python3.7/dist-packages (from spacy>=2.2.2->en_core_web_sm==2.2.5) (7.4.0)\n",
            "Requirement already satisfied: numpy>=1.15.0 in /usr/local/lib/python3.7/dist-packages (from spacy>=2.2.2->en_core_web_sm==2.2.5) (1.19.5)\n",
            "Requirement already satisfied: murmurhash<1.1.0,>=0.28.0 in /usr/local/lib/python3.7/dist-packages (from spacy>=2.2.2->en_core_web_sm==2.2.5) (1.0.5)\n",
            "Requirement already satisfied: srsly<1.1.0,>=1.0.2 in /usr/local/lib/python3.7/dist-packages (from spacy>=2.2.2->en_core_web_sm==2.2.5) (1.0.5)\n",
            "Requirement already satisfied: cymem<2.1.0,>=2.0.2 in /usr/local/lib/python3.7/dist-packages (from spacy>=2.2.2->en_core_web_sm==2.2.5) (2.0.5)\n",
            "Requirement already satisfied: urllib3!=1.25.0,!=1.25.1,<1.26,>=1.21.1 in /usr/local/lib/python3.7/dist-packages (from requests<3.0.0,>=2.13.0->spacy>=2.2.2->en_core_web_sm==2.2.5) (1.24.3)\n",
            "Requirement already satisfied: certifi>=2017.4.17 in /usr/local/lib/python3.7/dist-packages (from requests<3.0.0,>=2.13.0->spacy>=2.2.2->en_core_web_sm==2.2.5) (2020.12.5)\n",
            "Requirement already satisfied: idna<3,>=2.5 in /usr/local/lib/python3.7/dist-packages (from requests<3.0.0,>=2.13.0->spacy>=2.2.2->en_core_web_sm==2.2.5) (2.10)\n",
            "Requirement already satisfied: chardet<4,>=3.0.2 in /usr/local/lib/python3.7/dist-packages (from requests<3.0.0,>=2.13.0->spacy>=2.2.2->en_core_web_sm==2.2.5) (3.0.4)\n",
            "Requirement already satisfied: importlib-metadata>=0.20; python_version < \"3.8\" in /usr/local/lib/python3.7/dist-packages (from catalogue<1.1.0,>=0.0.7->spacy>=2.2.2->en_core_web_sm==2.2.5) (3.4.0)\n",
            "Requirement already satisfied: typing-extensions>=3.6.4; python_version < \"3.8\" in /usr/local/lib/python3.7/dist-packages (from importlib-metadata>=0.20; python_version < \"3.8\"->catalogue<1.1.0,>=0.0.7->spacy>=2.2.2->en_core_web_sm==2.2.5) (3.7.4.3)\n",
            "Requirement already satisfied: zipp>=0.5 in /usr/local/lib/python3.7/dist-packages (from importlib-metadata>=0.20; python_version < \"3.8\"->catalogue<1.1.0,>=0.0.7->spacy>=2.2.2->en_core_web_sm==2.2.5) (3.4.0)\n",
            "\u001b[38;5;2m✔ Download and installation successful\u001b[0m\n",
            "You can now load the model via spacy.load('en_core_web_sm')\n",
            "\u001b[38;5;2m✔ Linking successful\u001b[0m\n",
            "/usr/local/lib/python3.7/dist-packages/en_core_web_sm -->\n",
            "/usr/local/lib/python3.7/dist-packages/spacy/data/en\n",
            "You can now load the model via spacy.load('en')\n"
          ],
          "name": "stdout"
        }
      ]
    },
    {
      "cell_type": "code",
      "metadata": {
        "id": "H__0IqpOUuq2"
      },
      "source": [
        "SEED = 1234\r\n",
        "\r\n",
        "random.seed(SEED)\r\n",
        "np.random.seed(SEED)\r\n",
        "torch.manual_seed(SEED)\r\n",
        "torch.cuda.manual_seed(SEED)\r\n",
        "torch.backends.cudnn.deterministic = True\r\n",
        "\r\n",
        "spacy_en = spacy.load('en')"
      ],
      "execution_count": 2,
      "outputs": []
    },
    {
      "cell_type": "markdown",
      "metadata": {
        "id": "nRMeE6JOVcRV"
      },
      "source": [
        "Load & Preprocess Data\r\n",
        "----------------------\r\n",
        "\r\n",
        "The next step is to reformat our data file and load the data into\r\n",
        "structures that we can work with.\r\n",
        "\r\n",
        "The `Cornell Movie-Dialogs\r\n",
        "Corpus <https://www.cs.cornell.edu/~cristian/Cornell_Movie-Dialogs_Corpus.html>`__\r\n",
        "is a rich dataset of movie character dialog:\r\n",
        "\r\n",
        "-  220,579 conversational exchanges between 10,292 pairs of movie\r\n",
        "   characters\r\n",
        "-  9,035 characters from 617 movies\r\n",
        "-  304,713 total utterances\r\n",
        "\r\n",
        "This dataset is large and diverse, and there is a great variation of\r\n",
        "language formality, time periods, sentiment, etc. Our hope is that this\r\n",
        "diversity makes our model robust to many forms of inputs and queries.\r\n",
        "\r\n",
        "First, we’ll take a look at some lines of our datafile to see the\r\n",
        "original format.\r\n"
      ]
    },
    {
      "cell_type": "code",
      "metadata": {
        "colab": {
          "base_uri": "https://localhost:8080/"
        },
        "id": "Lbasp0e6VZ0m",
        "outputId": "6e7e5cf0-c94f-40a2-c9eb-2e471c7c452d"
      },
      "source": [
        "!ls"
      ],
      "execution_count": 3,
      "outputs": [
        {
          "output_type": "stream",
          "text": [
            "cornell_movie_dialogs_corpus\t  drive\n",
            "cornell_movie_dialogs_corpus.zip  sample_data\n"
          ],
          "name": "stdout"
        }
      ]
    },
    {
      "cell_type": "code",
      "metadata": {
        "colab": {
          "base_uri": "https://localhost:8080/"
        },
        "id": "ACnXV2OBVVB2",
        "outputId": "8e74eed2-683d-4828-ba50-47b4e8ef9b57"
      },
      "source": [
        "!wget http://www.cs.cornell.edu/~cristian/data/cornell_movie_dialogs_corpus.zip"
      ],
      "execution_count": 5,
      "outputs": [
        {
          "output_type": "stream",
          "text": [
            "--2021-02-25 16:52:44--  http://www.cs.cornell.edu/~cristian/data/cornell_movie_dialogs_corpus.zip\n",
            "Resolving www.cs.cornell.edu (www.cs.cornell.edu)... 132.236.207.36\n",
            "Connecting to www.cs.cornell.edu (www.cs.cornell.edu)|132.236.207.36|:80... connected.\n",
            "HTTP request sent, awaiting response... 200 OK\n",
            "Length: 9916637 (9.5M) [application/zip]\n",
            "Saving to: ‘cornell_movie_dialogs_corpus.zip’\n",
            "\n",
            "\r          cornell_m   0%[                    ]       0  --.-KB/s               \rcornell_movie_dialo 100%[===================>]   9.46M  58.7MB/s    in 0.2s    \n",
            "\n",
            "2021-02-25 16:52:44 (58.7 MB/s) - ‘cornell_movie_dialogs_corpus.zip’ saved [9916637/9916637]\n",
            "\n"
          ],
          "name": "stdout"
        }
      ]
    },
    {
      "cell_type": "code",
      "metadata": {
        "colab": {
          "base_uri": "https://localhost:8080/"
        },
        "id": "C58a7TJeVgum",
        "outputId": "00cc0176-4b49-4c2f-9eb0-3e54a5ad486e"
      },
      "source": [
        "!unzip cornell_movie_dialogs_corpus.zip -d cornell_movie_dialogs_corpus"
      ],
      "execution_count": 6,
      "outputs": [
        {
          "output_type": "stream",
          "text": [
            "Archive:  cornell_movie_dialogs_corpus.zip\n",
            "   creating: cornell_movie_dialogs_corpus/cornell movie-dialogs corpus/\n",
            "  inflating: cornell_movie_dialogs_corpus/cornell movie-dialogs corpus/.DS_Store  \n",
            "   creating: cornell_movie_dialogs_corpus/__MACOSX/\n",
            "   creating: cornell_movie_dialogs_corpus/__MACOSX/cornell movie-dialogs corpus/\n",
            "  inflating: cornell_movie_dialogs_corpus/__MACOSX/cornell movie-dialogs corpus/._.DS_Store  \n",
            "  inflating: cornell_movie_dialogs_corpus/cornell movie-dialogs corpus/chameleons.pdf  \n",
            "  inflating: cornell_movie_dialogs_corpus/__MACOSX/cornell movie-dialogs corpus/._chameleons.pdf  \n",
            "  inflating: cornell_movie_dialogs_corpus/cornell movie-dialogs corpus/movie_characters_metadata.txt  \n",
            "  inflating: cornell_movie_dialogs_corpus/cornell movie-dialogs corpus/movie_conversations.txt  \n",
            "  inflating: cornell_movie_dialogs_corpus/cornell movie-dialogs corpus/movie_lines.txt  \n",
            "  inflating: cornell_movie_dialogs_corpus/cornell movie-dialogs corpus/movie_titles_metadata.txt  \n",
            "  inflating: cornell_movie_dialogs_corpus/cornell movie-dialogs corpus/raw_script_urls.txt  \n",
            "  inflating: cornell_movie_dialogs_corpus/cornell movie-dialogs corpus/README.txt  \n",
            "  inflating: cornell_movie_dialogs_corpus/__MACOSX/cornell movie-dialogs corpus/._README.txt  \n"
          ],
          "name": "stdout"
        }
      ]
    },
    {
      "cell_type": "code",
      "metadata": {
        "colab": {
          "base_uri": "https://localhost:8080/"
        },
        "id": "GDhMbKAmVqQ9",
        "outputId": "736e887a-e716-4ade-9103-97ef980b1a23"
      },
      "source": [
        "%cd cornell_movie_dialogs_corpus"
      ],
      "execution_count": 4,
      "outputs": [
        {
          "output_type": "stream",
          "text": [
            "/content/cornell_movie_dialogs_corpus\n"
          ],
          "name": "stdout"
        }
      ]
    },
    {
      "cell_type": "code",
      "metadata": {
        "colab": {
          "base_uri": "https://localhost:8080/"
        },
        "id": "IS_4pJEPVlV2",
        "outputId": "5286ad6e-8244-4bad-9bcf-9a4d5af26a0c"
      },
      "source": [
        "corpus_name = \"cornell movie-dialogs corpus\"\r\n",
        "\r\n",
        "def printLines(file, n=10):\r\n",
        "    with open(file, 'rb') as datafile:\r\n",
        "        lines = datafile.readlines()\r\n",
        "    for line in lines[:n]:\r\n",
        "        print(line)\r\n",
        "\r\n",
        "printLines(os.path.join(corpus_name, \"movie_lines.txt\"))"
      ],
      "execution_count": 5,
      "outputs": [
        {
          "output_type": "stream",
          "text": [
            "b'L1045 +++$+++ u0 +++$+++ m0 +++$+++ BIANCA +++$+++ They do not!\\n'\n",
            "b'L1044 +++$+++ u2 +++$+++ m0 +++$+++ CAMERON +++$+++ They do to!\\n'\n",
            "b'L985 +++$+++ u0 +++$+++ m0 +++$+++ BIANCA +++$+++ I hope so.\\n'\n",
            "b'L984 +++$+++ u2 +++$+++ m0 +++$+++ CAMERON +++$+++ She okay?\\n'\n",
            "b\"L925 +++$+++ u0 +++$+++ m0 +++$+++ BIANCA +++$+++ Let's go.\\n\"\n",
            "b'L924 +++$+++ u2 +++$+++ m0 +++$+++ CAMERON +++$+++ Wow\\n'\n",
            "b\"L872 +++$+++ u0 +++$+++ m0 +++$+++ BIANCA +++$+++ Okay -- you're gonna need to learn how to lie.\\n\"\n",
            "b'L871 +++$+++ u2 +++$+++ m0 +++$+++ CAMERON +++$+++ No\\n'\n",
            "b'L870 +++$+++ u0 +++$+++ m0 +++$+++ BIANCA +++$+++ I\\'m kidding.  You know how sometimes you just become this \"persona\"?  And you don\\'t know how to quit?\\n'\n",
            "b'L869 +++$+++ u0 +++$+++ m0 +++$+++ BIANCA +++$+++ Like my fear of wearing pastels?\\n'\n"
          ],
          "name": "stdout"
        }
      ]
    },
    {
      "cell_type": "markdown",
      "metadata": {
        "id": "ZgIBoyJjVxeu"
      },
      "source": [
        "Create formatted data file\r\n",
        "~~~~~~~~~~~~~~~~~~~~~~~~~~\r\n",
        "\r\n",
        "For convenience, we'll create a nicely formatted data file in which each line\r\n",
        "contains a tab-separated *query sentence* and a *response sentence* pair.\r\n",
        "\r\n",
        "The following functions facilitate the parsing of the raw\r\n",
        "*movie_lines.txt* data file.\r\n",
        "\r\n",
        "-  ``loadLines`` splits each line of the file into a dictionary of\r\n",
        "   fields (lineID, characterID, movieID, character, text)\r\n",
        "-  ``loadConversations`` groups fields of lines from ``loadLines`` into\r\n",
        "   conversations based on *movie_conversations.txt*\r\n",
        "-  ``extractSentencePairs`` extracts pairs of sentences from\r\n",
        "   conversations\r\n",
        "\r\n",
        "\r\n"
      ]
    },
    {
      "cell_type": "code",
      "metadata": {
        "id": "zeAtWl4HVnj-"
      },
      "source": [
        "# Splits each line of the file into a dictionary of fields\r\n",
        "def loadLines(fileName, fields):\r\n",
        "    lines = {}\r\n",
        "    with open(fileName, 'r', encoding='iso-8859-1') as f:\r\n",
        "        for line in f:\r\n",
        "            values = line.split(\" +++$+++ \")\r\n",
        "            # Extract fields\r\n",
        "            lineObj = {}\r\n",
        "            for i, field in enumerate(fields):\r\n",
        "                lineObj[field] = values[i]\r\n",
        "            lines[lineObj['lineID']] = lineObj\r\n",
        "    return lines\r\n",
        "\r\n",
        "\r\n",
        "# Groups fields of lines from `loadLines` into conversations based on *movie_conversations.txt*\r\n",
        "def loadConversations(fileName, lines, fields):\r\n",
        "    conversations = []\r\n",
        "    with open(fileName, 'r', encoding='iso-8859-1') as f:\r\n",
        "        for line in f:\r\n",
        "            values = line.split(\" +++$+++ \")\r\n",
        "            # Extract fields\r\n",
        "            convObj = {}\r\n",
        "            for i, field in enumerate(fields):\r\n",
        "                convObj[field] = values[i]\r\n",
        "            # Convert string to list (convObj[\"utteranceIDs\"] == \"['L598485', 'L598486', ...]\")\r\n",
        "            utterance_id_pattern = re.compile('L[0-9]+')\r\n",
        "            lineIds = utterance_id_pattern.findall(convObj[\"utteranceIDs\"])\r\n",
        "            # Reassemble lines\r\n",
        "            convObj[\"lines\"] = []\r\n",
        "            for lineId in lineIds:\r\n",
        "                convObj[\"lines\"].append(lines[lineId])\r\n",
        "            conversations.append(convObj)\r\n",
        "    return conversations\r\n",
        "\r\n",
        "\r\n",
        "# Extracts pairs of sentences from conversations\r\n",
        "def extractSentencePairs(conversations):\r\n",
        "    qa_pairs = []\r\n",
        "    for conversation in conversations:\r\n",
        "        # Iterate over all the lines of the conversation\r\n",
        "        for i in range(len(conversation[\"lines\"]) - 1):  # We ignore the last line (no answer for it)\r\n",
        "            inputLine = conversation[\"lines\"][i][\"text\"].strip()\r\n",
        "            targetLine = conversation[\"lines\"][i+1][\"text\"].strip()\r\n",
        "            # Filter wrong samples (if one of the lists is empty)\r\n",
        "            if inputLine and targetLine:\r\n",
        "                qa_pairs.append([inputLine, targetLine])\r\n",
        "    return qa_pairs"
      ],
      "execution_count": 6,
      "outputs": []
    },
    {
      "cell_type": "code",
      "metadata": {
        "colab": {
          "base_uri": "https://localhost:8080/"
        },
        "id": "P7MAUtsUV0Qu",
        "outputId": "3da62ad9-ff64-4bd7-8823-14ae17332334"
      },
      "source": [
        "# Define path to new file\r\n",
        "datafile = os.path.join(corpus_name, \"formatted_movie_lines.txt\")\r\n",
        "\r\n",
        "delimiter = '\\t'\r\n",
        "# Unescape the delimiter\r\n",
        "delimiter = str(codecs.decode(delimiter, \"unicode_escape\"))\r\n",
        "\r\n",
        "# Initialize lines dict, conversations list, and field ids\r\n",
        "lines = {}\r\n",
        "conversations = []\r\n",
        "MOVIE_LINES_FIELDS = [\"lineID\", \"characterID\", \"movieID\", \"character\", \"text\"]\r\n",
        "MOVIE_CONVERSATIONS_FIELDS = [\"character1ID\", \"character2ID\", \"movieID\", \"utteranceIDs\"]\r\n",
        "\r\n",
        "# Load lines and process conversations\r\n",
        "print(\"\\nProcessing corpus...\")\r\n",
        "lines = loadLines(os.path.join(corpus_name, \"movie_lines.txt\"), MOVIE_LINES_FIELDS)\r\n",
        "print(\"\\nLoading conversations...\")\r\n",
        "conversations = loadConversations(os.path.join(corpus_name, \"movie_conversations.txt\"),\r\n",
        "                                  lines, MOVIE_CONVERSATIONS_FIELDS)\r\n",
        "\r\n",
        "# Write new csv file\r\n",
        "print(\"\\nWriting newly formatted file...\")\r\n",
        "with open(datafile, 'w', encoding='utf-8') as outputfile:\r\n",
        "    writer = csv.writer(outputfile, delimiter=delimiter, lineterminator='\\n')\r\n",
        "    for pair in extractSentencePairs(conversations):\r\n",
        "        writer.writerow(pair)\r\n",
        "\r\n",
        "# Print a sample of lines\r\n",
        "print(\"\\nSample lines from file:\")\r\n",
        "printLines(datafile)"
      ],
      "execution_count": 7,
      "outputs": [
        {
          "output_type": "stream",
          "text": [
            "\n",
            "Processing corpus...\n",
            "\n",
            "Loading conversations...\n",
            "\n",
            "Writing newly formatted file...\n",
            "\n",
            "Sample lines from file:\n",
            "b\"Can we make this quick?  Roxanne Korrine and Andrew Barrett are having an incredibly horrendous public break- up on the quad.  Again.\\tWell, I thought we'd start with pronunciation, if that's okay with you.\\n\"\n",
            "b\"Well, I thought we'd start with pronunciation, if that's okay with you.\\tNot the hacking and gagging and spitting part.  Please.\\n\"\n",
            "b\"Not the hacking and gagging and spitting part.  Please.\\tOkay... then how 'bout we try out some French cuisine.  Saturday?  Night?\\n\"\n",
            "b\"You're asking me out.  That's so cute. What's your name again?\\tForget it.\\n\"\n",
            "b\"No, no, it's my fault -- we didn't have a proper introduction ---\\tCameron.\\n\"\n",
            "b\"Cameron.\\tThe thing is, Cameron -- I'm at the mercy of a particularly hideous breed of loser.  My sister.  I can't date until she does.\\n\"\n",
            "b\"The thing is, Cameron -- I'm at the mercy of a particularly hideous breed of loser.  My sister.  I can't date until she does.\\tSeems like she could get a date easy enough...\\n\"\n",
            "b'Why?\\tUnsolved mystery.  She used to be really popular when she started high school, then it was just like she got sick of it or something.\\n'\n",
            "b\"Unsolved mystery.  She used to be really popular when she started high school, then it was just like she got sick of it or something.\\tThat's a shame.\\n\"\n",
            "b'Gosh, if only we could find Kat a boyfriend...\\tLet me see what I can do.\\n'\n"
          ],
          "name": "stdout"
        }
      ]
    },
    {
      "cell_type": "markdown",
      "metadata": {
        "id": "CV5OqurOWGvm"
      },
      "source": [
        "Load and trim data\r\n",
        "~~~~~~~~~~~~~~~~~~\r\n",
        "\r\n",
        "Our next order of business is to create a vocabulary and load\r\n",
        "query/response sentence pairs into memory.\r\n",
        "\r\n",
        "Note that we are dealing with sequences of **words**, which do not have\r\n",
        "an implicit mapping to a discrete numerical space. Thus, we must create\r\n",
        "one by mapping each unique word that we encounter in our dataset to an\r\n",
        "index value.\r\n",
        "\r\n",
        "For this we define a ``Voc`` class, which keeps a mapping from words to\r\n",
        "indexes, a reverse mapping of indexes to words, a count of each word and\r\n",
        "a total word count. The class provides methods for adding a word to the\r\n",
        "vocabulary (``addWord``), adding all words in a sentence\r\n",
        "(``addSentence``) and trimming infrequently seen words (``trim``). More\r\n",
        "on trimming later.\r\n",
        "\r\n",
        "\r\n"
      ]
    },
    {
      "cell_type": "code",
      "metadata": {
        "id": "fIBhxVa7V-J-"
      },
      "source": [
        "# Default word tokens\r\n",
        "PAD_token = 0  # Used for padding short sentences\r\n",
        "SOS_token = 1  # Start-of-sentence token\r\n",
        "EOS_token = 2  # End-of-sentence token\r\n",
        "\r\n",
        "class Voc:\r\n",
        "    def __init__(self, name):\r\n",
        "        self.name = name\r\n",
        "        self.trimmed = False\r\n",
        "        self.word2index = {}\r\n",
        "        self.word2count = {}\r\n",
        "        self.index2word = {PAD_token: \"PAD\", SOS_token: \"SOS\", EOS_token: \"EOS\"}\r\n",
        "        self.num_words = 3  # Count SOS, EOS, PAD\r\n",
        "\r\n",
        "    def addSentence(self, sentence):\r\n",
        "        for word in sentence.split(' '):\r\n",
        "            self.addWord(word)\r\n",
        "\r\n",
        "    def addWord(self, word):\r\n",
        "        if word not in self.word2index:\r\n",
        "            self.word2index[word] = self.num_words\r\n",
        "            self.word2count[word] = 1\r\n",
        "            self.index2word[self.num_words] = word\r\n",
        "            self.num_words += 1\r\n",
        "        else:\r\n",
        "            self.word2count[word] += 1\r\n",
        "\r\n",
        "    # Remove words below a certain count threshold\r\n",
        "    def trim(self, min_count):\r\n",
        "        if self.trimmed:\r\n",
        "            return\r\n",
        "        self.trimmed = True\r\n",
        "\r\n",
        "        keep_words = []\r\n",
        "\r\n",
        "        for k, v in self.word2count.items():\r\n",
        "            if v >= min_count:\r\n",
        "                keep_words.append(k)\r\n",
        "\r\n",
        "        print('keep_words {} / {} = {:.4f}'.format(\r\n",
        "            len(keep_words), len(self.word2index), len(keep_words) / len(self.word2index)\r\n",
        "        ))\r\n",
        "\r\n",
        "        # Reinitialize dictionaries\r\n",
        "        self.word2index = {}\r\n",
        "        self.word2count = {}\r\n",
        "        self.index2word = {PAD_token: \"PAD\", SOS_token: \"SOS\", EOS_token: \"EOS\"}\r\n",
        "        self.num_words = 3 # Count default tokens\r\n",
        "\r\n",
        "        for word in keep_words:\r\n",
        "            self.addWord(word)"
      ],
      "execution_count": 8,
      "outputs": []
    },
    {
      "cell_type": "markdown",
      "metadata": {
        "id": "Jxjy0RwRWLb2"
      },
      "source": [
        "Now we can assemble our vocabulary and query/response sentence pairs.\r\n",
        "Before we are ready to use this data, we must perform some\r\n",
        "preprocessing.\r\n",
        "\r\n",
        "First, we must convert the Unicode strings to ASCII using\r\n",
        "``unicodeToAscii``. Next, we should convert all letters to lowercase and\r\n",
        "trim all non-letter characters except for basic punctuation\r\n",
        "(``normalizeString``). Finally, to aid in training convergence, we will\r\n",
        "filter out sentences with length greater than the ``MAX_LENGTH``\r\n",
        "threshold (``filterPairs``).\r\n",
        "\r\n",
        "\r\n"
      ]
    },
    {
      "cell_type": "code",
      "metadata": {
        "colab": {
          "base_uri": "https://localhost:8080/"
        },
        "id": "53OAthCaWJP3",
        "outputId": "18b8792e-0aca-4e45-b73d-c4265f36fdda"
      },
      "source": [
        "MAX_LENGTH = 20  # Maximum sentence length to consider\r\n",
        "\r\n",
        "# Turn a Unicode string to plain ASCII, thanks to\r\n",
        "# https://stackoverflow.com/a/518232/2809427\r\n",
        "def unicodeToAscii(s):\r\n",
        "    return ''.join(\r\n",
        "        c for c in unicodedata.normalize('NFD', s)\r\n",
        "        if unicodedata.category(c) != 'Mn'\r\n",
        "    )\r\n",
        "\r\n",
        "# Lowercase, trim, and remove non-letter characters\r\n",
        "def normalizeString(s):\r\n",
        "    s = unicodeToAscii(s.lower().strip())\r\n",
        "    s = re.sub(r\"([.!?])\", r\" \\1\", s)\r\n",
        "    s = re.sub(r\"[^a-zA-Z.!?]+\", r\" \", s)\r\n",
        "    s = re.sub(r\"\\s+\", r\" \", s).strip()\r\n",
        "    return s\r\n",
        "\r\n",
        "# Read query/response pairs and return a voc object\r\n",
        "def readVocs(datafile, corpus_name):\r\n",
        "    print(\"Reading lines...\")\r\n",
        "    # Read the file and split into lines\r\n",
        "    lines = open(datafile, encoding='utf-8').\\\r\n",
        "        read().strip().split('\\n')\r\n",
        "    # Split every line into pairs and normalize\r\n",
        "    pairs = [[normalizeString(s) for s in l.split('\\t')] for l in lines]\r\n",
        "    voc = Voc(corpus_name)\r\n",
        "    return voc, pairs\r\n",
        "\r\n",
        "# Returns True iff both sentences in a pair 'p' are under the MAX_LENGTH threshold\r\n",
        "def filterPair(p):\r\n",
        "    # Input sequences need to preserve the last word for EOS token\r\n",
        "    return len(p[0].split(' ')) < MAX_LENGTH and len(p[1].split(' ')) < MAX_LENGTH\r\n",
        "\r\n",
        "# Filter pairs using filterPair condition\r\n",
        "def filterPairs(pairs):\r\n",
        "    return [pair for pair in pairs if filterPair(pair)]\r\n",
        "\r\n",
        "# Using the functions defined above, return a populated voc object and pairs list\r\n",
        "def loadPrepareData(corpus, corpus_name, datafile, save_dir):\r\n",
        "    print(\"Start preparing training data ...\")\r\n",
        "    voc, pairs = readVocs(datafile, corpus_name)\r\n",
        "    print(\"Read {!s} sentence pairs\".format(len(pairs)))\r\n",
        "    pairs = filterPairs(pairs)\r\n",
        "    print(\"Trimmed to {!s} sentence pairs\".format(len(pairs)))\r\n",
        "    print(\"Counting words...\")\r\n",
        "    for pair in pairs:\r\n",
        "        voc.addSentence(pair[0])\r\n",
        "        voc.addSentence(pair[1])\r\n",
        "    print(\"Counted words:\", voc.num_words)\r\n",
        "    return voc, pairs\r\n",
        "\r\n",
        "\r\n",
        "# Load/Assemble voc and pairs\r\n",
        "save_dir = os.path.join(\"data\", \"save\")\r\n",
        "voc, pairs = loadPrepareData(corpus_name, corpus_name, datafile, save_dir)\r\n",
        "# Print some pairs to validate\r\n",
        "print(\"\\npairs:\")\r\n",
        "for pair in pairs[50:60]:\r\n",
        "    print(pair)"
      ],
      "execution_count": 9,
      "outputs": [
        {
          "output_type": "stream",
          "text": [
            "Start preparing training data ...\n",
            "Reading lines...\n",
            "Read 221282 sentence pairs\n",
            "Trimmed to 145439 sentence pairs\n",
            "Counting words...\n",
            "Counted words: 33027\n",
            "\n",
            "pairs:\n",
            "['you are so completely unbalanced .', 'can we go now ?']\n",
            "['bianca i need to talk to you i need to tell you', 'i really don t think i need any social advice from you right now .']\n",
            "['listen i know you hate having to sit home because i m not susie high school .', 'like you care .']\n",
            "['joey never told you we went out did he ?', 'what ?']\n",
            "['what ?', 'in th . for a month']\n",
            "['in th . for a month', 'why ?']\n",
            "['why ?', 'he was like a total babe']\n",
            "['he was like a total babe', 'but you hate joey']\n",
            "['but you hate joey', 'now i do . back then was a different story .']\n",
            "['now i do . back then was a different story .', 'as in . . .']\n"
          ],
          "name": "stdout"
        }
      ]
    },
    {
      "cell_type": "code",
      "metadata": {
        "colab": {
          "base_uri": "https://localhost:8080/"
        },
        "id": "mGbTkz6_WNku",
        "outputId": "513ed653-83df-4a73-cfa2-7df9bb6e9c04"
      },
      "source": [
        "len(vars(voc)['index2word'])"
      ],
      "execution_count": 10,
      "outputs": [
        {
          "output_type": "execute_result",
          "data": {
            "text/plain": [
              "33027"
            ]
          },
          "metadata": {
            "tags": []
          },
          "execution_count": 10
        }
      ]
    },
    {
      "cell_type": "code",
      "metadata": {
        "colab": {
          "base_uri": "https://localhost:8080/"
        },
        "id": "eN6Lzj-XWQxn",
        "outputId": "b2bf9ef5-fac5-45d5-dd83-7de76083d6f1"
      },
      "source": [
        "def tokenize_en(text):\r\n",
        "    \"\"\"\r\n",
        "    Tokenizes English text from a string into a list of strings\r\n",
        "    \"\"\"\r\n",
        "    return [tok.text for tok in spacy_en.tokenizer(text)]\r\n",
        "\r\n",
        "\r\n",
        "conversation = data.Field(sequential = True,\r\n",
        "              tokenize = tokenize_en,\r\n",
        "              init_token='<sos>', \r\n",
        "              eos_token='<eos>', \r\n",
        "              lower=True,\r\n",
        "              batch_first=True)\r\n",
        "\r\n",
        "fields = [('question', conversation), ('answer',conversation)]\r\n",
        "\r\n",
        "example = [data.Example.fromlist(i, fields) for i in pairs]\r\n",
        "\r\n",
        "ChatDataset = data.Dataset(example, fields)\r\n",
        "\r\n",
        "(train, valid) = ChatDataset.split(split_ratio=[0.85, 0.15], random_state=random.seed(SEED))\r\n",
        "\r\n",
        "(len(train), len(valid))"
      ],
      "execution_count": 11,
      "outputs": [
        {
          "output_type": "execute_result",
          "data": {
            "text/plain": [
              "(123623, 21816)"
            ]
          },
          "metadata": {
            "tags": []
          },
          "execution_count": 11
        }
      ]
    },
    {
      "cell_type": "code",
      "metadata": {
        "colab": {
          "base_uri": "https://localhost:8080/"
        },
        "id": "dpgJboKKWeIP",
        "outputId": "90fad3d8-0051-4431-92d2-bbed0dd4d1b4"
      },
      "source": [
        "vars(train.examples[90])"
      ],
      "execution_count": 12,
      "outputs": [
        {
          "output_type": "execute_result",
          "data": {
            "text/plain": [
              "{'answer': ['i',\n",
              "  'thought',\n",
              "  'and',\n",
              "  'correct',\n",
              "  'me',\n",
              "  'if',\n",
              "  'i',\n",
              "  'm',\n",
              "  'wrong',\n",
              "  'but',\n",
              "  'weren',\n",
              "  't',\n",
              "  'you',\n",
              "  'trying',\n",
              "  'to',\n",
              "  'play',\n",
              "  'both',\n",
              "  'sides',\n",
              "  '?'],\n",
              " 'question': ['there',\n",
              "  'was',\n",
              "  'a',\n",
              "  'bit',\n",
              "  'of',\n",
              "  'confusion',\n",
              "  'on',\n",
              "  'one',\n",
              "  'of',\n",
              "  'my',\n",
              "  'last',\n",
              "  'jobs',\n",
              "  '.']}"
            ]
          },
          "metadata": {
            "tags": []
          },
          "execution_count": 12
        }
      ]
    },
    {
      "cell_type": "code",
      "metadata": {
        "colab": {
          "base_uri": "https://localhost:8080/"
        },
        "id": "8KKhT7IVWgUe",
        "outputId": "7b1e8ff4-cc8a-4263-caba-0694d7b7044f"
      },
      "source": [
        "vars(valid.examples[90])"
      ],
      "execution_count": 13,
      "outputs": [
        {
          "output_type": "execute_result",
          "data": {
            "text/plain": [
              "{'answer': ['worse', '.'], 'question': ['like', 'rome', '?']}"
            ]
          },
          "metadata": {
            "tags": []
          },
          "execution_count": 13
        }
      ]
    },
    {
      "cell_type": "code",
      "metadata": {
        "id": "H3gsj-YjWic-"
      },
      "source": [
        "conversation.build_vocab(ChatDataset, min_freq=2)\r\n",
        "#SRC.build_vocab(train, min_freq = 2)\r\n",
        "#TRG.build_vocab(valid, min_freq = 2)\r\n",
        "#SRC.build_vocab(train, vectors=\"glove.6B.300d\", min_freq = 2)\r\n",
        "#TRG.build_vocab(valid, vectors=\"glove.6B.300d\", min_freq = 2)"
      ],
      "execution_count": 14,
      "outputs": []
    },
    {
      "cell_type": "code",
      "metadata": {
        "id": "I7QbGQtHWp4W"
      },
      "source": [
        "BATCH_SIZE = 128\r\n",
        "\r\n",
        "train_iterator, valid_iterator = BucketIterator.splits(\r\n",
        "     (train, valid), \r\n",
        "     batch_size = BATCH_SIZE,\r\n",
        "     sort_key=lambda x : len(x.answer),\r\n",
        "     sort_within_batch=False,\r\n",
        "     device = device)"
      ],
      "execution_count": 15,
      "outputs": []
    },
    {
      "cell_type": "code",
      "metadata": {
        "id": "6pwwvGNSWrzu"
      },
      "source": [
        "class Encoder(nn.Module):\r\n",
        "    def __init__(self, \r\n",
        "                 input_dim, \r\n",
        "                 hid_dim, \r\n",
        "                 n_layers, \r\n",
        "                 n_heads, \r\n",
        "                 pf_dim,\r\n",
        "                 dropout, \r\n",
        "                 device,\r\n",
        "                 max_length = 100):\r\n",
        "        super().__init__()\r\n",
        "\r\n",
        "        self.device = device\r\n",
        "        \r\n",
        "        self.tok_embedding = nn.Embedding(input_dim, hid_dim)\r\n",
        "        self.pos_embedding = nn.Embedding(max_length, hid_dim)\r\n",
        "        \r\n",
        "        self.layers = nn.ModuleList([EncoderLayer(hid_dim, \r\n",
        "                                                  n_heads, \r\n",
        "                                                  pf_dim,\r\n",
        "                                                  dropout, \r\n",
        "                                                  device) \r\n",
        "                                     for _ in range(n_layers)])\r\n",
        "        \r\n",
        "        self.dropout = nn.Dropout(dropout)\r\n",
        "        \r\n",
        "        self.scale = torch.sqrt(torch.FloatTensor([hid_dim])).to(device)\r\n",
        "        \r\n",
        "    def forward(self, src, src_mask):\r\n",
        "        \r\n",
        "        #src = [batch size, src len]\r\n",
        "        #src_mask = [batch size, 1, 1, src len]\r\n",
        "        \r\n",
        "        batch_size = src.shape[0]\r\n",
        "        src_len = src.shape[1]\r\n",
        "        \r\n",
        "        pos = torch.arange(0, src_len).unsqueeze(0).repeat(batch_size, 1).to(self.device)\r\n",
        "        \r\n",
        "        #pos = [batch size, src len]\r\n",
        "        \r\n",
        "        src = self.dropout((self.tok_embedding(src) * self.scale) + self.pos_embedding(pos))\r\n",
        "        \r\n",
        "        #src = [batch size, src len, hid dim]\r\n",
        "        \r\n",
        "        for layer in self.layers:\r\n",
        "            src = layer(src, src_mask)\r\n",
        "            \r\n",
        "        #src = [batch size, src len, hid dim]\r\n",
        "            \r\n",
        "        return src\r\n",
        "\r\n",
        "\r\n",
        "class EncoderLayer(nn.Module):\r\n",
        "    def __init__(self, \r\n",
        "                 hid_dim, \r\n",
        "                 n_heads, \r\n",
        "                 pf_dim,  \r\n",
        "                 dropout, \r\n",
        "                 device):\r\n",
        "        super().__init__()\r\n",
        "        \r\n",
        "        self.self_attn_layer_norm = nn.LayerNorm(hid_dim)\r\n",
        "        self.ff_layer_norm = nn.LayerNorm(hid_dim)\r\n",
        "        self.self_attention = MultiHeadAttentionLayer(hid_dim, n_heads, dropout, device)\r\n",
        "        self.positionwise_feedforward = PositionwiseFeedforwardLayer(hid_dim, \r\n",
        "                                                                     pf_dim, \r\n",
        "                                                                     dropout)\r\n",
        "        self.dropout = nn.Dropout(dropout)\r\n",
        "        \r\n",
        "    def forward(self, src, src_mask):\r\n",
        "        \r\n",
        "        #src = [batch size, src len, hid dim]\r\n",
        "        #src_mask = [batch size, 1, 1, src len] \r\n",
        "                \r\n",
        "        #self attention\r\n",
        "        _src, _ = self.self_attention(src, src, src, src_mask)\r\n",
        "        \r\n",
        "        #dropout, residual connection and layer norm\r\n",
        "        src = self.self_attn_layer_norm(src + self.dropout(_src))\r\n",
        "        \r\n",
        "        #src = [batch size, src len, hid dim]\r\n",
        "        \r\n",
        "        #positionwise feedforward\r\n",
        "        _src = self.positionwise_feedforward(src)\r\n",
        "        \r\n",
        "        #dropout, residual and layer norm\r\n",
        "        src = self.ff_layer_norm(src + self.dropout(_src))\r\n",
        "        \r\n",
        "        #src = [batch size, src len, hid dim]\r\n",
        "        \r\n",
        "        return src\r\n",
        "\r\n",
        "\r\n",
        "class MultiHeadAttentionLayer(nn.Module):\r\n",
        "    def __init__(self, hid_dim, n_heads, dropout, device):\r\n",
        "        super().__init__()\r\n",
        "        \r\n",
        "        assert hid_dim % n_heads == 0\r\n",
        "        \r\n",
        "        self.hid_dim = hid_dim\r\n",
        "        self.n_heads = n_heads\r\n",
        "        self.head_dim = hid_dim // n_heads\r\n",
        "        \r\n",
        "        self.fc_q = nn.Linear(hid_dim, hid_dim)\r\n",
        "        self.fc_k = nn.Linear(hid_dim, hid_dim)\r\n",
        "        self.fc_v = nn.Linear(hid_dim, hid_dim)\r\n",
        "        \r\n",
        "        self.fc_o = nn.Linear(hid_dim, hid_dim)\r\n",
        "        \r\n",
        "        self.dropout = nn.Dropout(dropout)\r\n",
        "        \r\n",
        "        self.scale = torch.sqrt(torch.FloatTensor([self.head_dim])).to(device)\r\n",
        "        \r\n",
        "    def forward(self, query, key, value, mask = None):\r\n",
        "        \r\n",
        "        batch_size = query.shape[0]\r\n",
        "        \r\n",
        "        #query = [batch size, query len, hid dim]\r\n",
        "        #key = [batch size, key len, hid dim]\r\n",
        "        #value = [batch size, value len, hid dim]\r\n",
        "                \r\n",
        "        Q = self.fc_q(query)\r\n",
        "        K = self.fc_k(key)\r\n",
        "        V = self.fc_v(value)\r\n",
        "        \r\n",
        "        #Q = [batch size, query len, hid dim]\r\n",
        "        #K = [batch size, key len, hid dim]\r\n",
        "        #V = [batch size, value len, hid dim]\r\n",
        "                \r\n",
        "        Q = Q.view(batch_size, -1, self.n_heads, self.head_dim).permute(0, 2, 1, 3)\r\n",
        "        K = K.view(batch_size, -1, self.n_heads, self.head_dim).permute(0, 2, 1, 3)\r\n",
        "        V = V.view(batch_size, -1, self.n_heads, self.head_dim).permute(0, 2, 1, 3)\r\n",
        "        \r\n",
        "        #Q = [batch size, n heads, query len, head dim]\r\n",
        "        #K = [batch size, n heads, key len, head dim]\r\n",
        "        #V = [batch size, n heads, value len, head dim]\r\n",
        "                \r\n",
        "        energy = torch.matmul(Q, K.permute(0, 1, 3, 2)) / self.scale\r\n",
        "        \r\n",
        "        #energy = [batch size, n heads, query len, key len]\r\n",
        "        \r\n",
        "        if mask is not None:\r\n",
        "            energy = energy.masked_fill(mask == 0, -1e10)\r\n",
        "        \r\n",
        "        attention = torch.softmax(energy, dim = -1)\r\n",
        "                \r\n",
        "        #attention = [batch size, n heads, query len, key len]\r\n",
        "                \r\n",
        "        x = torch.matmul(self.dropout(attention), V)\r\n",
        "        \r\n",
        "        #x = [batch size, n heads, query len, head dim]\r\n",
        "        \r\n",
        "        x = x.permute(0, 2, 1, 3).contiguous()\r\n",
        "        \r\n",
        "        #x = [batch size, query len, n heads, head dim]\r\n",
        "        \r\n",
        "        x = x.view(batch_size, -1, self.hid_dim)\r\n",
        "        \r\n",
        "        #x = [batch size, query len, hid dim]\r\n",
        "        \r\n",
        "        x = self.fc_o(x)\r\n",
        "        \r\n",
        "        #x = [batch size, query len, hid dim]\r\n",
        "        \r\n",
        "        return x, attention\r\n",
        "\r\n",
        "\r\n",
        "class PositionwiseFeedforwardLayer(nn.Module):\r\n",
        "    def __init__(self, hid_dim, pf_dim, dropout):\r\n",
        "        super().__init__()\r\n",
        "        \r\n",
        "        self.fc_1 = nn.Linear(hid_dim, pf_dim)\r\n",
        "        self.fc_2 = nn.Linear(pf_dim, hid_dim)\r\n",
        "        \r\n",
        "        self.dropout = nn.Dropout(dropout)\r\n",
        "        \r\n",
        "    def forward(self, x):\r\n",
        "        \r\n",
        "        #x = [batch size, seq len, hid dim]\r\n",
        "        \r\n",
        "        x = self.dropout(torch.relu(self.fc_1(x)))\r\n",
        "        \r\n",
        "        #x = [batch size, seq len, pf dim]\r\n",
        "        \r\n",
        "        x = self.fc_2(x)\r\n",
        "        \r\n",
        "        #x = [batch size, seq len, hid dim]\r\n",
        "        \r\n",
        "        return x\r\n",
        "\r\n",
        "\r\n",
        "class Decoder(nn.Module):\r\n",
        "    def __init__(self, \r\n",
        "                 output_dim, \r\n",
        "                 hid_dim, \r\n",
        "                 n_layers, \r\n",
        "                 n_heads, \r\n",
        "                 pf_dim, \r\n",
        "                 dropout, \r\n",
        "                 device,\r\n",
        "                 max_length = 100):\r\n",
        "        super().__init__()\r\n",
        "        \r\n",
        "        self.device = device\r\n",
        "        \r\n",
        "        self.tok_embedding = nn.Embedding(output_dim, hid_dim)\r\n",
        "        self.pos_embedding = nn.Embedding(max_length, hid_dim)\r\n",
        "        \r\n",
        "        self.layers = nn.ModuleList([DecoderLayer(hid_dim, \r\n",
        "                                                  n_heads, \r\n",
        "                                                  pf_dim, \r\n",
        "                                                  dropout, \r\n",
        "                                                  device)\r\n",
        "                                     for _ in range(n_layers)])\r\n",
        "        \r\n",
        "        self.fc_out = nn.Linear(hid_dim, output_dim)\r\n",
        "        \r\n",
        "        self.dropout = nn.Dropout(dropout)\r\n",
        "        \r\n",
        "        self.scale = torch.sqrt(torch.FloatTensor([hid_dim])).to(device)\r\n",
        "        \r\n",
        "    def forward(self, trg, enc_src, trg_mask, src_mask):\r\n",
        "        \r\n",
        "        #trg = [batch size, trg len]\r\n",
        "        #enc_src = [batch size, src len, hid dim]\r\n",
        "        #trg_mask = [batch size, 1, trg len, trg len]\r\n",
        "        #src_mask = [batch size, 1, 1, src len]\r\n",
        "                \r\n",
        "        batch_size = trg.shape[0]\r\n",
        "        trg_len = trg.shape[1]\r\n",
        "        \r\n",
        "        pos = torch.arange(0, trg_len).unsqueeze(0).repeat(batch_size, 1).to(self.device)\r\n",
        "                            \r\n",
        "        #pos = [batch size, trg len]\r\n",
        "            \r\n",
        "        trg = self.dropout((self.tok_embedding(trg) * self.scale) + self.pos_embedding(pos))\r\n",
        "                \r\n",
        "        #trg = [batch size, trg len, hid dim]\r\n",
        "        \r\n",
        "        for layer in self.layers:\r\n",
        "            trg, attention = layer(trg, enc_src, trg_mask, src_mask)\r\n",
        "        \r\n",
        "        #trg = [batch size, trg len, hid dim]\r\n",
        "        #attention = [batch size, n heads, trg len, src len]\r\n",
        "        \r\n",
        "        output = self.fc_out(trg)\r\n",
        "        \r\n",
        "        #output = [batch size, trg len, output dim]\r\n",
        "            \r\n",
        "        return output, attention\r\n",
        "\r\n",
        "\r\n",
        "class DecoderLayer(nn.Module):\r\n",
        "    def __init__(self, \r\n",
        "                 hid_dim, \r\n",
        "                 n_heads, \r\n",
        "                 pf_dim, \r\n",
        "                 dropout, \r\n",
        "                 device):\r\n",
        "        super().__init__()\r\n",
        "        \r\n",
        "        self.self_attn_layer_norm = nn.LayerNorm(hid_dim)\r\n",
        "        self.enc_attn_layer_norm = nn.LayerNorm(hid_dim)\r\n",
        "        self.ff_layer_norm = nn.LayerNorm(hid_dim)\r\n",
        "        self.self_attention = MultiHeadAttentionLayer(hid_dim, n_heads, dropout, device)\r\n",
        "        self.encoder_attention = MultiHeadAttentionLayer(hid_dim, n_heads, dropout, device)\r\n",
        "        self.positionwise_feedforward = PositionwiseFeedforwardLayer(hid_dim, \r\n",
        "                                                                     pf_dim, \r\n",
        "                                                                     dropout)\r\n",
        "        self.dropout = nn.Dropout(dropout)\r\n",
        "        \r\n",
        "    def forward(self, trg, enc_src, trg_mask, src_mask):\r\n",
        "        \r\n",
        "        #trg = [batch size, trg len, hid dim]\r\n",
        "        #enc_src = [batch size, src len, hid dim]\r\n",
        "        #trg_mask = [batch size, 1, trg len, trg len]\r\n",
        "        #src_mask = [batch size, 1, 1, src len]\r\n",
        "        \r\n",
        "        #self attention\r\n",
        "        _trg, _ = self.self_attention(trg, trg, trg, trg_mask)\r\n",
        "        \r\n",
        "        #dropout, residual connection and layer norm\r\n",
        "        trg = self.self_attn_layer_norm(trg + self.dropout(_trg))\r\n",
        "            \r\n",
        "        #trg = [batch size, trg len, hid dim]\r\n",
        "            \r\n",
        "        #encoder attention\r\n",
        "        _trg, attention = self.encoder_attention(trg, enc_src, enc_src, src_mask)\r\n",
        "        # query, key, value\r\n",
        "        \r\n",
        "        #dropout, residual connection and layer norm\r\n",
        "        trg = self.enc_attn_layer_norm(trg + self.dropout(_trg))\r\n",
        "                    \r\n",
        "        #trg = [batch size, trg len, hid dim]\r\n",
        "        \r\n",
        "        #positionwise feedforward\r\n",
        "        _trg = self.positionwise_feedforward(trg)\r\n",
        "        \r\n",
        "        #dropout, residual and layer norm\r\n",
        "        trg = self.ff_layer_norm(trg + self.dropout(_trg))\r\n",
        "        \r\n",
        "        #trg = [batch size, trg len, hid dim]\r\n",
        "        #attention = [batch size, n heads, trg len, src len]\r\n",
        "        \r\n",
        "        return trg, attention\r\n",
        "\r\n",
        "\r\n",
        "class Seq2Seq(nn.Module):\r\n",
        "    def __init__(self, \r\n",
        "                 encoder, \r\n",
        "                 decoder, \r\n",
        "                 src_pad_idx, \r\n",
        "                 trg_pad_idx, \r\n",
        "                 device):\r\n",
        "        super().__init__()\r\n",
        "        \r\n",
        "        self.encoder = encoder\r\n",
        "        self.decoder = decoder\r\n",
        "        self.src_pad_idx = src_pad_idx\r\n",
        "        self.trg_pad_idx = trg_pad_idx\r\n",
        "        self.device = device\r\n",
        "        \r\n",
        "    def make_src_mask(self, src):\r\n",
        "        \r\n",
        "        #src = [batch size, src len]\r\n",
        "        \r\n",
        "        src_mask = (src != self.src_pad_idx).unsqueeze(1).unsqueeze(2)\r\n",
        "\r\n",
        "        #src_mask = [batch size, 1, 1, src len]\r\n",
        "\r\n",
        "        return src_mask\r\n",
        "    \r\n",
        "    def make_trg_mask(self, trg):\r\n",
        "        \r\n",
        "        #trg = [batch size, trg len]\r\n",
        "        \r\n",
        "        trg_pad_mask = (trg != self.trg_pad_idx).unsqueeze(1).unsqueeze(2)\r\n",
        "        \r\n",
        "        #trg_pad_mask = [batch size, 1, 1, trg len]\r\n",
        "        \r\n",
        "        trg_len = trg.shape[1]\r\n",
        "        \r\n",
        "        trg_sub_mask = torch.tril(torch.ones((trg_len, trg_len), device = self.device)).bool()\r\n",
        "        \r\n",
        "        #trg_sub_mask = [trg len, trg len]\r\n",
        "            \r\n",
        "        trg_mask = trg_pad_mask & trg_sub_mask\r\n",
        "        \r\n",
        "        #trg_mask = [batch size, 1, trg len, trg len]\r\n",
        "        \r\n",
        "        return trg_mask\r\n",
        "\r\n",
        "    def forward(self, src, trg):\r\n",
        "        \r\n",
        "        #src = [batch size, src len]\r\n",
        "        #trg = [batch size, trg len]\r\n",
        "                \r\n",
        "        src_mask = self.make_src_mask(src)\r\n",
        "        trg_mask = self.make_trg_mask(trg)\r\n",
        "        \r\n",
        "        #src_mask = [batch size, 1, 1, src len]\r\n",
        "        #trg_mask = [batch size, 1, trg len, trg len]\r\n",
        "        \r\n",
        "        enc_src = self.encoder(src, src_mask)\r\n",
        "        \r\n",
        "        #enc_src = [batch size, src len, hid dim]\r\n",
        "                \r\n",
        "        output, attention = self.decoder(trg, enc_src, trg_mask, src_mask)\r\n",
        "        \r\n",
        "        #output = [batch size, trg len, output dim]\r\n",
        "        #attention = [batch size, n heads, trg len, src len]\r\n",
        "        \r\n",
        "        return output, attention"
      ],
      "execution_count": 16,
      "outputs": []
    },
    {
      "cell_type": "code",
      "metadata": {
        "id": "rrfMJ02sWtwG"
      },
      "source": [
        "INPUT_DIM = len(conversation.vocab)\r\n",
        "OUTPUT_DIM = len(conversation.vocab)\r\n",
        "HID_DIM = 256\r\n",
        "ENC_LAYERS = 3\r\n",
        "DEC_LAYERS = 3\r\n",
        "ENC_HEADS = 8\r\n",
        "DEC_HEADS = 8\r\n",
        "ENC_PF_DIM = 512\r\n",
        "DEC_PF_DIM = 512\r\n",
        "ENC_DROPOUT = 0.10\r\n",
        "DEC_DROPOUT = 0.10\r\n",
        "\r\n",
        "enc = Encoder(INPUT_DIM, \r\n",
        "              HID_DIM, \r\n",
        "              ENC_LAYERS, \r\n",
        "              ENC_HEADS, \r\n",
        "              ENC_PF_DIM, \r\n",
        "              ENC_DROPOUT, \r\n",
        "              device)\r\n",
        "\r\n",
        "dec = Decoder(OUTPUT_DIM, \r\n",
        "              HID_DIM, \r\n",
        "              DEC_LAYERS, \r\n",
        "              DEC_HEADS, \r\n",
        "              DEC_PF_DIM, \r\n",
        "              DEC_DROPOUT, \r\n",
        "              device)"
      ],
      "execution_count": 24,
      "outputs": []
    },
    {
      "cell_type": "code",
      "metadata": {
        "id": "G8alUE0BW2Xe"
      },
      "source": [
        "SRC_PAD_IDX = conversation.vocab.stoi[conversation.pad_token]\r\n",
        "TRG_PAD_IDX = conversation.vocab.stoi[conversation.pad_token]\r\n",
        "\r\n",
        "model = Seq2Seq(enc, dec, SRC_PAD_IDX, TRG_PAD_IDX, device).to(device)"
      ],
      "execution_count": 25,
      "outputs": []
    },
    {
      "cell_type": "code",
      "metadata": {
        "colab": {
          "base_uri": "https://localhost:8080/"
        },
        "id": "zjKd1YS4W4ef",
        "outputId": "1889c469-d4a4-4d8c-97a8-c885ea67b674"
      },
      "source": [
        "def count_parameters(model):\r\n",
        "    return sum(p.numel() for p in model.parameters() if p.requires_grad)\r\n",
        "\r\n",
        "print(f'The model has {count_parameters(model):,} trainable parameters')"
      ],
      "execution_count": 26,
      "outputs": [
        {
          "output_type": "stream",
          "text": [
            "The model has 22,261,693 trainable parameters\n"
          ],
          "name": "stdout"
        }
      ]
    },
    {
      "cell_type": "code",
      "metadata": {
        "id": "P6RUzeQOW6oO"
      },
      "source": [
        "def initialize_weights(m):\r\n",
        "    if hasattr(m, 'weight') and m.weight.dim() > 1:\r\n",
        "        nn.init.xavier_uniform_(m.weight.data)"
      ],
      "execution_count": 27,
      "outputs": []
    },
    {
      "cell_type": "code",
      "metadata": {
        "id": "EsYZFTnHW8e1"
      },
      "source": [
        "model.apply(initialize_weights);"
      ],
      "execution_count": 28,
      "outputs": []
    },
    {
      "cell_type": "code",
      "metadata": {
        "colab": {
          "base_uri": "https://localhost:8080/",
          "height": 52
        },
        "id": "7UcGkVdQW-DF",
        "outputId": "dbbb0d7a-d421-41a3-ddd8-4d0e40edc5ce"
      },
      "source": [
        "\"\"\"\r\n",
        "model.encoder.tok_embedding.weight.data.copy_(conversation.vocab.vectors)\r\n",
        "model.encoder.tok_embedding.requires_grad_ = False\r\n",
        "model.decoder.tok_embedding.weight.data.copy_(conversation.vocab.vectors)\r\n",
        "model.decoder.tok_embedding.requires_grad_ = False\r\n",
        "\"\"\""
      ],
      "execution_count": 29,
      "outputs": [
        {
          "output_type": "execute_result",
          "data": {
            "application/vnd.google.colaboratory.intrinsic+json": {
              "type": "string"
            },
            "text/plain": [
              "'\\nmodel.encoder.tok_embedding.weight.data.copy_(conversation.vocab.vectors)\\nmodel.encoder.tok_embedding.requires_grad_ = False\\nmodel.decoder.tok_embedding.weight.data.copy_(conversation.vocab.vectors)\\nmodel.decoder.tok_embedding.requires_grad_ = False\\n'"
            ]
          },
          "metadata": {
            "tags": []
          },
          "execution_count": 29
        }
      ]
    },
    {
      "cell_type": "code",
      "metadata": {
        "id": "EovqU2YhXCaW"
      },
      "source": [
        "LEARNING_RATE = 0.0005\r\n",
        "\r\n",
        "optimizer = torch.optim.Adam(model.parameters(), lr = LEARNING_RATE)"
      ],
      "execution_count": 30,
      "outputs": []
    },
    {
      "cell_type": "code",
      "metadata": {
        "id": "3-_zh8VwXFVe"
      },
      "source": [
        "criterion = nn.CrossEntropyLoss(ignore_index = TRG_PAD_IDX)"
      ],
      "execution_count": 31,
      "outputs": []
    },
    {
      "cell_type": "code",
      "metadata": {
        "id": "e7IbHkxHXHc9"
      },
      "source": [
        "def train(model, iterator, optimizer, criterion, clip):\r\n",
        "    \r\n",
        "    model.train()\r\n",
        "    \r\n",
        "    epoch_loss = 0\r\n",
        "    \r\n",
        "    for i, batch in enumerate(iterator):\r\n",
        "\r\n",
        "        #print(batch)\r\n",
        "        \r\n",
        "        src = batch.question\r\n",
        "        trg = batch.answer\r\n",
        "\r\n",
        "        #print(src.shape)\r\n",
        "        #print(trg.shape)\r\n",
        "        \r\n",
        "        optimizer.zero_grad()\r\n",
        "        \r\n",
        "        output, _ = model(src, trg[:,:-1])\r\n",
        "                \r\n",
        "        #output = [batch size, trg len - 1, output dim]\r\n",
        "        #trg = [batch size, trg len]\r\n",
        "            \r\n",
        "        output_dim = output.shape[-1]\r\n",
        "            \r\n",
        "        output = output.contiguous().view(-1, output_dim)\r\n",
        "        trg = trg[:,1:].contiguous().view(-1)\r\n",
        "                \r\n",
        "        #output = [batch size * trg len - 1, output dim]\r\n",
        "        #trg = [batch size * trg len - 1]\r\n",
        "            \r\n",
        "        loss = criterion(output, trg)\r\n",
        "        \r\n",
        "        loss.backward()\r\n",
        "        \r\n",
        "        torch.nn.utils.clip_grad_norm_(model.parameters(), clip)\r\n",
        "        \r\n",
        "        optimizer.step()\r\n",
        "        \r\n",
        "        epoch_loss += loss.item()\r\n",
        "        \r\n",
        "    return epoch_loss / len(iterator)"
      ],
      "execution_count": 32,
      "outputs": []
    },
    {
      "cell_type": "code",
      "metadata": {
        "id": "oBBwhs5PXJCe"
      },
      "source": [
        "def evaluate(model, iterator, criterion):\r\n",
        "    \r\n",
        "    model.eval()\r\n",
        "    \r\n",
        "    epoch_loss = 0\r\n",
        "    \r\n",
        "    with torch.no_grad():\r\n",
        "    \r\n",
        "        for i, batch in enumerate(iterator):\r\n",
        "\r\n",
        "            src = batch.question\r\n",
        "            trg = batch.answer\r\n",
        "\r\n",
        "            output, _ = model(src, trg[:,:-1])\r\n",
        "            \r\n",
        "            #output = [batch size, trg len - 1, output dim]\r\n",
        "            #trg = [batch size, trg len]\r\n",
        "            \r\n",
        "            output_dim = output.shape[-1]\r\n",
        "            \r\n",
        "            output = output.contiguous().view(-1, output_dim)\r\n",
        "            trg = trg[:,1:].contiguous().view(-1)\r\n",
        "            \r\n",
        "            #output = [batch size * trg len - 1, output dim]\r\n",
        "            #trg = [batch size * trg len - 1]\r\n",
        "            \r\n",
        "            loss = criterion(output, trg)\r\n",
        "\r\n",
        "            epoch_loss += loss.item()\r\n",
        "        \r\n",
        "    return epoch_loss / len(iterator)"
      ],
      "execution_count": 33,
      "outputs": []
    },
    {
      "cell_type": "markdown",
      "metadata": {
        "id": "_hB8uNI6XNxN"
      },
      "source": [
        "Run Training\r\n",
        "-----------"
      ]
    },
    {
      "cell_type": "code",
      "metadata": {
        "id": "78hMdzH3XKo-"
      },
      "source": [
        "def epoch_time(start_time, end_time):\r\n",
        "    elapsed_time = end_time - start_time\r\n",
        "    elapsed_mins = int(elapsed_time / 60)\r\n",
        "    elapsed_secs = int(elapsed_time - (elapsed_mins * 60))\r\n",
        "    return elapsed_mins, elapsed_secs"
      ],
      "execution_count": 34,
      "outputs": []
    },
    {
      "cell_type": "code",
      "metadata": {
        "colab": {
          "base_uri": "https://localhost:8080/"
        },
        "id": "sAx6XYTEXNEV",
        "outputId": "7f56a84a-e961-440d-cf1f-a597399c0b41"
      },
      "source": [
        "N_EPOCHS = 20\r\n",
        "CLIP = 1\r\n",
        "\r\n",
        "best_valid_loss = float('inf')\r\n",
        "\r\n",
        "for epoch in range(N_EPOCHS):\r\n",
        "    \r\n",
        "    start_time = time.time()\r\n",
        "    \r\n",
        "    train_loss = train(model, train_iterator, optimizer, criterion, CLIP)\r\n",
        "    valid_loss = evaluate(model, valid_iterator, criterion)\r\n",
        "    \r\n",
        "    end_time = time.time()\r\n",
        "    \r\n",
        "    epoch_mins, epoch_secs = epoch_time(start_time, end_time)\r\n",
        "    \r\n",
        "    if valid_loss < best_valid_loss:\r\n",
        "        best_valid_loss = valid_loss\r\n",
        "        torch.save(model.state_dict(), '/content/drive/MyDrive/chat-model.pt')\r\n",
        "    \r\n",
        "    print(f'Epoch: {epoch+1:02} | Time: {epoch_mins}m {epoch_secs}s')\r\n",
        "    print(f'\\tTrain Loss: {train_loss:.3f} | Train PPL: {math.exp(train_loss):7.3f}')\r\n",
        "    print(f'\\t Val. Loss: {valid_loss:.3f} |  Val. PPL: {math.exp(valid_loss):7.3f}')"
      ],
      "execution_count": 35,
      "outputs": [
        {
          "output_type": "stream",
          "text": [
            "Epoch: 01 | Time: 1m 32s\n",
            "\tTrain Loss: 4.451 | Train PPL:  85.747\n",
            "\t Val. Loss: 3.855 |  Val. PPL:  47.252\n",
            "Epoch: 02 | Time: 1m 34s\n",
            "\tTrain Loss: 3.933 | Train PPL:  51.070\n",
            "\t Val. Loss: 3.759 |  Val. PPL:  42.895\n",
            "Epoch: 03 | Time: 1m 36s\n",
            "\tTrain Loss: 3.746 | Train PPL:  42.341\n",
            "\t Val. Loss: 3.735 |  Val. PPL:  41.903\n",
            "Epoch: 04 | Time: 1m 36s\n",
            "\tTrain Loss: 3.590 | Train PPL:  36.247\n",
            "\t Val. Loss: 3.719 |  Val. PPL:  41.234\n",
            "Epoch: 05 | Time: 1m 36s\n",
            "\tTrain Loss: 3.451 | Train PPL:  31.531\n",
            "\t Val. Loss: 3.730 |  Val. PPL:  41.662\n",
            "Epoch: 06 | Time: 1m 36s\n",
            "\tTrain Loss: 3.320 | Train PPL:  27.653\n",
            "\t Val. Loss: 3.767 |  Val. PPL:  43.236\n",
            "Epoch: 07 | Time: 1m 36s\n",
            "\tTrain Loss: 3.199 | Train PPL:  24.506\n",
            "\t Val. Loss: 3.810 |  Val. PPL:  45.162\n",
            "Epoch: 08 | Time: 1m 36s\n",
            "\tTrain Loss: 3.088 | Train PPL:  21.941\n",
            "\t Val. Loss: 3.860 |  Val. PPL:  47.449\n",
            "Epoch: 09 | Time: 1m 36s\n",
            "\tTrain Loss: 2.991 | Train PPL:  19.898\n",
            "\t Val. Loss: 3.901 |  Val. PPL:  49.461\n",
            "Epoch: 10 | Time: 1m 36s\n",
            "\tTrain Loss: 2.904 | Train PPL:  18.252\n",
            "\t Val. Loss: 3.945 |  Val. PPL:  51.669\n",
            "Epoch: 11 | Time: 1m 37s\n",
            "\tTrain Loss: 2.826 | Train PPL:  16.877\n",
            "\t Val. Loss: 4.002 |  Val. PPL:  54.689\n",
            "Epoch: 12 | Time: 1m 37s\n",
            "\tTrain Loss: 2.758 | Train PPL:  15.765\n",
            "\t Val. Loss: 4.058 |  Val. PPL:  57.855\n",
            "Epoch: 13 | Time: 1m 37s\n",
            "\tTrain Loss: 2.696 | Train PPL:  14.817\n",
            "\t Val. Loss: 4.087 |  Val. PPL:  59.588\n",
            "Epoch: 14 | Time: 1m 37s\n",
            "\tTrain Loss: 2.640 | Train PPL:  14.015\n",
            "\t Val. Loss: 4.151 |  Val. PPL:  63.525\n",
            "Epoch: 15 | Time: 1m 36s\n",
            "\tTrain Loss: 2.589 | Train PPL:  13.319\n",
            "\t Val. Loss: 4.175 |  Val. PPL:  65.055\n",
            "Epoch: 16 | Time: 1m 36s\n",
            "\tTrain Loss: 2.543 | Train PPL:  12.714\n",
            "\t Val. Loss: 4.203 |  Val. PPL:  66.915\n",
            "Epoch: 17 | Time: 1m 36s\n",
            "\tTrain Loss: 2.501 | Train PPL:  12.193\n",
            "\t Val. Loss: 4.254 |  Val. PPL:  70.389\n",
            "Epoch: 18 | Time: 1m 36s\n",
            "\tTrain Loss: 2.462 | Train PPL:  11.725\n",
            "\t Val. Loss: 4.286 |  Val. PPL:  72.684\n",
            "Epoch: 19 | Time: 1m 37s\n",
            "\tTrain Loss: 2.427 | Train PPL:  11.320\n",
            "\t Val. Loss: 4.318 |  Val. PPL:  75.027\n",
            "Epoch: 20 | Time: 1m 37s\n",
            "\tTrain Loss: 2.394 | Train PPL:  10.956\n",
            "\t Val. Loss: 4.330 |  Val. PPL:  75.909\n"
          ],
          "name": "stdout"
        }
      ]
    },
    {
      "cell_type": "code",
      "metadata": {
        "colab": {
          "base_uri": "https://localhost:8080/"
        },
        "id": "74nNkwAfRUSu",
        "outputId": "2bfb927f-2f68-4d89-d8a4-08afcdc359fd"
      },
      "source": [
        "model.load_state_dict(torch.load('/content/drive/MyDrive/chat-model.pt'))"
      ],
      "execution_count": 31,
      "outputs": [
        {
          "output_type": "execute_result",
          "data": {
            "text/plain": [
              "<All keys matched successfully>"
            ]
          },
          "metadata": {
            "tags": []
          },
          "execution_count": 31
        }
      ]
    },
    {
      "cell_type": "code",
      "metadata": {
        "id": "nYzTQVbRXXi1"
      },
      "source": [
        "def evaluate(sentence, sentence_field, model, device,max_length=20):\r\n",
        "  model.eval()\r\n",
        "\r\n",
        "  tokens = [token.lower() for token in sentence]\r\n",
        "\r\n",
        "  tokens = [sentence_field.init_token] + tokens + [sentence_field.eos_token]\r\n",
        "  src_indexes = [sentence_field.vocab.stoi[token] for token in tokens]\r\n",
        "  src_tensor = torch.LongTensor(src_indexes).unsqueeze(0).to(device)\r\n",
        "  src_mask = model.make_src_mask(src_tensor)\r\n",
        "\r\n",
        "  with torch.no_grad():\r\n",
        "      enc_src = model.encoder(src_tensor, src_mask)\r\n",
        "\r\n",
        "  trg_indexes = [sentence_field.vocab.stoi[sentence_field.init_token]]\r\n",
        "\r\n",
        "  for i in range(max_length):\r\n",
        "\r\n",
        "        trg_tensor = torch.LongTensor(trg_indexes).unsqueeze(0).to(device)\r\n",
        "\r\n",
        "        trg_mask = model.make_trg_mask(trg_tensor)\r\n",
        "        \r\n",
        "        with torch.no_grad():\r\n",
        "            output, attention = model.decoder(trg_tensor, enc_src, trg_mask, src_mask)\r\n",
        "        \r\n",
        "        pred_token = output.argmax(2)[:,-1].item()\r\n",
        "        \r\n",
        "        trg_indexes.append(pred_token)\r\n",
        "\r\n",
        "        if pred_token == sentence_field.vocab.stoi[sentence_field.eos_token]:\r\n",
        "            break\r\n",
        "    \r\n",
        "  trg_tokens = [sentence_field.vocab.itos[i] for i in trg_indexes]\r\n",
        "  return trg_tokens[1:]"
      ],
      "execution_count": 32,
      "outputs": []
    },
    {
      "cell_type": "code",
      "metadata": {
        "id": "7eaTgsamjLRo"
      },
      "source": [
        "def evaluateInput(field, model, device):\r\n",
        "    input_sentence = ''\r\n",
        "    while(1):\r\n",
        "        try:\r\n",
        "            # Get input sentence\r\n",
        "            input_sentence = input('> ')\r\n",
        "            # Check if it is quit case\r\n",
        "            if input_sentence == 'q' or input_sentence == 'quit': break\r\n",
        "            # Normalize sentence\r\n",
        "            input_sentence = normalizeString(input_sentence)\r\n",
        "            # Evaluate sentence\r\n",
        "            output_words = evaluate(input_sentence,field, model, device,max_length=10)\r\n",
        "            # Format and print response sentence\r\n",
        "            output_words[:] = [x for x in output_words if not (x == '<eos>' or x == '<pad>')]\r\n",
        "            print('Bot:', ' '.join(output_words))\r\n",
        "\r\n",
        "        except KeyError:\r\n",
        "            print(\"Error: Encountered unknown word.\")"
      ],
      "execution_count": 33,
      "outputs": []
    },
    {
      "cell_type": "code",
      "metadata": {
        "colab": {
          "base_uri": "https://localhost:8080/"
        },
        "id": "aT-NQmiEjQnu",
        "outputId": "8fed4dab-1388-4aea-b9a8-06f3b1945749"
      },
      "source": [
        "evaluateInput(conversation ,model, device)"
      ],
      "execution_count": 31,
      "outputs": [
        {
          "output_type": "stream",
          "text": [
            "> Hi\n",
            "Bot: you re not going to be a little late for\n",
            "> Who are they?\n",
            "Bot: i m not sure .\n",
            "> Let me explain\n",
            "Bot: i m sorry .\n",
            "> There is no time for this\n",
            "Bot: it s a mistake .\n",
            "> Are you watching closely?\n",
            "Bot: i m sorry .\n",
            "> Do you think it is fair?\n",
            "Bot: i m not going to be careful .\n",
            "> q\n"
          ],
          "name": "stdout"
        }
      ]
    },
    {
      "cell_type": "code",
      "metadata": {
        "id": "_xjWDar1XH-f"
      },
      "source": [
        ""
      ],
      "execution_count": null,
      "outputs": []
    }
  ]
}