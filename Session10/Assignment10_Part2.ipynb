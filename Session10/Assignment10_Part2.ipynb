{
  "nbformat": 4,
  "nbformat_minor": 0,
  "metadata": {
    "colab": {
      "name": "Assignment10_Part2.ipynb",
      "provenance": []
    },
    "kernelspec": {
      "name": "python3",
      "display_name": "Python 3"
    },
    "accelerator": "GPU"
  },
  "cells": [
    {
      "cell_type": "markdown",
      "metadata": {
        "id": "c0dc_UStLiWj"
      },
      "source": [
        "# Neural Machine Translation with Packed PAdded Sequences, Masking, Inference and BLEU\r\n",
        "\r\n",
        "In this third notebook on sequence-to-sequence models using PyTorch and TorchText, we'll be implementing the model from [Neural Machine Translation by Jointly Learning to Align and Translate](https://arxiv.org/abs/1409.0473). This model achives our best perplexity yet, ~27 compared to ~34 for the previous model.\r\n",
        "\r\n",
        "## Introduction\r\n",
        "\r\n",
        "As a reminder, here is the general encoder-decoder model:\r\n",
        "\r\n",
        "![](https://github.com/bentrevett/pytorch-seq2seq/blob/master/assets/seq2seq1.png?raw=1)\r\n",
        "\r\n",
        "In the previous model, our architecture was set-up in a way to reduce \"information compression\" by explicitly passing the context vector, $z$, to the decoder at every time-step and by passing both the context vector and embedded input word, $d(y_t)$, along with the hidden state, $s_t$, to the linear layer, $f$, to make a prediction.\r\n",
        "\r\n",
        "![](https://github.com/bentrevett/pytorch-seq2seq/blob/master/assets/seq2seq7.png?raw=1)\r\n",
        "\r\n",
        "Even though we have reduced some of this compression, our context vector still needs to contain all of the information about the source sentence. The model implemented in this notebook avoids this compression by allowing the decoder to look at the entire source sentence (via its hidden states) at each decoding step! How does it do this? It uses *attention*. \r\n",
        "\r\n",
        "Attention works by first, calculating an attention vector, $a$, that is the length of the source sentence. The attention vector has the property that each element is between 0 and 1, and the entire vector sums to 1. We then calculate a weighted sum of our source sentence hidden states, $H$, to get a weighted source vector, $w$. \r\n",
        "\r\n",
        "$$w = \\sum_{i}a_ih_i$$\r\n",
        "\r\n",
        "We calculate a new weighted source vector every time-step when decoding, using it as input to our decoder RNN as well as the linear layer to make a prediction. We'll explain how to do all of this during the session.\r\n",
        "\r\n",
        "## Preparing Data\r\n",
        "\r\n",
        "Again, the preparation is similar to last time.\r\n",
        "\r\n",
        "First we import all the required modules."
      ]
    },
    {
      "cell_type": "code",
      "metadata": {
        "id": "UfbdwfJgEicN"
      },
      "source": [
        "import torch\r\n",
        "import torch.nn\r\n",
        "import torch.optim as optim\r\n",
        "import torch.nn.functional as F\r\n",
        "\r\n",
        "from torchtext.datasets import Multi30k\r\n",
        "from torchtext.data import Field, BucketIterator\r\n",
        "\r\n",
        "import spacy\r\n",
        "import numpy as np\r\n",
        "\r\n",
        "import random\r\n",
        "import math\r\n",
        "import time"
      ],
      "execution_count": 34,
      "outputs": []
    },
    {
      "cell_type": "markdown",
      "metadata": {
        "id": "IddQGGj0Mf8T"
      },
      "source": [
        "Set the random seeds for reproducability."
      ]
    },
    {
      "cell_type": "code",
      "metadata": {
        "id": "oUxkHeADMfOc"
      },
      "source": [
        "SEED = 1234\r\n",
        "\r\n",
        "random.seed(SEED)\r\n",
        "np.random.seed(SEED)\r\n",
        "torch.manual_seed(SEED)\r\n",
        "torch.cuda.manual_seed(SEED)\r\n",
        "torch.backends.cudnn.deterministic = True"
      ],
      "execution_count": 35,
      "outputs": []
    },
    {
      "cell_type": "markdown",
      "metadata": {
        "id": "IYsRvkn_MpI1"
      },
      "source": [
        "Load the English and German spaCy models."
      ]
    },
    {
      "cell_type": "code",
      "metadata": {
        "id": "e5dr_HOiFZcn"
      },
      "source": [
        "spacy_de = spacy.load('de')\r\n",
        "spacy_en = spacy.load('en')"
      ],
      "execution_count": 36,
      "outputs": []
    },
    {
      "cell_type": "markdown",
      "metadata": {
        "id": "unUfhdwLMtUU"
      },
      "source": [
        "We create the tokenizers."
      ]
    },
    {
      "cell_type": "code",
      "metadata": {
        "id": "1s0xzbUvFfET"
      },
      "source": [
        "def tokenize_de(text):\r\n",
        "    \"\"\"\r\n",
        "    Tokenizes German text from a string into a list of strings (tokens) and reverses it\r\n",
        "    \"\"\"\r\n",
        "    return [tok.text for tok in spacy_de.tokenizer(text)][::-1]\r\n",
        "\r\n",
        "def tokenize_en(text):\r\n",
        "    \"\"\"\r\n",
        "    Tokenizes English text from a string into a list of strings (tokens)\r\n",
        "    \"\"\"\r\n",
        "    return [tok.text for tok in spacy_en.tokenizer(text)]"
      ],
      "execution_count": 58,
      "outputs": []
    },
    {
      "cell_type": "markdown",
      "metadata": {
        "id": "89dP75NGMwkp"
      },
      "source": [
        "The fields remain the same as before."
      ]
    },
    {
      "cell_type": "code",
      "metadata": {
        "id": "7NcqYxUYGh9x"
      },
      "source": [
        "SRC = Field(\r\n",
        "    tokenize = tokenize_en,\r\n",
        "    init_token = '<sos>',\r\n",
        "    eos_token = '<eos>',\r\n",
        "    lower = True,\r\n",
        "    include_lengths = True\r\n",
        ")\r\n",
        "\r\n",
        "TRG = Field(\r\n",
        "    tokenize = tokenize_de,\r\n",
        "    init_token = '<sos>',\r\n",
        "    eos_token = '<eos>',\r\n",
        "    lower = True\r\n",
        ")"
      ],
      "execution_count": 59,
      "outputs": []
    },
    {
      "cell_type": "markdown",
      "metadata": {
        "id": "eax8vnlCM0V8"
      },
      "source": [
        "Load the data."
      ]
    },
    {
      "cell_type": "code",
      "metadata": {
        "id": "xaQOd8L7Gn5y"
      },
      "source": [
        "train_data, valid_data, test_data = Multi30k.splits(exts = ('.en', '.de'), \r\n",
        "                                                    fields = (SRC, TRG))"
      ],
      "execution_count": 60,
      "outputs": []
    },
    {
      "cell_type": "markdown",
      "metadata": {
        "id": "XRomaiCiM26O"
      },
      "source": [
        "Build the vocabulary."
      ]
    },
    {
      "cell_type": "code",
      "metadata": {
        "id": "ruSntpWRG58Q"
      },
      "source": [
        "SRC.build_vocab(train_data, min_freq=2)\r\n",
        "TRG.build_vocab(train_data, min_freq=2)"
      ],
      "execution_count": 62,
      "outputs": []
    },
    {
      "cell_type": "code",
      "metadata": {
        "colab": {
          "base_uri": "https://localhost:8080/"
        },
        "id": "5Ba6GoYgG83N",
        "outputId": "67cacc77-402f-44b8-8c90-5b5b616b3ef9"
      },
      "source": [
        "print(f\"Number of training examples: {len(train_data.examples)}\")\r\n",
        "print(f\"Number of validation examples: {len(valid_data.examples)}\")\r\n",
        "print(f\"Number of testing examples: {len(test_data.examples)}\")"
      ],
      "execution_count": 63,
      "outputs": [
        {
          "output_type": "stream",
          "text": [
            "Number of training examples: 29000\n",
            "Number of validation examples: 1014\n",
            "Number of testing examples: 1000\n"
          ],
          "name": "stdout"
        }
      ]
    },
    {
      "cell_type": "code",
      "metadata": {
        "colab": {
          "base_uri": "https://localhost:8080/"
        },
        "id": "iTpYztCkHB7L",
        "outputId": "d0aa5b26-c5b4-4ad5-8bfb-77c073f7e122"
      },
      "source": [
        "print(vars(train_data.examples[0]))"
      ],
      "execution_count": 64,
      "outputs": [
        {
          "output_type": "stream",
          "text": [
            "{'src': ['two', 'young', ',', 'white', 'males', 'are', 'outside', 'near', 'many', 'bushes', '.'], 'trg': ['.', 'büsche', 'vieler', 'nähe', 'der', 'in', 'freien', 'im', 'sind', 'männer', 'weiße', 'junge', 'zwei']}\n"
          ],
          "name": "stdout"
        }
      ]
    },
    {
      "cell_type": "code",
      "metadata": {
        "colab": {
          "base_uri": "https://localhost:8080/"
        },
        "id": "rpIcM-0IH4A6",
        "outputId": "061e4c60-8ece-4578-e201-e4b074162b56"
      },
      "source": [
        "print(f\"Unique tokens in source (de) vocabulary: {len(SRC.vocab)}\")\r\n",
        "print(f\"Unique tokens in target (en) vocabulary: {len(TRG.vocab)}\")"
      ],
      "execution_count": 65,
      "outputs": [
        {
          "output_type": "stream",
          "text": [
            "Unique tokens in source (de) vocabulary: 5893\n",
            "Unique tokens in target (en) vocabulary: 7855\n"
          ],
          "name": "stdout"
        }
      ]
    },
    {
      "cell_type": "markdown",
      "metadata": {
        "id": "A5eI1K-KM9q4"
      },
      "source": [
        "Define the device."
      ]
    },
    {
      "cell_type": "code",
      "metadata": {
        "colab": {
          "base_uri": "https://localhost:8080/"
        },
        "id": "qdsaCnsjH5KR",
        "outputId": "8d25ec4c-b3bb-4efd-a9ce-6def44967554"
      },
      "source": [
        "device = torch.device('cuda' if torch.cuda.is_available() else 'cpu')\r\n",
        "device"
      ],
      "execution_count": 66,
      "outputs": [
        {
          "output_type": "execute_result",
          "data": {
            "text/plain": [
              "device(type='cuda')"
            ]
          },
          "metadata": {
            "tags": []
          },
          "execution_count": 66
        }
      ]
    },
    {
      "cell_type": "code",
      "metadata": {
        "id": "URJewj3IHvin"
      },
      "source": [
        "BATCH_SIZE = 128\r\n",
        "\r\n",
        "train_iterator, valid_iterator, test_iterator = BucketIterator.splits(\r\n",
        "    (train_data, valid_data, test_data), \r\n",
        "    batch_size = BATCH_SIZE, \r\n",
        "    device = device)"
      ],
      "execution_count": 81,
      "outputs": []
    },
    {
      "cell_type": "markdown",
      "metadata": {
        "id": "PUxMZyocNFf9"
      },
      "source": [
        "## Building the Seq2Seq Model\r\n",
        "\r\n",
        "### Encoder\r\n",
        "\r\n",
        "First, we'll build the encoder. Similar to the previous model, we only use a single layer GRU, however we now use a *bidirectional RNN*. With a bidirectional RNN, we have two RNNs in each layer. A *forward RNN* going over the embedded sentence from left to right (shown below in green), and a *backward RNN* going over the embedded sentence from right to left (teal). All we need to do in code is set `bidirectional = True` and then pass the embedded sentence to the RNN as before. \r\n",
        "\r\n",
        "![](https://github.com/bentrevett/pytorch-seq2seq/blob/master/assets/seq2seq8.png?raw=1)\r\n",
        "\r\n",
        "We now have:\r\n",
        "\r\n",
        "$$\\begin{align*}\r\n",
        "h_t^\\rightarrow &= \\text{EncoderGRU}^\\rightarrow(e(x_t^\\rightarrow),h_{t-1}^\\rightarrow)\\\\\r\n",
        "h_t^\\leftarrow &= \\text{EncoderGRU}^\\leftarrow(e(x_t^\\leftarrow),h_{t-1}^\\leftarrow)\r\n",
        "\\end{align*}$$\r\n",
        "\r\n",
        "Where $x_0^\\rightarrow = \\text{<sos>}, x_1^\\rightarrow = \\text{guten}$ and $x_0^\\leftarrow = \\text{<eos>}, x_1^\\leftarrow = \\text{morgen}$.\r\n",
        "\r\n",
        "As before, we only pass an input (`embedded`) to the RNN, which tells PyTorch to initialize both the forward and backward initial hidden states ($h_0^\\rightarrow$ and $h_0^\\leftarrow$, respectively) to a tensor of all zeros. We'll also get two context vectors, one from the forward RNN after it has seen the final word in the sentence, $z^\\rightarrow=h_T^\\rightarrow$, and one from the backward RNN after it has seen the first word in the sentence, $z^\\leftarrow=h_T^\\leftarrow$.\r\n",
        "\r\n",
        "The RNN returns `outputs` and `hidden`. \r\n",
        "\r\n",
        "`outputs` is of size **[src len, batch size, hid dim * num directions]** where the first `hid_dim` elements in the third axis are the hidden states from the top layer forward RNN, and the last `hid_dim` elements are hidden states from the top layer backward RNN. We can think of the third axis as being the forward and backward hidden states concatenated together other, i.e. $h_1 = [h_1^\\rightarrow; h_{T}^\\leftarrow]$, $h_2 = [h_2^\\rightarrow; h_{T-1}^\\leftarrow]$ and we can denote all encoder hidden states (forward and backwards concatenated together) as $H=\\{ h_1, h_2, ..., h_T\\}$.\r\n",
        "\r\n",
        "`hidden` is of size **[n layers * num directions, batch size, hid dim]**, where **[-2, :, :]** gives the top layer forward RNN hidden state after the final time-step (i.e. after it has seen the last word in the sentence) and **[-1, :, :]** gives the top layer backward RNN hidden state after the final time-step (i.e. after it has seen the first word in the sentence).\r\n",
        "\r\n",
        "As the decoder is not bidirectional, it only needs a single context vector, $z$, to use as its initial hidden state, $s_0$, and we currently have two, a forward and a backward one ($z^\\rightarrow=h_T^\\rightarrow$ and $z^\\leftarrow=h_T^\\leftarrow$, respectively). We solve this by concatenating the two context vectors together, passing them through a linear layer, $g$, and applying the $\\tanh$ activation function. \r\n",
        "\r\n",
        "$$z=\\tanh(g(h_T^\\rightarrow, h_T^\\leftarrow)) = \\tanh(g(z^\\rightarrow, z^\\leftarrow)) = s_0$$\r\n",
        "\r\n",
        "**Note**: this is actually a deviation from the paper. Instead, they feed only the first backward RNN hidden state through a linear layer to get the context vector/decoder initial hidden state. This doesn't seem to make sense to me, so we have changed it.\r\n",
        "\r\n",
        "As we want our model to look back over the whole of the source sentence we return `outputs`, the stacked forward and backward hidden states for every token in the source sentence. We also return `hidden`, which acts as our initial hidden state in the decoder."
      ]
    },
    {
      "cell_type": "code",
      "metadata": {
        "id": "Ky-XYovMIqjc"
      },
      "source": [
        "class Encoder(torch.nn.Module):\r\n",
        "\r\n",
        "  def __init__(self, input_dim, emb_dim, enc_hid_dim, dec_hid_dim, dropout):\r\n",
        "    super().__init__()\r\n",
        "    self.embedding = torch.nn.Embedding(input_dim, emb_dim)\r\n",
        "    self.rnn = torch.nn.GRU(emb_dim, enc_hid_dim, bidirectional = True)\r\n",
        "    self.fc = torch.nn.Linear(enc_hid_dim * 2, dec_hid_dim)\r\n",
        "    self.dropout = torch.nn.Dropout(dropout)\r\n",
        "\r\n",
        "  def forward(self, src, src_len):\r\n",
        "\r\n",
        "    # src -> [src len, batch size]\r\n",
        "\r\n",
        "    embedded = self.dropout(self.embedding(src))\r\n",
        "    # embedded -> [src len, batch size, emb_dim]\r\n",
        "\r\n",
        "    packed_embedded = torch.nn.utils.rnn.pack_padded_sequence(embedded, src_len.cpu(), enforce_sorted=False)\r\n",
        "    packed_outputs, hidden = self.rnn(packed_embedded)\r\n",
        "    outputs, _ = torch.nn.utils.rnn.pad_packed_sequence(packed_outputs)\r\n",
        "    # outputs -> [src len, batch size, enc_hid_dim * num_directions]\r\n",
        "    #         -> [src len, batch size, enc_hid_dim * 2]\r\n",
        "    # hidden -> [num_layers * num_directions, batch size, enc_hid_dim]\r\n",
        "    #        -> [2, batch size, enc_hid_dim]\r\n",
        "\r\n",
        "    concatenated = torch.cat((hidden[-2, :, :], hidden[-1, :, :]),dim=1)\r\n",
        "    # concatenated -> [batch size, enc_hid_dim * 2]\r\n",
        "\r\n",
        "    hidden = torch.tanh(self.fc(concatenated))\r\n",
        "    # hidden -> [batch size, dec_hid_him]\r\n",
        "\r\n",
        "    return outputs, hidden\r\n",
        "    "
      ],
      "execution_count": 82,
      "outputs": []
    },
    {
      "cell_type": "markdown",
      "metadata": {
        "id": "5YJu-sKlNIk0"
      },
      "source": [
        "### Attention\r\n",
        "\r\n",
        "Next up is the attention layer. This will take in the previous hidden state of the decoder, $s_{t-1}$, and all of the stacked forward and backward hidden states from the encoder, $H$. The layer will output an attention vector, $a_t$, that is the length of the source sentence, each element is between 0 and 1 and the entire vector sums to 1.\r\n",
        "\r\n",
        "Intuitively, this layer takes what we have decoded so far, $s_{t-1}$, and all of what we have encoded, $H$, to produce a vector, $a_t$, that represents which words in the source sentence we should pay the most attention to in order to correctly predict the next word to decode, $\\hat{y}_{t+1}$. \r\n",
        "\r\n",
        "First, we calculate the *energy* between the previous decoder hidden state and the encoder hidden states. As our encoder hidden states are a sequence of $T$ tensors, and our previous decoder hidden state is a single tensor, the first thing we do is `repeat` the previous decoder hidden state $T$ times. We then calculate the energy, $E_t$, between them by concatenating them together and passing them through a linear layer (`attn`) and a $\\tanh$ activation function. \r\n",
        "\r\n",
        "$$E_t = \\tanh(\\text{attn}(s_{t-1}, H))$$ \r\n",
        "\r\n",
        "This can be thought of as calculating how well each encoder hidden state \"matches\" the previous decoder hidden state.\r\n",
        "\r\n",
        "We currently have a **[dec hid dim, src len]** tensor for each example in the batch. We want this to be **[src len]** for each example in the batch as the attention should be over the length of the source sentence. This is achieved by multiplying the `energy` by a **[1, dec hid dim]** tensor, $v$.\r\n",
        "\r\n",
        "$$\\hat{a}_t = v E_t$$\r\n",
        "\r\n",
        "We can think of $v$ as the weights for a weighted sum of the energy across all encoder hidden states. These weights tell us how much we should attend to each token in the source sequence. The parameters of $v$ are initialized randomly, but learned with the rest of the model via backpropagation. Note how $v$ is not dependent on time, and the same $v$ is used for each time-step of the decoding. We implement $v$ as a linear layer without a bias.\r\n",
        "\r\n",
        "Finally, we ensure the attention vector fits the constraints of having all elements between 0 and 1 and the vector summing to 1 by passing it through a $\\text{softmax}$ layer.\r\n",
        "\r\n",
        "$$a_t = \\text{softmax}(\\hat{a_t})$$\r\n",
        "\r\n",
        "This gives us the attention over the source sentence!\r\n",
        "\r\n",
        "Graphically, this looks something like below. This is for calculating the very first attention vector, where $s_{t-1} = s_0 = z$. The green/teal blocks represent the hidden states from both the forward and backward RNNs, and the attention computation is all done within the pink block.\r\n",
        "\r\n",
        "![](https://github.com/bentrevett/pytorch-seq2seq/blob/master/assets/seq2seq9.png?raw=1)"
      ]
    },
    {
      "cell_type": "code",
      "metadata": {
        "id": "kQxtZpQrIu5n"
      },
      "source": [
        "class Attention(torch.nn.Module):\r\n",
        "\r\n",
        "  def __init__(self, enc_hid_dim, dec_hid_dim):\r\n",
        "    super().__init__()\r\n",
        "    self.attn = torch.nn.Linear((enc_hid_dim * 2) + dec_hid_dim, dec_hid_dim)\r\n",
        "    self.v = torch.nn.Linear(dec_hid_dim, 1, bias=False)\r\n",
        "\r\n",
        "  def forward(self, encoder_outputs, hidden, mask):\r\n",
        "\r\n",
        "    # encoder_outputs -> [src len, batch size, enc_hid_dim * 2]\r\n",
        "    # hidden -> [batch size, dec_hid_dim]\r\n",
        "\r\n",
        "    src_len = encoder_outputs.shape[0]\r\n",
        "    batch_size = encoder_outputs.shape[1]\r\n",
        "\r\n",
        "    # Repeat hidden state for each time step in src len\r\n",
        "    hidden = hidden.unsqueeze(0).repeat(src_len, 1, 1)\r\n",
        "    # hidden -> [src len, batch size, dec_hid_dim]\r\n",
        "\r\n",
        "    concatenated = torch.cat((encoder_outputs, hidden), dim=2)\r\n",
        "    # concatenated -> [src len, batch size, (enc_hid_dim * 2) + dec_hid_dim]\r\n",
        "\r\n",
        "    energy = torch.tanh(self.attn(concatenated))\r\n",
        "    # energy -> [src len, batch size, dec_hid_dim]\r\n",
        "\r\n",
        "    attention = self.v(energy).squeeze(2)\r\n",
        "    attention = attention.masked_fill(mask == 0, -1e10)\r\n",
        "    # attention -> [src len, batch size]\r\n",
        "\r\n",
        "    return F.softmax(attention, dim=0)\r\n",
        "    # return dim -> [src len, batch size]\r\n",
        "    # the `src len` values of each item in batch add up to 1 (because of softmax)\r\n"
      ],
      "execution_count": 83,
      "outputs": []
    },
    {
      "cell_type": "markdown",
      "metadata": {
        "id": "VociCBJkNO_9"
      },
      "source": [
        "### Decoder\r\n",
        "\r\n",
        "Next up is the decoder. \r\n",
        "\r\n",
        "The decoder contains the attention layer, `attention`, which takes the previous hidden state, $s_{t-1}$, all of the encoder hidden states, $H$, and returns the attention vector, $a_t$.\r\n",
        "\r\n",
        "We then use this attention vector to create a weighted source vector, $w_t$, denoted by `weighted`, which is a weighted sum of the encoder hidden states, $H$, using $a_t$ as the weights.\r\n",
        "\r\n",
        "$$w_t = a_t H$$\r\n",
        "\r\n",
        "The embedded input word, $d(y_t)$, the weighted source vector, $w_t$, and the previous decoder hidden state, $s_{t-1}$, are then all passed into the decoder RNN, with $d(y_t)$ and $w_t$ being concatenated together.\r\n",
        "\r\n",
        "$$s_t = \\text{DecoderGRU}(d(y_t), w_t, s_{t-1})$$\r\n",
        "\r\n",
        "We then pass $d(y_t)$, $w_t$ and $s_t$ through the linear layer, $f$, to make a prediction of the next word in the target sentence, $\\hat{y}_{t+1}$. This is done by concatenating them all together.\r\n",
        "\r\n",
        "$$\\hat{y}_{t+1} = f(d(y_t), w_t, s_t)$$\r\n",
        "\r\n",
        "The image below shows decoding the first word in an example translation.\r\n",
        "\r\n",
        "![](https://github.com/bentrevett/pytorch-seq2seq/blob/master/assets/seq2seq10.png?raw=1)\r\n",
        "\r\n",
        "The green/teal blocks show the forward/backward encoder RNNs which output $H$, the red block shows the context vector, $z = h_T = \\tanh(g(h^\\rightarrow_T,h^\\leftarrow_T)) = \\tanh(g(z^\\rightarrow, z^\\leftarrow)) = s_0$, the blue block shows the decoder RNN which outputs $s_t$, the purple block shows the linear layer, $f$, which outputs $\\hat{y}_{t+1}$ and the orange block shows the calculation of the weighted sum over $H$ by $a_t$ and outputs $w_t$. Not shown is the calculation of $a_t$."
      ]
    },
    {
      "cell_type": "code",
      "metadata": {
        "id": "363CaFbfIxD0"
      },
      "source": [
        "class Decoder(torch.nn.Module):\r\n",
        "\r\n",
        "  def __init__(self, output_dim, emb_dim, enc_hid_dim, dec_hid_dim, dropout, attention):\r\n",
        "    super().__init__()\r\n",
        "\r\n",
        "    self.output_dim = output_dim\r\n",
        "\r\n",
        "    self.embedding = torch.nn.Embedding(output_dim, emb_dim)\r\n",
        "    self.rnn = torch.nn.GRU(emb_dim + (2 * enc_hid_dim), dec_hid_dim)\r\n",
        "    self.fc = torch.nn.Linear(emb_dim + dec_hid_dim + (2 * enc_hid_dim), output_dim)\r\n",
        "    self.dropout = torch.nn.Dropout(dropout)\r\n",
        "    self.attn = attention\r\n",
        "\r\n",
        "  def forward(self, input, encoder_outputs, hidden, mask):\r\n",
        "    \r\n",
        "    # input -> [batch size]\r\n",
        "    # encoder_outputs -> [src len, batch size, enc_hid_dim * 2]\r\n",
        "    # hidden -> [batch size, dec_hid_dim]\r\n",
        "\r\n",
        "    input = input.unsqueeze(0)\r\n",
        "    # input -> [1, batch size]\r\n",
        "\r\n",
        "    embedded = self.dropout(self.embedding(input))\r\n",
        "    # embedded -> [1, batch size, emb_dim]\r\n",
        "\r\n",
        "    a = self.attn(encoder_outputs, hidden, mask)\r\n",
        "    # a -> [src len, batch size]\r\n",
        "\r\n",
        "    encoder_outputs = encoder_outputs.permute(1, 0, 2)\r\n",
        "    # encoder_outputs -> [batch size, src len, enc_hid_dim * 2]\r\n",
        "\r\n",
        "    a = a.permute(1, 0).unsqueeze(1)\r\n",
        "    # a -> [batch size, 1, src len]\r\n",
        "\r\n",
        "    weighted = torch.bmm(a, encoder_outputs).permute(1, 0, 2)\r\n",
        "    # weighted -> [1, batch size, enc_hid_dim * 2]\r\n",
        "\r\n",
        "    outputs, hidden = self.rnn(torch.cat((embedded, weighted), dim=2), hidden.unsqueeze(0))\r\n",
        "    # outputs -> [1, batch size, dec_hid_dim]\r\n",
        "    # hidden -> [1, batch size, dec_hid_dim]\r\n",
        "\r\n",
        "    fc_input = torch.cat((embedded, outputs, weighted), dim=2)\r\n",
        "    # fc_input -> [1, batch size, emb_dim + dec_hid_dim + (2 * enc_hid_dim)]\r\n",
        "\r\n",
        "    predictions = self.fc(fc_input).squeeze(0)\r\n",
        "    # predictions -> [batch size, output_dim]\r\n",
        "\r\n",
        "    return predictions, hidden.squeeze(0), a.squeeze(1)\r\n",
        "    # return dimensions\r\n",
        "    # predictions -> [batch size, output_dim]\r\n",
        "    # hidden -> [batch size, dec_hid_dim]\r\n",
        "    # a -> [batch size, src len]\r\n"
      ],
      "execution_count": 84,
      "outputs": []
    },
    {
      "cell_type": "markdown",
      "metadata": {
        "id": "lBkoSAOkNOKY"
      },
      "source": [
        "### Seq2Seq\r\n",
        "\r\n",
        "This is the first model where we don't have to have the encoder RNN and decoder RNN have the same hidden dimensions, however the encoder has to be bidirectional. This requirement can be removed by changing all occurences of `enc_dim * 2` to `enc_dim * 2 if encoder_is_bidirectional else enc_dim`. \r\n",
        "\r\n",
        "This seq2seq encapsulator is similar to the last two. The only difference is that the `encoder` returns both the final hidden state (which is the final hidden state from both the forward and backward encoder RNNs passed through a linear layer) to be used as the initial hidden state for the decoder, as well as every hidden state (which are the forward and backward hidden states stacked on top of each other). We also need to ensure that `hidden` and `encoder_outputs` are passed to the decoder. \r\n",
        "\r\n",
        "Briefly going over all of the steps:\r\n",
        "- the `outputs` tensor is created to hold all predictions, $\\hat{Y}$\r\n",
        "- the source sequence, $X$, is fed into the encoder to receive $z$ and $H$\r\n",
        "- the initial decoder hidden state is set to be the `context` vector, $s_0 = z = h_T$\r\n",
        "- we use a batch of `<sos>` tokens as the first `input`, $y_1$\r\n",
        "- we then decode within a loop:\r\n",
        "  - inserting the input token $y_t$, previous hidden state, $s_{t-1}$, and all encoder outputs, $H$, into the decoder\r\n",
        "  - receiving a prediction, $\\hat{y}_{t+1}$, and a new hidden state, $s_t$\r\n",
        "  - we then decide if we are going to teacher force or not, setting the next input as appropriate"
      ]
    },
    {
      "cell_type": "code",
      "metadata": {
        "id": "UwSL9NNyI0aS"
      },
      "source": [
        "class Seq2Seq(torch.nn.Module):\r\n",
        "\r\n",
        "  def __init__(self, encoder, decoder, src_pad_idx, device):\r\n",
        "    super().__init__()\r\n",
        "\r\n",
        "    self.encoder = encoder\r\n",
        "    self.decoder = decoder\r\n",
        "    self.device = device\r\n",
        "\r\n",
        "    self.src_pad_idx = src_pad_idx\r\n",
        "\r\n",
        "  def create_mask(self, src):\r\n",
        "    mask = (src != self.src_pad_idx)\r\n",
        "    # mask -> [src len, batch size]\r\n",
        "    return mask\r\n",
        "\r\n",
        "  def forward(self, src, src_len, trg, teacher_forcing_ratio=0.5):\r\n",
        "\r\n",
        "    # src -> [src len, batch size]\r\n",
        "    # trg -> [trg len, batch size]\r\n",
        "\r\n",
        "    batch_size = trg.shape[1]\r\n",
        "    trg_len = trg.shape[0]\r\n",
        "    trg_vocab_size = self.decoder.output_dim\r\n",
        "\r\n",
        "    # decoder outputs\r\n",
        "    outputs = torch.zeros(trg_len, batch_size, trg_vocab_size).to(self.device)\r\n",
        "\r\n",
        "    # pass src through encoder\r\n",
        "    encoder_outputs, hidden = self.encoder(src, src_len)\r\n",
        "    # encoder_outputs -> [src len, batch size, enc_hid_dim * 2]\r\n",
        "    # hidden -> [batch size, dec_hid_him]\r\n",
        "\r\n",
        "    input = trg[0, :]\r\n",
        "    # input -> [batch size]\r\n",
        "\r\n",
        "    mask = self.create_mask(src)\r\n",
        "\r\n",
        "    for t in range(1, trg_len):\r\n",
        "\r\n",
        "      output, hidden, attn = self.decoder(input, encoder_outputs, hidden, mask)\r\n",
        "      # output -> [batch size, output_dim]\r\n",
        "      # hidden -> [batch size, dec_hid_dim]\r\n",
        "      # attn -> [batch size, src len]\r\n",
        "\r\n",
        "      outputs[t] = output\r\n",
        "\r\n",
        "      teacher_force = random.random() < teacher_forcing_ratio\r\n",
        "\r\n",
        "      top1 = output.argmax(1)\r\n",
        "      # top1 -> [batch size]\r\n",
        "\r\n",
        "      input = trg[t] if teacher_force else top1\r\n",
        "\r\n",
        "    return outputs\r\n",
        "    \r\n"
      ],
      "execution_count": 85,
      "outputs": []
    },
    {
      "cell_type": "markdown",
      "metadata": {
        "id": "ocCdICWkNaSO"
      },
      "source": [
        "Initialize weights to the model"
      ]
    },
    {
      "cell_type": "code",
      "metadata": {
        "id": "SL_wbJJJI2kW"
      },
      "source": [
        "def init_weights(m):\r\n",
        "  for name, param in m.named_parameters():\r\n",
        "    if 'weight' in name:\r\n",
        "      torch.nn.init.normal_(param.data, mean=0, std=0.01)\r\n",
        "    else:\r\n",
        "      torch.nn.init.constant_(param.data, 0)\r\n",
        "\r\n",
        "def count_parameters(model):\r\n",
        "  return sum(p.numel() for p in model.parameters() if p.requires_grad)\r\n",
        "\r\n",
        "def epoch_time(start_time, end_time):\r\n",
        "  elapsed_time = end_time - start_time\r\n",
        "  elapsed_mins = int(elapsed_time / 60)\r\n",
        "  elapsed_secs = int(elapsed_time - (elapsed_mins * 60))\r\n",
        "  return elapsed_mins, elapsed_secs"
      ],
      "execution_count": 86,
      "outputs": []
    },
    {
      "cell_type": "markdown",
      "metadata": {
        "id": "xLwq7A6UNY9-"
      },
      "source": [
        "## Training the Seq2Seq Model\r\n",
        "\r\n",
        "\r\n",
        "We initialise our parameters, encoder, decoder and seq2seq model (placing it on the GPU if we have one). "
      ]
    },
    {
      "cell_type": "code",
      "metadata": {
        "colab": {
          "base_uri": "https://localhost:8080/"
        },
        "id": "5vfZlMTXI53-",
        "outputId": "21a7f3ac-1c7e-4b43-a7e5-7368fc06fd11"
      },
      "source": [
        "INPUT_DIM = len(SRC.vocab)\r\n",
        "OUTPUT_DIM = len(TRG.vocab)\r\n",
        "ENC_EMB_DIM = 128\r\n",
        "DEC_EMB_DIM = 128\r\n",
        "ENC_HID_DIM = 128\r\n",
        "DEC_HID_HIM = 128\r\n",
        "\r\n",
        "DROPOUT = 0.2\r\n",
        "\r\n",
        "src_pad_idx = SRC.vocab.stoi[SRC.pad_token]\r\n",
        "\r\n",
        "enc = Encoder(INPUT_DIM, ENC_EMB_DIM, ENC_HID_DIM, DEC_HID_HIM, DROPOUT)\r\n",
        "attn = Attention(ENC_HID_DIM, DEC_HID_HIM)\r\n",
        "dec = Decoder(OUTPUT_DIM, DEC_EMB_DIM, ENC_HID_DIM, DEC_HID_HIM, DROPOUT, attn)\r\n",
        "\r\n",
        "model = Seq2Seq(enc, dec, src_pad_idx, device).to(device)\r\n",
        "model.apply(init_weights)\r\n",
        "\r\n",
        "print(f'Model parameters: {count_parameters(model):,}')"
      ],
      "execution_count": 87,
      "outputs": [
        {
          "output_type": "stream",
          "text": [
            "Model parameters: 6,267,183\n"
          ],
          "name": "stdout"
        }
      ]
    },
    {
      "cell_type": "code",
      "metadata": {
        "colab": {
          "base_uri": "https://localhost:8080/"
        },
        "id": "bk4pwE5iJqOZ",
        "outputId": "5ff3d630-5c06-4ae9-f162-0fe20732fcb8"
      },
      "source": [
        "model"
      ],
      "execution_count": 88,
      "outputs": [
        {
          "output_type": "execute_result",
          "data": {
            "text/plain": [
              "Seq2Seq(\n",
              "  (encoder): Encoder(\n",
              "    (embedding): Embedding(5893, 128)\n",
              "    (rnn): GRU(128, 128, bidirectional=True)\n",
              "    (fc): Linear(in_features=256, out_features=128, bias=True)\n",
              "    (dropout): Dropout(p=0.2, inplace=False)\n",
              "  )\n",
              "  (decoder): Decoder(\n",
              "    (embedding): Embedding(7855, 128)\n",
              "    (rnn): GRU(384, 128)\n",
              "    (fc): Linear(in_features=512, out_features=7855, bias=True)\n",
              "    (dropout): Dropout(p=0.2, inplace=False)\n",
              "    (attn): Attention(\n",
              "      (attn): Linear(in_features=384, out_features=128, bias=True)\n",
              "      (v): Linear(in_features=128, out_features=1, bias=False)\n",
              "    )\n",
              "  )\n",
              ")"
            ]
          },
          "metadata": {
            "tags": []
          },
          "execution_count": 88
        }
      ]
    },
    {
      "cell_type": "markdown",
      "metadata": {
        "id": "okbLNkjmNu5Z"
      },
      "source": [
        "We create an optimizer."
      ]
    },
    {
      "cell_type": "code",
      "metadata": {
        "id": "oc8wcbRdJvqs"
      },
      "source": [
        "optimizer = optim.Adam(model.parameters())"
      ],
      "execution_count": 89,
      "outputs": []
    },
    {
      "cell_type": "markdown",
      "metadata": {
        "id": "wyVNdxX9Nv4y"
      },
      "source": [
        "We initialize the loss function."
      ]
    },
    {
      "cell_type": "code",
      "metadata": {
        "id": "pR5hkJj4J__H"
      },
      "source": [
        "TRG_PAD_IDX = TRG.vocab.stoi[TRG.pad_token]\r\n",
        "criterion = torch.nn.CrossEntropyLoss(ignore_index=TRG_PAD_IDX)"
      ],
      "execution_count": 90,
      "outputs": []
    },
    {
      "cell_type": "markdown",
      "metadata": {
        "id": "DfvDY_euNz1V"
      },
      "source": [
        "We then create the training loop..."
      ]
    },
    {
      "cell_type": "code",
      "metadata": {
        "id": "oRdZJNMSKBsZ"
      },
      "source": [
        "def train(model, iterator, optimizer, criterion, clip):\r\n",
        "    \r\n",
        "    model.train()\r\n",
        "    \r\n",
        "    epoch_loss = 0\r\n",
        "    \r\n",
        "    for i, batch in enumerate(iterator):\r\n",
        "        \r\n",
        "        src, src_len = batch.src\r\n",
        "        trg = batch.trg\r\n",
        "        \r\n",
        "        optimizer.zero_grad()\r\n",
        "        \r\n",
        "        output = model(src, src_len, trg)\r\n",
        "        \r\n",
        "        #trg = [trg len, batch size]\r\n",
        "        #output = [trg len, batch size, output dim]\r\n",
        "        \r\n",
        "        output_dim = output.shape[-1]\r\n",
        "        \r\n",
        "        output = output[1:].view(-1, output_dim)\r\n",
        "        trg = trg[1:].view(-1)\r\n",
        "        \r\n",
        "        #trg = [(trg len - 1) * batch size]\r\n",
        "        #output = [(trg len - 1) * batch size, output dim]\r\n",
        "        \r\n",
        "        loss = criterion(output, trg)\r\n",
        "        \r\n",
        "        loss.backward()\r\n",
        "        \r\n",
        "        torch.nn.utils.clip_grad_norm_(model.parameters(), clip)\r\n",
        "        \r\n",
        "        optimizer.step()\r\n",
        "        \r\n",
        "        epoch_loss += loss.item()\r\n",
        "        \r\n",
        "    return epoch_loss / len(iterator)"
      ],
      "execution_count": 91,
      "outputs": []
    },
    {
      "cell_type": "markdown",
      "metadata": {
        "id": "nV2vfPrnN2SM"
      },
      "source": [
        "...and the evaluation loop, remembering to set the model to `eval` mode and turn off teaching forcing."
      ]
    },
    {
      "cell_type": "code",
      "metadata": {
        "id": "lNHsmsQdKEWW"
      },
      "source": [
        "def evaluate(model, iterator, criterion):\r\n",
        "    \r\n",
        "    model.eval()\r\n",
        "    \r\n",
        "    epoch_loss = 0\r\n",
        "    \r\n",
        "    with torch.no_grad():\r\n",
        "    \r\n",
        "        for i, batch in enumerate(iterator):\r\n",
        "\r\n",
        "            src, src_len = batch.src\r\n",
        "            trg = batch.trg\r\n",
        "\r\n",
        "            output = model(src, src_len, trg, 0) #turn off teacher forcing\r\n",
        "\r\n",
        "            #trg = [trg len, batch size]\r\n",
        "            #output = [trg len, batch size, output dim]\r\n",
        "\r\n",
        "            output_dim = output.shape[-1]\r\n",
        "            \r\n",
        "            output = output[1:].view(-1, output_dim)\r\n",
        "            trg = trg[1:].view(-1)\r\n",
        "\r\n",
        "            #trg = [(trg len - 1) * batch size]\r\n",
        "            #output = [(trg len - 1) * batch size, output dim]\r\n",
        "\r\n",
        "            loss = criterion(output, trg)\r\n",
        "\r\n",
        "            epoch_loss += loss.item()\r\n",
        "        \r\n",
        "    return epoch_loss / len(iterator)"
      ],
      "execution_count": 92,
      "outputs": []
    },
    {
      "cell_type": "markdown",
      "metadata": {
        "id": "muZIaV6NN7a-"
      },
      "source": [
        "Then, we train our model, saving the parameters that give us the best validation loss."
      ]
    },
    {
      "cell_type": "code",
      "metadata": {
        "colab": {
          "base_uri": "https://localhost:8080/"
        },
        "id": "pCQYvshDKGhg",
        "outputId": "dfb1f3af-140e-4e6f-ae82-8b28287369bf"
      },
      "source": [
        "N_EPOCHS = 20\r\n",
        "CLIP = 1\r\n",
        "\r\n",
        "best_valid_loss = float('inf')\r\n",
        "\r\n",
        "for epoch in range(N_EPOCHS):\r\n",
        "    \r\n",
        "    start_time = time.time()\r\n",
        "    \r\n",
        "    train_loss = train(model, train_iterator, optimizer, criterion, CLIP)\r\n",
        "    valid_loss = evaluate(model, valid_iterator, criterion)\r\n",
        "    \r\n",
        "    end_time = time.time()\r\n",
        "    \r\n",
        "    epoch_mins, epoch_secs = epoch_time(start_time, end_time)\r\n",
        "    \r\n",
        "    if valid_loss < best_valid_loss:\r\n",
        "        best_valid_loss = valid_loss\r\n",
        "        torch.save(model.state_dict(), 'tut3-model.pt')\r\n",
        "    \r\n",
        "    print(f'Epoch: {epoch+1:02} | Time: {epoch_mins}m {epoch_secs}s')\r\n",
        "    print(f'\\tTrain Loss: {train_loss:.3f} | Train PPL: {math.exp(train_loss):7.3f}')\r\n",
        "    print(f'\\t Val. Loss: {valid_loss:.3f} |  Val. PPL: {math.exp(valid_loss):7.3f}')"
      ],
      "execution_count": 93,
      "outputs": [
        {
          "output_type": "stream",
          "text": [
            "Epoch: 01 | Time: 0m 40s\n",
            "\tTrain Loss: 5.382 | Train PPL: 217.490\n",
            "\t Val. Loss: 5.072 |  Val. PPL: 159.510\n",
            "Epoch: 02 | Time: 0m 41s\n",
            "\tTrain Loss: 4.519 | Train PPL:  91.749\n",
            "\t Val. Loss: 4.903 |  Val. PPL: 134.676\n",
            "Epoch: 03 | Time: 0m 41s\n",
            "\tTrain Loss: 4.292 | Train PPL:  73.102\n",
            "\t Val. Loss: 4.784 |  Val. PPL: 119.631\n",
            "Epoch: 04 | Time: 0m 41s\n",
            "\tTrain Loss: 4.086 | Train PPL:  59.510\n",
            "\t Val. Loss: 4.702 |  Val. PPL: 110.113\n",
            "Epoch: 05 | Time: 0m 41s\n",
            "\tTrain Loss: 3.891 | Train PPL:  48.950\n",
            "\t Val. Loss: 4.584 |  Val. PPL:  97.879\n",
            "Epoch: 06 | Time: 0m 42s\n",
            "\tTrain Loss: 3.650 | Train PPL:  38.459\n",
            "\t Val. Loss: 4.314 |  Val. PPL:  74.707\n",
            "Epoch: 07 | Time: 0m 41s\n",
            "\tTrain Loss: 3.397 | Train PPL:  29.863\n",
            "\t Val. Loss: 4.108 |  Val. PPL:  60.809\n",
            "Epoch: 08 | Time: 0m 41s\n",
            "\tTrain Loss: 3.109 | Train PPL:  22.401\n",
            "\t Val. Loss: 4.024 |  Val. PPL:  55.907\n",
            "Epoch: 09 | Time: 0m 41s\n",
            "\tTrain Loss: 2.899 | Train PPL:  18.158\n",
            "\t Val. Loss: 3.824 |  Val. PPL:  45.780\n",
            "Epoch: 10 | Time: 0m 41s\n",
            "\tTrain Loss: 2.711 | Train PPL:  15.038\n",
            "\t Val. Loss: 3.676 |  Val. PPL:  39.504\n",
            "Epoch: 11 | Time: 0m 41s\n",
            "\tTrain Loss: 2.545 | Train PPL:  12.745\n",
            "\t Val. Loss: 3.667 |  Val. PPL:  39.140\n",
            "Epoch: 12 | Time: 0m 41s\n",
            "\tTrain Loss: 2.389 | Train PPL:  10.905\n",
            "\t Val. Loss: 3.639 |  Val. PPL:  38.037\n",
            "Epoch: 13 | Time: 0m 41s\n",
            "\tTrain Loss: 2.252 | Train PPL:   9.507\n",
            "\t Val. Loss: 3.555 |  Val. PPL:  35.002\n",
            "Epoch: 14 | Time: 0m 41s\n",
            "\tTrain Loss: 2.151 | Train PPL:   8.598\n",
            "\t Val. Loss: 3.568 |  Val. PPL:  35.453\n",
            "Epoch: 15 | Time: 0m 41s\n",
            "\tTrain Loss: 2.055 | Train PPL:   7.806\n",
            "\t Val. Loss: 3.488 |  Val. PPL:  32.733\n",
            "Epoch: 16 | Time: 0m 41s\n",
            "\tTrain Loss: 1.947 | Train PPL:   7.011\n",
            "\t Val. Loss: 3.527 |  Val. PPL:  34.022\n",
            "Epoch: 17 | Time: 0m 41s\n",
            "\tTrain Loss: 1.862 | Train PPL:   6.436\n",
            "\t Val. Loss: 3.474 |  Val. PPL:  32.252\n",
            "Epoch: 18 | Time: 0m 41s\n",
            "\tTrain Loss: 1.765 | Train PPL:   5.840\n",
            "\t Val. Loss: 3.502 |  Val. PPL:  33.175\n",
            "Epoch: 19 | Time: 0m 41s\n",
            "\tTrain Loss: 1.699 | Train PPL:   5.468\n",
            "\t Val. Loss: 3.490 |  Val. PPL:  32.795\n",
            "Epoch: 20 | Time: 0m 41s\n",
            "\tTrain Loss: 1.643 | Train PPL:   5.173\n",
            "\t Val. Loss: 3.529 |  Val. PPL:  34.103\n"
          ],
          "name": "stdout"
        }
      ]
    },
    {
      "cell_type": "markdown",
      "metadata": {
        "id": "gwu_m_DPQFWP"
      },
      "source": [
        "We'll load the parameters (state_dict) that gave our model the best validation loss and run it the model on the test set."
      ]
    },
    {
      "cell_type": "code",
      "metadata": {
        "colab": {
          "base_uri": "https://localhost:8080/"
        },
        "id": "o6zKHyYKKJWP",
        "outputId": "b4ead99f-2849-4b33-e73b-617abc48a618"
      },
      "source": [
        "model.load_state_dict(torch.load('tut3-model.pt'))\r\n",
        "\r\n",
        "test_loss = evaluate(model, test_iterator, criterion)\r\n",
        "\r\n",
        "print(f'| Test Loss: {test_loss:.3f} |  Test PPL: {math.exp(test_loss):7.3f} |')"
      ],
      "execution_count": 94,
      "outputs": [
        {
          "output_type": "stream",
          "text": [
            "| Test Loss: 3.527 |  Test PPL:  34.022 |\n"
          ],
          "name": "stdout"
        }
      ]
    },
    {
      "cell_type": "code",
      "metadata": {
        "id": "Mm2i_2pvUOXs"
      },
      "source": [
        "import matplotlib.pyplot as plt\r\n",
        "from matplotlib import ticker"
      ],
      "execution_count": 95,
      "outputs": []
    },
    {
      "cell_type": "code",
      "metadata": {
        "id": "7NFMvuXEUPU1"
      },
      "source": [
        "import matplotlib.pyplot as plt\r\n",
        "from matplotlib import ticker\r\n",
        "\r\n",
        "def display_attention(sentence, translation, attention):\r\n",
        "\r\n",
        "  fig = plt.figure(figsize=(10, 10))\r\n",
        "  ax = fig.add_subplot(111)\r\n",
        "\r\n",
        "  attention = attention.squeeze(1).cpu().detach().numpy()\r\n",
        "\r\n",
        "  cax = ax.matshow(attention, cmap='bone')\r\n",
        "\r\n",
        "  ax.tick_params(labelsize=15)\r\n",
        "  ax.set_xticklabels(['']+['<sos>']+[t.lower() for t in sentence]+['<eos>'], rotation=45)\r\n",
        "  ax.set_yticklabels(['']+translation)\r\n",
        "\r\n",
        "  ax.xaxis.set_major_locator(ticker.MultipleLocator(1))\r\n",
        "  ax.yaxis.set_major_locator(ticker.MultipleLocator(1))\r\n",
        "\r\n",
        "  plt.show()\r\n",
        "  plt.close()"
      ],
      "execution_count": 96,
      "outputs": []
    },
    {
      "cell_type": "code",
      "metadata": {
        "id": "CN263C8IUQv0"
      },
      "source": [
        "def translate_sentence(sentence, src_field, trg_field, model, device, max_len=50):\r\n",
        "\r\n",
        "  model.eval()\r\n",
        "\r\n",
        "  if isinstance(sentence, str):\r\n",
        "    nlp = spacy.load('en')\r\n",
        "    tokens = [token.text.lower() for token in nlp(sentence)]\r\n",
        "  else:\r\n",
        "    tokens = [token.lower() for token in sentence]\r\n",
        "\r\n",
        "  tokens = [src_field.init_token] + tokens + [src_field.eos_token]\r\n",
        "\r\n",
        "  src_indexes = [src_field.vocab.stoi[token] for token in tokens]\r\n",
        "\r\n",
        "  src_tensor = torch.LongTensor(src_indexes).unsqueeze(1).to(device)\r\n",
        "\r\n",
        "  src_len = torch.LongTensor([len(src_indexes)]).to(device)\r\n",
        "\r\n",
        "  with torch.no_grad():\r\n",
        "    encoder_outputs, hidden = model.encoder(src_tensor, src_len)\r\n",
        "\r\n",
        "  mask = model.create_mask(src_tensor)\r\n",
        "\r\n",
        "  trg_indexes = [trg_field.vocab.stoi[trg_field.init_token]]\r\n",
        "\r\n",
        "  attentions = torch.zeros(max_len, 1, len(src_indexes)).to(device)\r\n",
        "\r\n",
        "  for i in range(max_len):\r\n",
        "\r\n",
        "    trg_tensor = torch.LongTensor([trg_indexes[-1]]).to(device)\r\n",
        "\r\n",
        "    with torch.no_grad():\r\n",
        "      output, hidden, attention = model.decoder(trg_tensor, encoder_outputs, hidden, mask)\r\n",
        "\r\n",
        "      attentions[i] = attention\r\n",
        "\r\n",
        "      pred_token = output.argmax(1).item()\r\n",
        "\r\n",
        "      trg_indexes.append(pred_token)\r\n",
        "\r\n",
        "      if pred_token == trg_field.vocab.stoi[trg_field.eos_token]:\r\n",
        "        break\r\n",
        "\r\n",
        "  trg_tokens = [trg_field.vocab.itos[i] for i in trg_indexes]\r\n",
        "\r\n",
        "  return trg_tokens[1:], attentions[:len(trg_tokens)-1]"
      ],
      "execution_count": 97,
      "outputs": []
    },
    {
      "cell_type": "code",
      "metadata": {
        "id": "vfSfAG0fUR79"
      },
      "source": [
        "def translate_and_display_attention(idx):\r\n",
        "\r\n",
        "  src = vars(train_data.examples[idx])['src']\r\n",
        "  trg = vars(train_data.examples[idx])['trg']\r\n",
        "\r\n",
        "  print(f'src: ${src}')\r\n",
        "  print(f'trg: ${trg}')\r\n",
        "\r\n",
        "  translation, attention = translate_sentence(src, SRC, TRG, model, device)\r\n",
        "\r\n",
        "  print(f'predicted: {translation}')\r\n",
        "\r\n",
        "  display_attention(src, translation, attention)"
      ],
      "execution_count": 98,
      "outputs": []
    },
    {
      "cell_type": "code",
      "metadata": {
        "colab": {
          "base_uri": "https://localhost:8080/",
          "height": 554
        },
        "id": "1tJ6KJrdaAEe",
        "outputId": "5a33acee-f1c3-44a6-8513-563a196e6da6"
      },
      "source": [
        "translate_and_display_attention(11)"
      ],
      "execution_count": 101,
      "outputs": [
        {
          "output_type": "stream",
          "text": [
            "src: $['four', 'guys', 'three', 'wearing', 'hats', 'one', 'not', 'are', 'jumping', 'at', 'the', 'top', 'of', 'a', 'staircase', '.']\n",
            "trg: $['.', 'treppenhaus', 'einem', 'in', 'oben', 'springen', ',', 'nicht', 'einer', 'und', 'tragen', 'hüte', 'drei', 'denen', 'von', ',', 'typen', 'vier']\n",
            "predicted: ['.', 'treppenhaus', 'einem', 'auf', 'oben', 'springen', 'springen', 'oberkörper', 'nacktem', 'mit', 'männer', 'drei', '<eos>']\n"
          ],
          "name": "stdout"
        },
        {
          "output_type": "display_data",
          "data": {
            "image/png": "[encoded data removed]",
            "text/plain": [
              "<Figure size 720x720 with 1 Axes>"
            ]
          },
          "metadata": {
            "tags": [],
            "needs_background": "light"
          }
        }
      ]
    },
    {
      "cell_type": "code",
      "metadata": {
        "colab": {
          "base_uri": "https://localhost:8080/",
          "height": 589
        },
        "id": "EOxnXLLeaSsr",
        "outputId": "0fb37597-06b6-475d-e9fd-1e778df864fc"
      },
      "source": [
        "translate_and_display_attention(66)"
      ],
      "execution_count": 102,
      "outputs": [
        {
          "output_type": "stream",
          "text": [
            "src: $['a', 'dog', 'is', 'playing', 'with', 'a', 'hose', '.']\n",
            "trg: $['.', 'schlauch', 'einem', 'mit', 'spielt', 'hund', 'ein']\n",
            "predicted: ['.', 'schlauch', 'einem', 'mit', 'spielt', 'hund', 'ein', '<eos>']\n"
          ],
          "name": "stdout"
        },
        {
          "output_type": "display_data",
          "data": {
            "image/png": "[encoded data removed]",
            "text/plain": [
              "<Figure size 720x720 with 1 Axes>"
            ]
          },
          "metadata": {
            "tags": [],
            "needs_background": "light"
          }
        }
      ]
    },
    {
      "cell_type": "code",
      "metadata": {
        "id": "ji_U7MB7UTG0"
      },
      "source": [
        "from torchtext.data.metrics import bleu_score\r\n",
        "\r\n",
        "def calculate_bleu(data, src_field, trg_field, model, device, max_len = 50):\r\n",
        "\r\n",
        "  trgs = []\r\n",
        "  pred_trgs = []\r\n",
        "\r\n",
        "  for datum in data:\r\n",
        "\r\n",
        "    src = vars(datum)['src']\r\n",
        "    trg = vars(datum)['trg']\r\n",
        "\r\n",
        "    pred_trg, _ = translate_sentence(src, SRC, TRG, model, device, max_len)\r\n",
        "\r\n",
        "    pred_trg = pred_trg[:-1]\r\n",
        "\r\n",
        "    pred_trgs.append(pred_trg)\r\n",
        "    trgs.append([trg])\r\n",
        "\r\n",
        "  return bleu_score(pred_trgs, trgs)"
      ],
      "execution_count": 103,
      "outputs": []
    },
    {
      "cell_type": "code",
      "metadata": {
        "colab": {
          "base_uri": "https://localhost:8080/"
        },
        "id": "1epyNHsqUWfV",
        "outputId": "ee15c016-17ca-4b86-da8b-fe20227c1beb"
      },
      "source": [
        "bleu_score = calculate_bleu(test_data, SRC, TRG, model, device)\r\n",
        "\r\n",
        "print(f'BLEU score = {bleu_score*100:.2f}')"
      ],
      "execution_count": 104,
      "outputs": [
        {
          "output_type": "stream",
          "text": [
            "BLEU score = 26.83\n"
          ],
          "name": "stdout"
        }
      ]
    }
  ]
}